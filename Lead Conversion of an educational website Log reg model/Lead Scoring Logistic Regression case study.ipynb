{
 "cells": [
  {
   "cell_type": "markdown",
   "id": "80075000",
   "metadata": {},
   "source": [
    "### Lead Scoring Case Study"
   ]
  },
  {
   "cell_type": "code",
   "execution_count": 473,
   "id": "c357625b",
   "metadata": {},
   "outputs": [],
   "source": [
    "#import libraries\n",
    "\n",
    "import numpy as np, pandas as pd\n",
    "import matplotlib.pyplot as plt\n",
    "import seaborn as sns\n",
    "\n",
    "import warnings\n",
    "warnings.filterwarnings('ignore')\n",
    "\n",
    "from sklearn.model_selection import train_test_split\n",
    "from sklearn.preprocessing import StandardScaler"
   ]
  },
  {
   "cell_type": "code",
   "execution_count": 474,
   "id": "7423d1b2",
   "metadata": {
    "scrolled": true
   },
   "outputs": [
    {
     "data": {
      "text/html": [
       "<div>\n",
       "<style scoped>\n",
       "    .dataframe tbody tr th:only-of-type {\n",
       "        vertical-align: middle;\n",
       "    }\n",
       "\n",
       "    .dataframe tbody tr th {\n",
       "        vertical-align: top;\n",
       "    }\n",
       "\n",
       "    .dataframe thead th {\n",
       "        text-align: right;\n",
       "    }\n",
       "</style>\n",
       "<table border=\"1\" class=\"dataframe\">\n",
       "  <thead>\n",
       "    <tr style=\"text-align: right;\">\n",
       "      <th></th>\n",
       "      <th>Prospect ID</th>\n",
       "      <th>Lead Number</th>\n",
       "      <th>Lead Origin</th>\n",
       "      <th>Lead Source</th>\n",
       "      <th>Do Not Email</th>\n",
       "      <th>Do Not Call</th>\n",
       "      <th>Converted</th>\n",
       "      <th>TotalVisits</th>\n",
       "      <th>Total Time Spent on Website</th>\n",
       "      <th>Page Views Per Visit</th>\n",
       "      <th>...</th>\n",
       "      <th>Get updates on DM Content</th>\n",
       "      <th>Lead Profile</th>\n",
       "      <th>City</th>\n",
       "      <th>Asymmetrique Activity Index</th>\n",
       "      <th>Asymmetrique Profile Index</th>\n",
       "      <th>Asymmetrique Activity Score</th>\n",
       "      <th>Asymmetrique Profile Score</th>\n",
       "      <th>I agree to pay the amount through cheque</th>\n",
       "      <th>A free copy of Mastering The Interview</th>\n",
       "      <th>Last Notable Activity</th>\n",
       "    </tr>\n",
       "  </thead>\n",
       "  <tbody>\n",
       "    <tr>\n",
       "      <th>0</th>\n",
       "      <td>7927b2df-8bba-4d29-b9a2-b6e0beafe620</td>\n",
       "      <td>660737</td>\n",
       "      <td>API</td>\n",
       "      <td>Olark Chat</td>\n",
       "      <td>No</td>\n",
       "      <td>No</td>\n",
       "      <td>0</td>\n",
       "      <td>0.0</td>\n",
       "      <td>0</td>\n",
       "      <td>0.0</td>\n",
       "      <td>...</td>\n",
       "      <td>No</td>\n",
       "      <td>Select</td>\n",
       "      <td>Select</td>\n",
       "      <td>02.Medium</td>\n",
       "      <td>02.Medium</td>\n",
       "      <td>15.0</td>\n",
       "      <td>15.0</td>\n",
       "      <td>No</td>\n",
       "      <td>No</td>\n",
       "      <td>Modified</td>\n",
       "    </tr>\n",
       "    <tr>\n",
       "      <th>1</th>\n",
       "      <td>2a272436-5132-4136-86fa-dcc88c88f482</td>\n",
       "      <td>660728</td>\n",
       "      <td>API</td>\n",
       "      <td>Organic Search</td>\n",
       "      <td>No</td>\n",
       "      <td>No</td>\n",
       "      <td>0</td>\n",
       "      <td>5.0</td>\n",
       "      <td>674</td>\n",
       "      <td>2.5</td>\n",
       "      <td>...</td>\n",
       "      <td>No</td>\n",
       "      <td>Select</td>\n",
       "      <td>Select</td>\n",
       "      <td>02.Medium</td>\n",
       "      <td>02.Medium</td>\n",
       "      <td>15.0</td>\n",
       "      <td>15.0</td>\n",
       "      <td>No</td>\n",
       "      <td>No</td>\n",
       "      <td>Email Opened</td>\n",
       "    </tr>\n",
       "    <tr>\n",
       "      <th>2</th>\n",
       "      <td>8cc8c611-a219-4f35-ad23-fdfd2656bd8a</td>\n",
       "      <td>660727</td>\n",
       "      <td>Landing Page Submission</td>\n",
       "      <td>Direct Traffic</td>\n",
       "      <td>No</td>\n",
       "      <td>No</td>\n",
       "      <td>1</td>\n",
       "      <td>2.0</td>\n",
       "      <td>1532</td>\n",
       "      <td>2.0</td>\n",
       "      <td>...</td>\n",
       "      <td>No</td>\n",
       "      <td>Potential Lead</td>\n",
       "      <td>Mumbai</td>\n",
       "      <td>02.Medium</td>\n",
       "      <td>01.High</td>\n",
       "      <td>14.0</td>\n",
       "      <td>20.0</td>\n",
       "      <td>No</td>\n",
       "      <td>Yes</td>\n",
       "      <td>Email Opened</td>\n",
       "    </tr>\n",
       "    <tr>\n",
       "      <th>3</th>\n",
       "      <td>0cc2df48-7cf4-4e39-9de9-19797f9b38cc</td>\n",
       "      <td>660719</td>\n",
       "      <td>Landing Page Submission</td>\n",
       "      <td>Direct Traffic</td>\n",
       "      <td>No</td>\n",
       "      <td>No</td>\n",
       "      <td>0</td>\n",
       "      <td>1.0</td>\n",
       "      <td>305</td>\n",
       "      <td>1.0</td>\n",
       "      <td>...</td>\n",
       "      <td>No</td>\n",
       "      <td>Select</td>\n",
       "      <td>Mumbai</td>\n",
       "      <td>02.Medium</td>\n",
       "      <td>01.High</td>\n",
       "      <td>13.0</td>\n",
       "      <td>17.0</td>\n",
       "      <td>No</td>\n",
       "      <td>No</td>\n",
       "      <td>Modified</td>\n",
       "    </tr>\n",
       "    <tr>\n",
       "      <th>4</th>\n",
       "      <td>3256f628-e534-4826-9d63-4a8b88782852</td>\n",
       "      <td>660681</td>\n",
       "      <td>Landing Page Submission</td>\n",
       "      <td>Google</td>\n",
       "      <td>No</td>\n",
       "      <td>No</td>\n",
       "      <td>1</td>\n",
       "      <td>2.0</td>\n",
       "      <td>1428</td>\n",
       "      <td>1.0</td>\n",
       "      <td>...</td>\n",
       "      <td>No</td>\n",
       "      <td>Select</td>\n",
       "      <td>Mumbai</td>\n",
       "      <td>02.Medium</td>\n",
       "      <td>01.High</td>\n",
       "      <td>15.0</td>\n",
       "      <td>18.0</td>\n",
       "      <td>No</td>\n",
       "      <td>No</td>\n",
       "      <td>Modified</td>\n",
       "    </tr>\n",
       "  </tbody>\n",
       "</table>\n",
       "<p>5 rows × 37 columns</p>\n",
       "</div>"
      ],
      "text/plain": [
       "                            Prospect ID  Lead Number              Lead Origin  \\\n",
       "0  7927b2df-8bba-4d29-b9a2-b6e0beafe620       660737                      API   \n",
       "1  2a272436-5132-4136-86fa-dcc88c88f482       660728                      API   \n",
       "2  8cc8c611-a219-4f35-ad23-fdfd2656bd8a       660727  Landing Page Submission   \n",
       "3  0cc2df48-7cf4-4e39-9de9-19797f9b38cc       660719  Landing Page Submission   \n",
       "4  3256f628-e534-4826-9d63-4a8b88782852       660681  Landing Page Submission   \n",
       "\n",
       "      Lead Source Do Not Email Do Not Call  Converted  TotalVisits  \\\n",
       "0      Olark Chat           No          No          0          0.0   \n",
       "1  Organic Search           No          No          0          5.0   \n",
       "2  Direct Traffic           No          No          1          2.0   \n",
       "3  Direct Traffic           No          No          0          1.0   \n",
       "4          Google           No          No          1          2.0   \n",
       "\n",
       "   Total Time Spent on Website  Page Views Per Visit  ...  \\\n",
       "0                            0                   0.0  ...   \n",
       "1                          674                   2.5  ...   \n",
       "2                         1532                   2.0  ...   \n",
       "3                          305                   1.0  ...   \n",
       "4                         1428                   1.0  ...   \n",
       "\n",
       "  Get updates on DM Content    Lead Profile    City  \\\n",
       "0                        No          Select  Select   \n",
       "1                        No          Select  Select   \n",
       "2                        No  Potential Lead  Mumbai   \n",
       "3                        No          Select  Mumbai   \n",
       "4                        No          Select  Mumbai   \n",
       "\n",
       "  Asymmetrique Activity Index Asymmetrique Profile Index  \\\n",
       "0                   02.Medium                  02.Medium   \n",
       "1                   02.Medium                  02.Medium   \n",
       "2                   02.Medium                    01.High   \n",
       "3                   02.Medium                    01.High   \n",
       "4                   02.Medium                    01.High   \n",
       "\n",
       "  Asymmetrique Activity Score Asymmetrique Profile Score  \\\n",
       "0                        15.0                       15.0   \n",
       "1                        15.0                       15.0   \n",
       "2                        14.0                       20.0   \n",
       "3                        13.0                       17.0   \n",
       "4                        15.0                       18.0   \n",
       "\n",
       "  I agree to pay the amount through cheque  \\\n",
       "0                                       No   \n",
       "1                                       No   \n",
       "2                                       No   \n",
       "3                                       No   \n",
       "4                                       No   \n",
       "\n",
       "  A free copy of Mastering The Interview Last Notable Activity  \n",
       "0                                     No              Modified  \n",
       "1                                     No          Email Opened  \n",
       "2                                    Yes          Email Opened  \n",
       "3                                     No              Modified  \n",
       "4                                     No              Modified  \n",
       "\n",
       "[5 rows x 37 columns]"
      ]
     },
     "execution_count": 474,
     "metadata": {},
     "output_type": "execute_result"
    }
   ],
   "source": [
    "#read the dataset\n",
    "\n",
    "leads = pd.read_csv('Leads.csv')\n",
    "leads.head()"
   ]
  },
  {
   "cell_type": "code",
   "execution_count": 475,
   "id": "86315560",
   "metadata": {},
   "outputs": [
    {
     "data": {
      "text/plain": [
       "(9240, 37)"
      ]
     },
     "execution_count": 475,
     "metadata": {},
     "output_type": "execute_result"
    }
   ],
   "source": [
    "leads.shape "
   ]
  },
  {
   "cell_type": "code",
   "execution_count": 476,
   "id": "afbf4679",
   "metadata": {
    "scrolled": true
   },
   "outputs": [
    {
     "name": "stdout",
     "output_type": "stream",
     "text": [
      "<class 'pandas.core.frame.DataFrame'>\n",
      "RangeIndex: 9240 entries, 0 to 9239\n",
      "Data columns (total 37 columns):\n",
      " #   Column                                         Non-Null Count  Dtype  \n",
      "---  ------                                         --------------  -----  \n",
      " 0   Prospect ID                                    9240 non-null   object \n",
      " 1   Lead Number                                    9240 non-null   int64  \n",
      " 2   Lead Origin                                    9240 non-null   object \n",
      " 3   Lead Source                                    9204 non-null   object \n",
      " 4   Do Not Email                                   9240 non-null   object \n",
      " 5   Do Not Call                                    9240 non-null   object \n",
      " 6   Converted                                      9240 non-null   int64  \n",
      " 7   TotalVisits                                    9103 non-null   float64\n",
      " 8   Total Time Spent on Website                    9240 non-null   int64  \n",
      " 9   Page Views Per Visit                           9103 non-null   float64\n",
      " 10  Last Activity                                  9137 non-null   object \n",
      " 11  Country                                        6779 non-null   object \n",
      " 12  Specialization                                 7802 non-null   object \n",
      " 13  How did you hear about X Education             7033 non-null   object \n",
      " 14  What is your current occupation                6550 non-null   object \n",
      " 15  What matters most to you in choosing a course  6531 non-null   object \n",
      " 16  Search                                         9240 non-null   object \n",
      " 17  Magazine                                       9240 non-null   object \n",
      " 18  Newspaper Article                              9240 non-null   object \n",
      " 19  X Education Forums                             9240 non-null   object \n",
      " 20  Newspaper                                      9240 non-null   object \n",
      " 21  Digital Advertisement                          9240 non-null   object \n",
      " 22  Through Recommendations                        9240 non-null   object \n",
      " 23  Receive More Updates About Our Courses         9240 non-null   object \n",
      " 24  Tags                                           5887 non-null   object \n",
      " 25  Lead Quality                                   4473 non-null   object \n",
      " 26  Update me on Supply Chain Content              9240 non-null   object \n",
      " 27  Get updates on DM Content                      9240 non-null   object \n",
      " 28  Lead Profile                                   6531 non-null   object \n",
      " 29  City                                           7820 non-null   object \n",
      " 30  Asymmetrique Activity Index                    5022 non-null   object \n",
      " 31  Asymmetrique Profile Index                     5022 non-null   object \n",
      " 32  Asymmetrique Activity Score                    5022 non-null   float64\n",
      " 33  Asymmetrique Profile Score                     5022 non-null   float64\n",
      " 34  I agree to pay the amount through cheque       9240 non-null   object \n",
      " 35  A free copy of Mastering The Interview         9240 non-null   object \n",
      " 36  Last Notable Activity                          9240 non-null   object \n",
      "dtypes: float64(4), int64(3), object(30)\n",
      "memory usage: 2.6+ MB\n"
     ]
    }
   ],
   "source": [
    "leads.info()"
   ]
  },
  {
   "cell_type": "code",
   "execution_count": 477,
   "id": "057a4488",
   "metadata": {
    "scrolled": true
   },
   "outputs": [
    {
     "data": {
      "text/html": [
       "<div>\n",
       "<style scoped>\n",
       "    .dataframe tbody tr th:only-of-type {\n",
       "        vertical-align: middle;\n",
       "    }\n",
       "\n",
       "    .dataframe tbody tr th {\n",
       "        vertical-align: top;\n",
       "    }\n",
       "\n",
       "    .dataframe thead th {\n",
       "        text-align: right;\n",
       "    }\n",
       "</style>\n",
       "<table border=\"1\" class=\"dataframe\">\n",
       "  <thead>\n",
       "    <tr style=\"text-align: right;\">\n",
       "      <th></th>\n",
       "      <th>Lead Number</th>\n",
       "      <th>Converted</th>\n",
       "      <th>TotalVisits</th>\n",
       "      <th>Total Time Spent on Website</th>\n",
       "      <th>Page Views Per Visit</th>\n",
       "      <th>Asymmetrique Activity Score</th>\n",
       "      <th>Asymmetrique Profile Score</th>\n",
       "    </tr>\n",
       "  </thead>\n",
       "  <tbody>\n",
       "    <tr>\n",
       "      <th>count</th>\n",
       "      <td>9240.000000</td>\n",
       "      <td>9240.000000</td>\n",
       "      <td>9103.000000</td>\n",
       "      <td>9240.000000</td>\n",
       "      <td>9103.000000</td>\n",
       "      <td>5022.000000</td>\n",
       "      <td>5022.000000</td>\n",
       "    </tr>\n",
       "    <tr>\n",
       "      <th>mean</th>\n",
       "      <td>617188.435606</td>\n",
       "      <td>0.385390</td>\n",
       "      <td>3.445238</td>\n",
       "      <td>487.698268</td>\n",
       "      <td>2.362820</td>\n",
       "      <td>14.306252</td>\n",
       "      <td>16.344883</td>\n",
       "    </tr>\n",
       "    <tr>\n",
       "      <th>std</th>\n",
       "      <td>23405.995698</td>\n",
       "      <td>0.486714</td>\n",
       "      <td>4.854853</td>\n",
       "      <td>548.021466</td>\n",
       "      <td>2.161418</td>\n",
       "      <td>1.386694</td>\n",
       "      <td>1.811395</td>\n",
       "    </tr>\n",
       "    <tr>\n",
       "      <th>min</th>\n",
       "      <td>579533.000000</td>\n",
       "      <td>0.000000</td>\n",
       "      <td>0.000000</td>\n",
       "      <td>0.000000</td>\n",
       "      <td>0.000000</td>\n",
       "      <td>7.000000</td>\n",
       "      <td>11.000000</td>\n",
       "    </tr>\n",
       "    <tr>\n",
       "      <th>25%</th>\n",
       "      <td>596484.500000</td>\n",
       "      <td>0.000000</td>\n",
       "      <td>1.000000</td>\n",
       "      <td>12.000000</td>\n",
       "      <td>1.000000</td>\n",
       "      <td>14.000000</td>\n",
       "      <td>15.000000</td>\n",
       "    </tr>\n",
       "    <tr>\n",
       "      <th>50%</th>\n",
       "      <td>615479.000000</td>\n",
       "      <td>0.000000</td>\n",
       "      <td>3.000000</td>\n",
       "      <td>248.000000</td>\n",
       "      <td>2.000000</td>\n",
       "      <td>14.000000</td>\n",
       "      <td>16.000000</td>\n",
       "    </tr>\n",
       "    <tr>\n",
       "      <th>75%</th>\n",
       "      <td>637387.250000</td>\n",
       "      <td>1.000000</td>\n",
       "      <td>5.000000</td>\n",
       "      <td>936.000000</td>\n",
       "      <td>3.000000</td>\n",
       "      <td>15.000000</td>\n",
       "      <td>18.000000</td>\n",
       "    </tr>\n",
       "    <tr>\n",
       "      <th>max</th>\n",
       "      <td>660737.000000</td>\n",
       "      <td>1.000000</td>\n",
       "      <td>251.000000</td>\n",
       "      <td>2272.000000</td>\n",
       "      <td>55.000000</td>\n",
       "      <td>18.000000</td>\n",
       "      <td>20.000000</td>\n",
       "    </tr>\n",
       "  </tbody>\n",
       "</table>\n",
       "</div>"
      ],
      "text/plain": [
       "         Lead Number    Converted  TotalVisits  Total Time Spent on Website  \\\n",
       "count    9240.000000  9240.000000  9103.000000                  9240.000000   \n",
       "mean   617188.435606     0.385390     3.445238                   487.698268   \n",
       "std     23405.995698     0.486714     4.854853                   548.021466   \n",
       "min    579533.000000     0.000000     0.000000                     0.000000   \n",
       "25%    596484.500000     0.000000     1.000000                    12.000000   \n",
       "50%    615479.000000     0.000000     3.000000                   248.000000   \n",
       "75%    637387.250000     1.000000     5.000000                   936.000000   \n",
       "max    660737.000000     1.000000   251.000000                  2272.000000   \n",
       "\n",
       "       Page Views Per Visit  Asymmetrique Activity Score  \\\n",
       "count           9103.000000                  5022.000000   \n",
       "mean               2.362820                    14.306252   \n",
       "std                2.161418                     1.386694   \n",
       "min                0.000000                     7.000000   \n",
       "25%                1.000000                    14.000000   \n",
       "50%                2.000000                    14.000000   \n",
       "75%                3.000000                    15.000000   \n",
       "max               55.000000                    18.000000   \n",
       "\n",
       "       Asymmetrique Profile Score  \n",
       "count                 5022.000000  \n",
       "mean                    16.344883  \n",
       "std                      1.811395  \n",
       "min                     11.000000  \n",
       "25%                     15.000000  \n",
       "50%                     16.000000  \n",
       "75%                     18.000000  \n",
       "max                     20.000000  "
      ]
     },
     "execution_count": 477,
     "metadata": {},
     "output_type": "execute_result"
    }
   ],
   "source": [
    "leads.describe()"
   ]
  },
  {
   "cell_type": "code",
   "execution_count": 478,
   "id": "778ce167",
   "metadata": {},
   "outputs": [
    {
     "data": {
      "text/plain": [
       "0"
      ]
     },
     "execution_count": 478,
     "metadata": {},
     "output_type": "execute_result"
    }
   ],
   "source": [
    "sum(leads.duplicated(subset='Prospect ID'))"
   ]
  },
  {
   "cell_type": "markdown",
   "id": "1135fb1e",
   "metadata": {},
   "source": [
    "Input dataset contains 9240 rows and 37 features and there are no duplicates in the dataset.\n",
    "\n",
    "Moreover, it also shows that `Prospect ID` feature is unique for each row, hence they can be dropped"
   ]
  },
  {
   "cell_type": "code",
   "execution_count": 479,
   "id": "f4594339",
   "metadata": {
    "scrolled": true
   },
   "outputs": [
    {
     "data": {
      "text/plain": [
       "0    0.61461\n",
       "1    0.38539\n",
       "Name: Converted, dtype: float64"
      ]
     },
     "execution_count": 479,
     "metadata": {},
     "output_type": "execute_result"
    }
   ],
   "source": [
    "leads.Converted.value_counts(normalize=True)"
   ]
  },
  {
   "cell_type": "markdown",
   "id": "f03d665a",
   "metadata": {},
   "source": [
    "From the dataset, we can see that conversion rate is almost 39%"
   ]
  },
  {
   "cell_type": "code",
   "execution_count": 480,
   "id": "68741406",
   "metadata": {
    "scrolled": true
   },
   "outputs": [
    {
     "data": {
      "text/plain": [
       "Prospect ID                                       0.00\n",
       "Lead Number                                       0.00\n",
       "Lead Origin                                       0.00\n",
       "Lead Source                                       0.39\n",
       "Do Not Email                                      0.00\n",
       "Do Not Call                                       0.00\n",
       "Converted                                         0.00\n",
       "TotalVisits                                       1.48\n",
       "Total Time Spent on Website                       0.00\n",
       "Page Views Per Visit                              1.48\n",
       "Last Activity                                     1.11\n",
       "Country                                          26.63\n",
       "Specialization                                   36.58\n",
       "How did you hear about X Education               78.46\n",
       "What is your current occupation                  29.11\n",
       "What matters most to you in choosing a course    29.32\n",
       "Search                                            0.00\n",
       "Magazine                                          0.00\n",
       "Newspaper Article                                 0.00\n",
       "X Education Forums                                0.00\n",
       "Newspaper                                         0.00\n",
       "Digital Advertisement                             0.00\n",
       "Through Recommendations                           0.00\n",
       "Receive More Updates About Our Courses            0.00\n",
       "Tags                                             36.29\n",
       "Lead Quality                                     51.59\n",
       "Update me on Supply Chain Content                 0.00\n",
       "Get updates on DM Content                         0.00\n",
       "Lead Profile                                     74.19\n",
       "City                                             39.71\n",
       "Asymmetrique Activity Index                      45.65\n",
       "Asymmetrique Profile Index                       45.65\n",
       "Asymmetrique Activity Score                      45.65\n",
       "Asymmetrique Profile Score                       45.65\n",
       "I agree to pay the amount through cheque          0.00\n",
       "A free copy of Mastering The Interview            0.00\n",
       "Last Notable Activity                             0.00\n",
       "dtype: float64"
      ]
     },
     "execution_count": 480,
     "metadata": {},
     "output_type": "execute_result"
    }
   ],
   "source": [
    "#Before checking null values, lets replace `Select` with NaN\n",
    "\n",
    "leads = leads.replace('Select', np.nan)\n",
    "\n",
    "round(100*leads.isnull().sum()/leads.shape[0],2)"
   ]
  },
  {
   "cell_type": "markdown",
   "id": "01e20932",
   "metadata": {},
   "source": [
    "From the above results, we can see that below columns contain more than 45% missing values, hence we can drop them\n",
    "- How did you hear about X Education\n",
    "- Lead Quality\n",
    "- Asymmetrique Activity Index\n",
    "- Asymmetrique Profile Index\n",
    "- Asymmetrique Activity Score\n",
    "- Asymmetrique Profile Score\n",
    "- Lead Profile"
   ]
  },
  {
   "cell_type": "code",
   "execution_count": 481,
   "id": "26f8569f",
   "metadata": {
    "scrolled": false
   },
   "outputs": [
    {
     "data": {
      "text/html": [
       "<div>\n",
       "<style scoped>\n",
       "    .dataframe tbody tr th:only-of-type {\n",
       "        vertical-align: middle;\n",
       "    }\n",
       "\n",
       "    .dataframe tbody tr th {\n",
       "        vertical-align: top;\n",
       "    }\n",
       "\n",
       "    .dataframe thead th {\n",
       "        text-align: right;\n",
       "    }\n",
       "</style>\n",
       "<table border=\"1\" class=\"dataframe\">\n",
       "  <thead>\n",
       "    <tr style=\"text-align: right;\">\n",
       "      <th></th>\n",
       "      <th>Lead Number</th>\n",
       "      <th>Lead Origin</th>\n",
       "      <th>Lead Source</th>\n",
       "      <th>Do Not Email</th>\n",
       "      <th>Do Not Call</th>\n",
       "      <th>Converted</th>\n",
       "      <th>TotalVisits</th>\n",
       "      <th>Total Time Spent on Website</th>\n",
       "      <th>Page Views Per Visit</th>\n",
       "      <th>Last Activity</th>\n",
       "      <th>...</th>\n",
       "      <th>Digital Advertisement</th>\n",
       "      <th>Through Recommendations</th>\n",
       "      <th>Receive More Updates About Our Courses</th>\n",
       "      <th>Tags</th>\n",
       "      <th>Update me on Supply Chain Content</th>\n",
       "      <th>Get updates on DM Content</th>\n",
       "      <th>City</th>\n",
       "      <th>I agree to pay the amount through cheque</th>\n",
       "      <th>A free copy of Mastering The Interview</th>\n",
       "      <th>Last Notable Activity</th>\n",
       "    </tr>\n",
       "  </thead>\n",
       "  <tbody>\n",
       "    <tr>\n",
       "      <th>0</th>\n",
       "      <td>660737</td>\n",
       "      <td>API</td>\n",
       "      <td>Olark Chat</td>\n",
       "      <td>No</td>\n",
       "      <td>No</td>\n",
       "      <td>0</td>\n",
       "      <td>0.0</td>\n",
       "      <td>0</td>\n",
       "      <td>0.0</td>\n",
       "      <td>Page Visited on Website</td>\n",
       "      <td>...</td>\n",
       "      <td>No</td>\n",
       "      <td>No</td>\n",
       "      <td>No</td>\n",
       "      <td>Interested in other courses</td>\n",
       "      <td>No</td>\n",
       "      <td>No</td>\n",
       "      <td>NaN</td>\n",
       "      <td>No</td>\n",
       "      <td>No</td>\n",
       "      <td>Modified</td>\n",
       "    </tr>\n",
       "    <tr>\n",
       "      <th>1</th>\n",
       "      <td>660728</td>\n",
       "      <td>API</td>\n",
       "      <td>Organic Search</td>\n",
       "      <td>No</td>\n",
       "      <td>No</td>\n",
       "      <td>0</td>\n",
       "      <td>5.0</td>\n",
       "      <td>674</td>\n",
       "      <td>2.5</td>\n",
       "      <td>Email Opened</td>\n",
       "      <td>...</td>\n",
       "      <td>No</td>\n",
       "      <td>No</td>\n",
       "      <td>No</td>\n",
       "      <td>Ringing</td>\n",
       "      <td>No</td>\n",
       "      <td>No</td>\n",
       "      <td>NaN</td>\n",
       "      <td>No</td>\n",
       "      <td>No</td>\n",
       "      <td>Email Opened</td>\n",
       "    </tr>\n",
       "    <tr>\n",
       "      <th>2</th>\n",
       "      <td>660727</td>\n",
       "      <td>Landing Page Submission</td>\n",
       "      <td>Direct Traffic</td>\n",
       "      <td>No</td>\n",
       "      <td>No</td>\n",
       "      <td>1</td>\n",
       "      <td>2.0</td>\n",
       "      <td>1532</td>\n",
       "      <td>2.0</td>\n",
       "      <td>Email Opened</td>\n",
       "      <td>...</td>\n",
       "      <td>No</td>\n",
       "      <td>No</td>\n",
       "      <td>No</td>\n",
       "      <td>Will revert after reading the email</td>\n",
       "      <td>No</td>\n",
       "      <td>No</td>\n",
       "      <td>Mumbai</td>\n",
       "      <td>No</td>\n",
       "      <td>Yes</td>\n",
       "      <td>Email Opened</td>\n",
       "    </tr>\n",
       "  </tbody>\n",
       "</table>\n",
       "<p>3 rows × 29 columns</p>\n",
       "</div>"
      ],
      "text/plain": [
       "   Lead Number              Lead Origin     Lead Source Do Not Email  \\\n",
       "0       660737                      API      Olark Chat           No   \n",
       "1       660728                      API  Organic Search           No   \n",
       "2       660727  Landing Page Submission  Direct Traffic           No   \n",
       "\n",
       "  Do Not Call  Converted  TotalVisits  Total Time Spent on Website  \\\n",
       "0          No          0          0.0                            0   \n",
       "1          No          0          5.0                          674   \n",
       "2          No          1          2.0                         1532   \n",
       "\n",
       "   Page Views Per Visit            Last Activity  ... Digital Advertisement  \\\n",
       "0                   0.0  Page Visited on Website  ...                    No   \n",
       "1                   2.5             Email Opened  ...                    No   \n",
       "2                   2.0             Email Opened  ...                    No   \n",
       "\n",
       "  Through Recommendations Receive More Updates About Our Courses  \\\n",
       "0                      No                                     No   \n",
       "1                      No                                     No   \n",
       "2                      No                                     No   \n",
       "\n",
       "                                  Tags Update me on Supply Chain Content  \\\n",
       "0          Interested in other courses                                No   \n",
       "1                              Ringing                                No   \n",
       "2  Will revert after reading the email                                No   \n",
       "\n",
       "  Get updates on DM Content    City I agree to pay the amount through cheque  \\\n",
       "0                        No     NaN                                       No   \n",
       "1                        No     NaN                                       No   \n",
       "2                        No  Mumbai                                       No   \n",
       "\n",
       "  A free copy of Mastering The Interview Last Notable Activity  \n",
       "0                                     No              Modified  \n",
       "1                                     No          Email Opened  \n",
       "2                                    Yes          Email Opened  \n",
       "\n",
       "[3 rows x 29 columns]"
      ]
     },
     "execution_count": 481,
     "metadata": {},
     "output_type": "execute_result"
    }
   ],
   "source": [
    "leads.drop(['Lead Profile','Prospect ID','How did you hear about X Education','Lead Quality','Asymmetrique Activity Index','Asymmetrique Profile Index','Asymmetrique Activity Score','Asymmetrique Profile Score'],axis=1,inplace=True)\n",
    "leads.head(3)"
   ]
  },
  {
   "cell_type": "code",
   "execution_count": 482,
   "id": "bc757bb8",
   "metadata": {
    "scrolled": true
   },
   "outputs": [
    {
     "data": {
      "text/plain": [
       "Lead Number                                       0.00\n",
       "Lead Origin                                       0.00\n",
       "Lead Source                                       0.39\n",
       "Do Not Email                                      0.00\n",
       "Do Not Call                                       0.00\n",
       "Converted                                         0.00\n",
       "TotalVisits                                       1.48\n",
       "Total Time Spent on Website                       0.00\n",
       "Page Views Per Visit                              1.48\n",
       "Last Activity                                     1.11\n",
       "Country                                          26.63\n",
       "Specialization                                   36.58\n",
       "What is your current occupation                  29.11\n",
       "What matters most to you in choosing a course    29.32\n",
       "Search                                            0.00\n",
       "Magazine                                          0.00\n",
       "Newspaper Article                                 0.00\n",
       "X Education Forums                                0.00\n",
       "Newspaper                                         0.00\n",
       "Digital Advertisement                             0.00\n",
       "Through Recommendations                           0.00\n",
       "Receive More Updates About Our Courses            0.00\n",
       "Tags                                             36.29\n",
       "Update me on Supply Chain Content                 0.00\n",
       "Get updates on DM Content                         0.00\n",
       "City                                             39.71\n",
       "I agree to pay the amount through cheque          0.00\n",
       "A free copy of Mastering The Interview            0.00\n",
       "Last Notable Activity                             0.00\n",
       "dtype: float64"
      ]
     },
     "execution_count": 482,
     "metadata": {},
     "output_type": "execute_result"
    }
   ],
   "source": [
    "#checking missing values again\n",
    "round(100*leads.isnull().sum()/leads.shape[0],2)"
   ]
  },
  {
   "cell_type": "code",
   "execution_count": 483,
   "id": "d093f4b8",
   "metadata": {
    "scrolled": true
   },
   "outputs": [
    {
     "data": {
      "text/plain": [
       "Landing Page Submission    4886\n",
       "API                        3580\n",
       "Lead Add Form               718\n",
       "Lead Import                  55\n",
       "Quick Add Form                1\n",
       "Name: Lead Origin, dtype: int64"
      ]
     },
     "execution_count": 483,
     "metadata": {},
     "output_type": "execute_result"
    }
   ],
   "source": [
    "#Analysing Lead Origin feature\n",
    "\n",
    "leads['Lead Origin'].value_counts(dropna=False)"
   ]
  },
  {
   "cell_type": "code",
   "execution_count": 484,
   "id": "4f1ef5de",
   "metadata": {
    "scrolled": false
   },
   "outputs": [
    {
     "data": {
      "image/png": "[encoded data removed]",
      "text/plain": [
       "<Figure size 720x576 with 1 Axes>"
      ]
     },
     "metadata": {},
     "output_type": "display_data"
    }
   ],
   "source": [
    "plt.figure(figsize=(10,8))\n",
    "sns.countplot(leads['Lead Origin'], hue=leads['Converted'])\n",
    "plt.xticks(rotation=90)\n",
    "plt.title('Lead Origin countplot')\n",
    "plt.show()"
   ]
  },
  {
   "cell_type": "markdown",
   "id": "59b47118",
   "metadata": {},
   "source": [
    "From the above graph, we can see that\n",
    "- Lead import and Quick Add Form brought very few leads\n",
    "- API and Landing Page Submission brought more number of leads and conversions are also more. However, conversions for these two Lead Origin can be improved\n",
    "- Lead Add Form has very high conversion rate but count of leads is less. More leads should be obtained through Lead Add Form to get more conversion rate."
   ]
  },
  {
   "cell_type": "code",
   "execution_count": 485,
   "id": "b614b6dd",
   "metadata": {
    "scrolled": false
   },
   "outputs": [
    {
     "data": {
      "text/plain": [
       "Google               2868\n",
       "Direct Traffic       2543\n",
       "Olark Chat           1755\n",
       "Organic Search       1154\n",
       "Reference             534\n",
       "Welingak Website      142\n",
       "Referral Sites        125\n",
       "Facebook               55\n",
       "NaN                    36\n",
       "bing                    6\n",
       "google                  5\n",
       "Click2call              4\n",
       "Press_Release           2\n",
       "Social Media            2\n",
       "Live Chat               2\n",
       "youtubechannel          1\n",
       "testone                 1\n",
       "Pay per Click Ads       1\n",
       "welearnblog_Home        1\n",
       "WeLearn                 1\n",
       "blog                    1\n",
       "NC_EDM                  1\n",
       "Name: Lead Source, dtype: int64"
      ]
     },
     "execution_count": 485,
     "metadata": {},
     "output_type": "execute_result"
    }
   ],
   "source": [
    "#Analysing Lead Source feature\n",
    "\n",
    "leads['Lead Source'].value_counts(dropna=False)"
   ]
  },
  {
   "cell_type": "code",
   "execution_count": 486,
   "id": "ca83d2e6",
   "metadata": {
    "scrolled": true
   },
   "outputs": [
    {
     "data": {
      "text/plain": [
       "Google              2873\n",
       "Direct Traffic      2543\n",
       "Olark Chat          1755\n",
       "Organic Search      1154\n",
       "Reference            534\n",
       "Welingak Website     142\n",
       "Referral Sites       125\n",
       "Facebook              57\n",
       "Others                57\n",
       "Name: Lead Source, dtype: int64"
      ]
     },
     "execution_count": 486,
     "metadata": {},
     "output_type": "execute_result"
    }
   ],
   "source": [
    "#combining missing values and low frequency values into others category\n",
    "leads['Lead Source'] = leads['Lead Source'].replace('google','Google')\n",
    "leads['Lead Source'] = leads['Lead Source'].replace('Social Media', 'Facebook')\n",
    "leads['Lead Source'] = leads['Lead Source'].replace(np.nan,'Others')\n",
    "leads['Lead Source'] = leads['Lead Source'].replace(['bing', 'Click2call','Press_Release', 'Live Chat', 'youtubechannel', 'testone', 'Pay per Click Ads', 'welearnblog_Home', 'WeLearn', 'blog', 'NC_EDM'], 'Others')\n",
    "\n",
    "leads['Lead Source'].value_counts(dropna=False)"
   ]
  },
  {
   "cell_type": "code",
   "execution_count": 487,
   "id": "0e12f130",
   "metadata": {
    "scrolled": false
   },
   "outputs": [
    {
     "data": {
      "image/png": "[encoded data removed]",
      "text/plain": [
       "<Figure size 720x576 with 1 Axes>"
      ]
     },
     "metadata": {},
     "output_type": "display_data"
    }
   ],
   "source": [
    "plt.figure(figsize=(10,8))\n",
    "sns.countplot(leads['Lead Source'], hue=leads['Converted'])\n",
    "plt.xticks(rotation=90)\n",
    "plt.title('Lead Source countplot')\n",
    "plt.show()"
   ]
  },
  {
   "cell_type": "markdown",
   "id": "ed882867",
   "metadata": {},
   "source": [
    "From the above graph, we can see that\n",
    "- Conversion rate is higher for Reference and Welingak Website\n",
    "- High number of leads received through Direct Traffic, Google and Olark Chat\n",
    "- Focus should be on getting more leads through Reference and Welingak Website, and improving conversion rate for Direct Traffic, Google, Organic Search and Olark Chat"
   ]
  },
  {
   "cell_type": "code",
   "execution_count": 488,
   "id": "eff06874",
   "metadata": {
    "scrolled": true
   },
   "outputs": [
    {
     "data": {
      "text/plain": [
       "No     8506\n",
       "Yes     734\n",
       "Name: Do Not Email, dtype: int64"
      ]
     },
     "execution_count": 488,
     "metadata": {},
     "output_type": "execute_result"
    }
   ],
   "source": [
    "#lets analyse `Do Not Email` and 'Do Not Call' features\n",
    "leads['Do Not Email'].value_counts()"
   ]
  },
  {
   "cell_type": "code",
   "execution_count": 489,
   "id": "724ed858",
   "metadata": {
    "scrolled": true
   },
   "outputs": [
    {
     "data": {
      "image/png": "[encoded data removed]",
      "text/plain": [
       "<Figure size 720x576 with 1 Axes>"
      ]
     },
     "metadata": {},
     "output_type": "display_data"
    }
   ],
   "source": [
    "plt.figure(figsize=(10,8))\n",
    "sns.countplot(leads['Do Not Email'], hue=leads['Converted'])\n",
    "plt.xticks(rotation=90)\n",
    "plt.title('Do Not Email countplot')\n",
    "plt.show()"
   ]
  },
  {
   "cell_type": "code",
   "execution_count": 490,
   "id": "b02f25f9",
   "metadata": {
    "scrolled": true
   },
   "outputs": [
    {
     "data": {
      "text/plain": [
       "No     9238\n",
       "Yes       2\n",
       "Name: Do Not Call, dtype: int64"
      ]
     },
     "execution_count": 490,
     "metadata": {},
     "output_type": "execute_result"
    }
   ],
   "source": [
    "leads['Do Not Call'].value_counts()"
   ]
  },
  {
   "cell_type": "markdown",
   "id": "59ef5c74",
   "metadata": {},
   "source": [
    "`Do Not Call` feature contains only 2 Yes's, hence we can delete this column"
   ]
  },
  {
   "cell_type": "code",
   "execution_count": 491,
   "id": "9856845b",
   "metadata": {
    "scrolled": true
   },
   "outputs": [
    {
     "data": {
      "text/html": [
       "<div>\n",
       "<style scoped>\n",
       "    .dataframe tbody tr th:only-of-type {\n",
       "        vertical-align: middle;\n",
       "    }\n",
       "\n",
       "    .dataframe tbody tr th {\n",
       "        vertical-align: top;\n",
       "    }\n",
       "\n",
       "    .dataframe thead th {\n",
       "        text-align: right;\n",
       "    }\n",
       "</style>\n",
       "<table border=\"1\" class=\"dataframe\">\n",
       "  <thead>\n",
       "    <tr style=\"text-align: right;\">\n",
       "      <th></th>\n",
       "      <th>Lead Number</th>\n",
       "      <th>Lead Origin</th>\n",
       "      <th>Lead Source</th>\n",
       "      <th>Do Not Email</th>\n",
       "      <th>Converted</th>\n",
       "      <th>TotalVisits</th>\n",
       "      <th>Total Time Spent on Website</th>\n",
       "      <th>Page Views Per Visit</th>\n",
       "      <th>Last Activity</th>\n",
       "      <th>Country</th>\n",
       "      <th>...</th>\n",
       "      <th>Digital Advertisement</th>\n",
       "      <th>Through Recommendations</th>\n",
       "      <th>Receive More Updates About Our Courses</th>\n",
       "      <th>Tags</th>\n",
       "      <th>Update me on Supply Chain Content</th>\n",
       "      <th>Get updates on DM Content</th>\n",
       "      <th>City</th>\n",
       "      <th>I agree to pay the amount through cheque</th>\n",
       "      <th>A free copy of Mastering The Interview</th>\n",
       "      <th>Last Notable Activity</th>\n",
       "    </tr>\n",
       "  </thead>\n",
       "  <tbody>\n",
       "    <tr>\n",
       "      <th>0</th>\n",
       "      <td>660737</td>\n",
       "      <td>API</td>\n",
       "      <td>Olark Chat</td>\n",
       "      <td>No</td>\n",
       "      <td>0</td>\n",
       "      <td>0.0</td>\n",
       "      <td>0</td>\n",
       "      <td>0.0</td>\n",
       "      <td>Page Visited on Website</td>\n",
       "      <td>NaN</td>\n",
       "      <td>...</td>\n",
       "      <td>No</td>\n",
       "      <td>No</td>\n",
       "      <td>No</td>\n",
       "      <td>Interested in other courses</td>\n",
       "      <td>No</td>\n",
       "      <td>No</td>\n",
       "      <td>NaN</td>\n",
       "      <td>No</td>\n",
       "      <td>No</td>\n",
       "      <td>Modified</td>\n",
       "    </tr>\n",
       "    <tr>\n",
       "      <th>1</th>\n",
       "      <td>660728</td>\n",
       "      <td>API</td>\n",
       "      <td>Organic Search</td>\n",
       "      <td>No</td>\n",
       "      <td>0</td>\n",
       "      <td>5.0</td>\n",
       "      <td>674</td>\n",
       "      <td>2.5</td>\n",
       "      <td>Email Opened</td>\n",
       "      <td>India</td>\n",
       "      <td>...</td>\n",
       "      <td>No</td>\n",
       "      <td>No</td>\n",
       "      <td>No</td>\n",
       "      <td>Ringing</td>\n",
       "      <td>No</td>\n",
       "      <td>No</td>\n",
       "      <td>NaN</td>\n",
       "      <td>No</td>\n",
       "      <td>No</td>\n",
       "      <td>Email Opened</td>\n",
       "    </tr>\n",
       "  </tbody>\n",
       "</table>\n",
       "<p>2 rows × 28 columns</p>\n",
       "</div>"
      ],
      "text/plain": [
       "   Lead Number Lead Origin     Lead Source Do Not Email  Converted  \\\n",
       "0       660737         API      Olark Chat           No          0   \n",
       "1       660728         API  Organic Search           No          0   \n",
       "\n",
       "   TotalVisits  Total Time Spent on Website  Page Views Per Visit  \\\n",
       "0          0.0                            0                   0.0   \n",
       "1          5.0                          674                   2.5   \n",
       "\n",
       "             Last Activity Country  ... Digital Advertisement  \\\n",
       "0  Page Visited on Website     NaN  ...                    No   \n",
       "1             Email Opened   India  ...                    No   \n",
       "\n",
       "  Through Recommendations Receive More Updates About Our Courses  \\\n",
       "0                      No                                     No   \n",
       "1                      No                                     No   \n",
       "\n",
       "                          Tags Update me on Supply Chain Content  \\\n",
       "0  Interested in other courses                                No   \n",
       "1                      Ringing                                No   \n",
       "\n",
       "  Get updates on DM Content City I agree to pay the amount through cheque  \\\n",
       "0                        No  NaN                                       No   \n",
       "1                        No  NaN                                       No   \n",
       "\n",
       "  A free copy of Mastering The Interview Last Notable Activity  \n",
       "0                                     No              Modified  \n",
       "1                                     No          Email Opened  \n",
       "\n",
       "[2 rows x 28 columns]"
      ]
     },
     "execution_count": 491,
     "metadata": {},
     "output_type": "execute_result"
    }
   ],
   "source": [
    "leads.drop('Do Not Call', 1, inplace=True)\n",
    "leads.head(2)"
   ]
  },
  {
   "cell_type": "code",
   "execution_count": 492,
   "id": "fc19e9af",
   "metadata": {
    "scrolled": true
   },
   "outputs": [
    {
     "data": {
      "image/png": "[encoded data removed]",
      "text/plain": [
       "<Figure size 432x288 with 1 Axes>"
      ]
     },
     "metadata": {},
     "output_type": "display_data"
    }
   ],
   "source": [
    "#lets analyze TotalVisits numerical column\n",
    "\n",
    "sns.boxplot(leads['TotalVisits'])\n",
    "plt.show()"
   ]
  },
  {
   "cell_type": "code",
   "execution_count": 493,
   "id": "0807ed0f",
   "metadata": {
    "scrolled": false
   },
   "outputs": [
    {
     "data": {
      "text/plain": [
       "0.00      0.0\n",
       "0.25      1.0\n",
       "0.50      3.0\n",
       "0.75      5.0\n",
       "0.90      7.0\n",
       "0.95     10.0\n",
       "0.99     17.0\n",
       "1.00    251.0\n",
       "Name: TotalVisits, dtype: float64"
      ]
     },
     "execution_count": 493,
     "metadata": {},
     "output_type": "execute_result"
    }
   ],
   "source": [
    "#From the above graph, we can see that there are outliers in TotalVisits column. Lets try to analyse quantiles\n",
    "leads['TotalVisits'].quantile([0, 0.25, 0.5, 0.75, 0.9, 0.95, 0.99, 1])"
   ]
  },
  {
   "cell_type": "code",
   "execution_count": 494,
   "id": "8cad38b8",
   "metadata": {},
   "outputs": [
    {
     "data": {
      "text/plain": [
       "(83, 28)"
      ]
     },
     "execution_count": 494,
     "metadata": {},
     "output_type": "execute_result"
    }
   ],
   "source": [
    "leads[leads['TotalVisits'] > leads['TotalVisits'].quantile(0.99)].shape"
   ]
  },
  {
   "cell_type": "code",
   "execution_count": 495,
   "id": "17ac7160",
   "metadata": {
    "scrolled": false
   },
   "outputs": [
    {
     "data": {
      "image/png": "[encoded data removed]",
      "text/plain": [
       "<Figure size 1080x504 with 2 Axes>"
      ]
     },
     "metadata": {},
     "output_type": "display_data"
    }
   ],
   "source": [
    "#As there are only 83 rows(1% rows) having higher values in TotalVisits column and will remove them as part of outlier treatment\n",
    "leads = leads[leads['TotalVisits'] <= leads['TotalVisits'].quantile(0.99)]\n",
    "\n",
    "plt.figure(figsize=(15,7))\n",
    "\n",
    "plt.subplot(1,2,1)\n",
    "sns.boxplot(y=leads['TotalVisits'])\n",
    "\n",
    "plt.subplot(1,2,2)\n",
    "sns.boxplot(data=leads, x='Converted', y='TotalVisits')\n",
    "\n",
    "plt.show()"
   ]
  },
  {
   "cell_type": "markdown",
   "id": "afbfb730",
   "metadata": {},
   "source": [
    "From the above graph, we can see that median of TotalVisits is same for both converted and non-converted leads"
   ]
  },
  {
   "cell_type": "code",
   "execution_count": 496,
   "id": "9f75ac25",
   "metadata": {
    "scrolled": false
   },
   "outputs": [
    {
     "data": {
      "image/png": "[encoded data removed]",
      "text/plain": [
       "<Figure size 1080x504 with 2 Axes>"
      ]
     },
     "metadata": {},
     "output_type": "display_data"
    }
   ],
   "source": [
    "#lets analyse 'Total Time Spent on Website' numerical column\n",
    "\n",
    "plt.figure(figsize=(15,7))\n",
    "\n",
    "plt.subplot(1,2,1)\n",
    "sns.boxplot(y=leads['Total Time Spent on Website'])\n",
    "\n",
    "plt.subplot(1,2,2)\n",
    "sns.boxplot(data=leads, x= 'Converted' , y='Total Time Spent on Website')\n",
    "plt.show()"
   ]
  },
  {
   "cell_type": "markdown",
   "id": "69f2f17d",
   "metadata": {},
   "source": [
    "From the above graph, we can see that there are no potential outliers in `Total Time Spent on Website` column, hence we will not apply outlier treatment to it. Moreover, `Total Time Spent on Website` is more for the converted leads"
   ]
  },
  {
   "cell_type": "code",
   "execution_count": 497,
   "id": "7330df52",
   "metadata": {
    "scrolled": true
   },
   "outputs": [
    {
     "data": {
      "image/png": "[encoded data removed]",
      "text/plain": [
       "<Figure size 864x360 with 2 Axes>"
      ]
     },
     "metadata": {},
     "output_type": "display_data"
    }
   ],
   "source": [
    "#lets analyse 'Page Views Per Visit' column\n",
    "plt.figure(figsize=(12,5))\n",
    "\n",
    "plt.subplot(1,2,1)\n",
    "sns.boxplot(y=leads['Page Views Per Visit'])\n",
    "\n",
    "plt.subplot(1,2,2)\n",
    "sns.boxplot(data=leads, x='Converted', y='Page Views Per Visit')\n",
    "\n",
    "plt.show()"
   ]
  },
  {
   "cell_type": "code",
   "execution_count": 498,
   "id": "268cada8",
   "metadata": {
    "scrolled": true
   },
   "outputs": [
    {
     "data": {
      "text/plain": [
       "0.25     1.0\n",
       "0.50     2.0\n",
       "0.75     3.0\n",
       "0.90     5.0\n",
       "0.95     6.0\n",
       "0.99     9.0\n",
       "1.00    16.0\n",
       "Name: Page Views Per Visit, dtype: float64"
      ]
     },
     "execution_count": 498,
     "metadata": {},
     "output_type": "execute_result"
    }
   ],
   "source": [
    "leads['Page Views Per Visit'].quantile([0.25, 0.5, 0.75, 0.9, 0.95, 0.99, 1])"
   ]
  },
  {
   "cell_type": "code",
   "execution_count": 499,
   "id": "521c7bdc",
   "metadata": {},
   "outputs": [],
   "source": [
    "#outlier treatment on 'Page Views Per Visit' column\n",
    "leads = leads[leads['Page Views Per Visit'] <= leads['Page Views Per Visit'].quantile(0.99)]"
   ]
  },
  {
   "cell_type": "code",
   "execution_count": 500,
   "id": "addc66bc",
   "metadata": {},
   "outputs": [
    {
     "data": {
      "image/png": "[encoded data removed]",
      "text/plain": [
       "<Figure size 864x360 with 2 Axes>"
      ]
     },
     "metadata": {},
     "output_type": "display_data"
    }
   ],
   "source": [
    "#lets analyse 'Page Views Per Visit' column\n",
    "plt.figure(figsize=(12,5))\n",
    "\n",
    "plt.subplot(1,2,1)\n",
    "sns.boxplot(y=leads['Page Views Per Visit'])\n",
    "\n",
    "plt.subplot(1,2,2)\n",
    "sns.boxplot(data=leads, x='Converted', y='Page Views Per Visit')\n",
    "\n",
    "plt.show()"
   ]
  },
  {
   "cell_type": "markdown",
   "id": "b6d95a02",
   "metadata": {},
   "source": [
    "From the above graph, we can see that outliers have been treated in `Page Views Per Visit` column and median of `Page Views Per Visit` column is same for both converted and non-converted leads."
   ]
  },
  {
   "cell_type": "code",
   "execution_count": 501,
   "id": "58882197",
   "metadata": {},
   "outputs": [
    {
     "data": {
      "text/plain": [
       "Email Opened                    3390\n",
       "SMS Sent                        2700\n",
       "Olark Chat Conversation          966\n",
       "Page Visited on Website          594\n",
       "Converted to Lead                428\n",
       "Email Bounced                    310\n",
       "Email Link Clicked               264\n",
       "Form Submitted on Website        114\n",
       "Unreachable                       88\n",
       "Unsubscribed                      60\n",
       "Had a Phone Conversation          24\n",
       "Approached upfront                 5\n",
       "View in browser link Clicked       4\n",
       "Email Received                     2\n",
       "Email Marked Spam                  2\n",
       "Visited Booth in Tradeshow         1\n",
       "Resubscribed to emails             1\n",
       "Name: Last Activity, dtype: int64"
      ]
     },
     "execution_count": 501,
     "metadata": {},
     "output_type": "execute_result"
    }
   ],
   "source": [
    "leads['Last Activity'].value_counts(dropna=False)"
   ]
  },
  {
   "cell_type": "code",
   "execution_count": 502,
   "id": "547fd5f3",
   "metadata": {
    "scrolled": true
   },
   "outputs": [
    {
     "data": {
      "text/plain": [
       "Email Opened                 3390\n",
       "SMS Sent                     2700\n",
       "Olark Chat Conversation       966\n",
       "Page Visited on Website       594\n",
       "Converted to Lead             428\n",
       "Email Bounced                 310\n",
       "Email Link Clicked            264\n",
       "Others                        127\n",
       "Form Submitted on Website     114\n",
       "Unsubscribed                   60\n",
       "Name: Last Activity, dtype: int64"
      ]
     },
     "execution_count": 502,
     "metadata": {},
     "output_type": "execute_result"
    }
   ],
   "source": [
    "#Club last activity into others where count is less than 100\n",
    "leads['Last Activity'] = leads['Last Activity'].replace(['Unreachable', 'Unreachable', 'Had a Phone Conversation', 'View in browser link Clicked', 'Approached upfront', 'Email Received', 'Email Marked Spam', 'Visited Booth in Tradeshow', 'Resubscribed to emails'],'Others')\n",
    "leads['Last Activity'].value_counts(dropna=False)"
   ]
  },
  {
   "cell_type": "code",
   "execution_count": 503,
   "id": "5abde4a7",
   "metadata": {
    "scrolled": false
   },
   "outputs": [
    {
     "data": {
      "image/png": "[encoded data removed]",
      "text/plain": [
       "<Figure size 864x432 with 1 Axes>"
      ]
     },
     "metadata": {},
     "output_type": "display_data"
    }
   ],
   "source": [
    "plt.figure(figsize=(12,6))\n",
    "sns.countplot(leads['Last Activity'], hue=leads['Converted'])\n",
    "plt.xticks(rotation=90)\n",
    "plt.show()"
   ]
  },
  {
   "cell_type": "markdown",
   "id": "94bbfa6e",
   "metadata": {},
   "source": [
    "From the above graph, we can see that conversion rate is higher where Last Activity is 'SMS Sent'.\n",
    "\n",
    "Conversion rate need to be increased for 'Email Opened' customers"
   ]
  },
  {
   "cell_type": "code",
   "execution_count": 504,
   "id": "c1e925d3",
   "metadata": {
    "scrolled": true
   },
   "outputs": [
    {
     "data": {
      "text/plain": [
       "India                   6347\n",
       "NaN                     2323\n",
       "United States             68\n",
       "United Arab Emirates      52\n",
       "Singapore                 24\n",
       "Saudi Arabia              21\n",
       "United Kingdom            15\n",
       "Australia                 13\n",
       "Qatar                     10\n",
       "Hong Kong                  7\n",
       "Bahrain                    7\n",
       "Oman                       6\n",
       "France                     6\n",
       "South Africa               4\n",
       "Kuwait                     4\n",
       "Germany                    4\n",
       "unknown                    4\n",
       "Nigeria                    4\n",
       "Canada                     4\n",
       "Sweden                     3\n",
       "China                      2\n",
       "Belgium                    2\n",
       "Asia/Pacific Region        2\n",
       "Uganda                     2\n",
       "Italy                      2\n",
       "Ghana                      2\n",
       "Bangladesh                 2\n",
       "Philippines                2\n",
       "Liberia                    1\n",
       "Vietnam                    1\n",
       "Denmark                    1\n",
       "Switzerland                1\n",
       "Russia                     1\n",
       "Netherlands                1\n",
       "Malaysia                   1\n",
       "Sri Lanka                  1\n",
       "Tanzania                   1\n",
       "Kenya                      1\n",
       "Indonesia                  1\n",
       "Name: Country, dtype: int64"
      ]
     },
     "execution_count": 504,
     "metadata": {},
     "output_type": "execute_result"
    }
   ],
   "source": [
    "#lets analyse country column\n",
    "leads['Country'].value_counts(dropna=False)"
   ]
  },
  {
   "cell_type": "code",
   "execution_count": 505,
   "id": "8d8c358c",
   "metadata": {
    "scrolled": true
   },
   "outputs": [
    {
     "data": {
      "text/plain": [
       "India                   6347\n",
       "unknown                 2327\n",
       "United States             68\n",
       "United Arab Emirates      52\n",
       "Singapore                 24\n",
       "Saudi Arabia              21\n",
       "United Kingdom            15\n",
       "Australia                 13\n",
       "Qatar                     10\n",
       "Hong Kong                  7\n",
       "Bahrain                    7\n",
       "Oman                       6\n",
       "France                     6\n",
       "South Africa               4\n",
       "Kuwait                     4\n",
       "Canada                     4\n",
       "Germany                    4\n",
       "Nigeria                    4\n",
       "Sweden                     3\n",
       "China                      2\n",
       "Belgium                    2\n",
       "Ghana                      2\n",
       "Asia/Pacific Region        2\n",
       "Uganda                     2\n",
       "Italy                      2\n",
       "Bangladesh                 2\n",
       "Philippines                2\n",
       "Liberia                    1\n",
       "Vietnam                    1\n",
       "Denmark                    1\n",
       "Switzerland                1\n",
       "Tanzania                   1\n",
       "Netherlands                1\n",
       "Malaysia                   1\n",
       "Sri Lanka                  1\n",
       "Russia                     1\n",
       "Kenya                      1\n",
       "Indonesia                  1\n",
       "Name: Country, dtype: int64"
      ]
     },
     "execution_count": 505,
     "metadata": {},
     "output_type": "execute_result"
    }
   ],
   "source": [
    "#lets replace missing values in Country column with unknown as a new value\n",
    "\n",
    "leads['Country'] = leads['Country'].replace(np.nan, 'unknown')\n",
    "leads['Country'].value_counts(dropna=False)"
   ]
  },
  {
   "cell_type": "code",
   "execution_count": 506,
   "id": "2b2972e9",
   "metadata": {
    "scrolled": true
   },
   "outputs": [
    {
     "data": {
      "image/png": "[encoded data removed]",
      "text/plain": [
       "<Figure size 720x576 with 1 Axes>"
      ]
     },
     "metadata": {},
     "output_type": "display_data"
    }
   ],
   "source": [
    "plt.figure(figsize=(10,8))\n",
    "sns.countplot(leads['Country'], hue=leads['Converted'])\n",
    "plt.xticks(rotation=90)\n",
    "plt.title('Country wise countplot')\n",
    "plt.show()"
   ]
  },
  {
   "cell_type": "markdown",
   "id": "23d81316",
   "metadata": {},
   "source": [
    "We can see that most of the rows contain value as India and unknown. this value is not changing for many records, hence it can be dropped"
   ]
  },
  {
   "cell_type": "code",
   "execution_count": 507,
   "id": "949b23cd",
   "metadata": {
    "scrolled": true
   },
   "outputs": [
    {
     "data": {
      "text/html": [
       "<div>\n",
       "<style scoped>\n",
       "    .dataframe tbody tr th:only-of-type {\n",
       "        vertical-align: middle;\n",
       "    }\n",
       "\n",
       "    .dataframe tbody tr th {\n",
       "        vertical-align: top;\n",
       "    }\n",
       "\n",
       "    .dataframe thead th {\n",
       "        text-align: right;\n",
       "    }\n",
       "</style>\n",
       "<table border=\"1\" class=\"dataframe\">\n",
       "  <thead>\n",
       "    <tr style=\"text-align: right;\">\n",
       "      <th></th>\n",
       "      <th>Lead Number</th>\n",
       "      <th>Lead Origin</th>\n",
       "      <th>Lead Source</th>\n",
       "      <th>Do Not Email</th>\n",
       "      <th>Converted</th>\n",
       "      <th>TotalVisits</th>\n",
       "      <th>Total Time Spent on Website</th>\n",
       "      <th>Page Views Per Visit</th>\n",
       "      <th>Last Activity</th>\n",
       "      <th>Specialization</th>\n",
       "      <th>...</th>\n",
       "      <th>Digital Advertisement</th>\n",
       "      <th>Through Recommendations</th>\n",
       "      <th>Receive More Updates About Our Courses</th>\n",
       "      <th>Tags</th>\n",
       "      <th>Update me on Supply Chain Content</th>\n",
       "      <th>Get updates on DM Content</th>\n",
       "      <th>City</th>\n",
       "      <th>I agree to pay the amount through cheque</th>\n",
       "      <th>A free copy of Mastering The Interview</th>\n",
       "      <th>Last Notable Activity</th>\n",
       "    </tr>\n",
       "  </thead>\n",
       "  <tbody>\n",
       "    <tr>\n",
       "      <th>0</th>\n",
       "      <td>660737</td>\n",
       "      <td>API</td>\n",
       "      <td>Olark Chat</td>\n",
       "      <td>No</td>\n",
       "      <td>0</td>\n",
       "      <td>0.0</td>\n",
       "      <td>0</td>\n",
       "      <td>0.0</td>\n",
       "      <td>Page Visited on Website</td>\n",
       "      <td>NaN</td>\n",
       "      <td>...</td>\n",
       "      <td>No</td>\n",
       "      <td>No</td>\n",
       "      <td>No</td>\n",
       "      <td>Interested in other courses</td>\n",
       "      <td>No</td>\n",
       "      <td>No</td>\n",
       "      <td>NaN</td>\n",
       "      <td>No</td>\n",
       "      <td>No</td>\n",
       "      <td>Modified</td>\n",
       "    </tr>\n",
       "    <tr>\n",
       "      <th>1</th>\n",
       "      <td>660728</td>\n",
       "      <td>API</td>\n",
       "      <td>Organic Search</td>\n",
       "      <td>No</td>\n",
       "      <td>0</td>\n",
       "      <td>5.0</td>\n",
       "      <td>674</td>\n",
       "      <td>2.5</td>\n",
       "      <td>Email Opened</td>\n",
       "      <td>NaN</td>\n",
       "      <td>...</td>\n",
       "      <td>No</td>\n",
       "      <td>No</td>\n",
       "      <td>No</td>\n",
       "      <td>Ringing</td>\n",
       "      <td>No</td>\n",
       "      <td>No</td>\n",
       "      <td>NaN</td>\n",
       "      <td>No</td>\n",
       "      <td>No</td>\n",
       "      <td>Email Opened</td>\n",
       "    </tr>\n",
       "  </tbody>\n",
       "</table>\n",
       "<p>2 rows × 27 columns</p>\n",
       "</div>"
      ],
      "text/plain": [
       "   Lead Number Lead Origin     Lead Source Do Not Email  Converted  \\\n",
       "0       660737         API      Olark Chat           No          0   \n",
       "1       660728         API  Organic Search           No          0   \n",
       "\n",
       "   TotalVisits  Total Time Spent on Website  Page Views Per Visit  \\\n",
       "0          0.0                            0                   0.0   \n",
       "1          5.0                          674                   2.5   \n",
       "\n",
       "             Last Activity Specialization  ... Digital Advertisement  \\\n",
       "0  Page Visited on Website            NaN  ...                    No   \n",
       "1             Email Opened            NaN  ...                    No   \n",
       "\n",
       "  Through Recommendations Receive More Updates About Our Courses  \\\n",
       "0                      No                                     No   \n",
       "1                      No                                     No   \n",
       "\n",
       "                          Tags Update me on Supply Chain Content  \\\n",
       "0  Interested in other courses                                No   \n",
       "1                      Ringing                                No   \n",
       "\n",
       "  Get updates on DM Content City I agree to pay the amount through cheque  \\\n",
       "0                        No  NaN                                       No   \n",
       "1                        No  NaN                                       No   \n",
       "\n",
       "  A free copy of Mastering The Interview Last Notable Activity  \n",
       "0                                     No              Modified  \n",
       "1                                     No          Email Opened  \n",
       "\n",
       "[2 rows x 27 columns]"
      ]
     },
     "execution_count": 507,
     "metadata": {},
     "output_type": "execute_result"
    }
   ],
   "source": [
    "leads.drop('Country',1,inplace=True)\n",
    "\n",
    "leads.head(2)"
   ]
  },
  {
   "cell_type": "code",
   "execution_count": 508,
   "id": "23eedbb4",
   "metadata": {
    "scrolled": true
   },
   "outputs": [
    {
     "data": {
      "text/plain": [
       "NaN                                  3284\n",
       "Finance Management                    945\n",
       "Human Resource Management             820\n",
       "Marketing Management                  815\n",
       "Operations Management                 495\n",
       "Business Administration               390\n",
       "IT Projects Management                360\n",
       "Supply Chain Management               338\n",
       "Banking, Investment And Insurance     325\n",
       "Media and Advertising                 197\n",
       "Travel and Tourism                    189\n",
       "International Business                171\n",
       "Healthcare Management                 151\n",
       "E-COMMERCE                            107\n",
       "Hospitality Management                107\n",
       "Retail Management                      95\n",
       "Rural and Agribusiness                 70\n",
       "E-Business                             56\n",
       "Services Excellence                    38\n",
       "Name: Specialization, dtype: int64"
      ]
     },
     "execution_count": 508,
     "metadata": {},
     "output_type": "execute_result"
    }
   ],
   "source": [
    "#Lets analyse Specialization column\n",
    "leads['Specialization'].value_counts(dropna=False)"
   ]
  },
  {
   "cell_type": "code",
   "execution_count": 509,
   "id": "1d653b37",
   "metadata": {
    "scrolled": true
   },
   "outputs": [
    {
     "data": {
      "text/plain": [
       "Missing                              3284\n",
       "Finance Management                    945\n",
       "Human Resource Management             820\n",
       "Marketing Management                  815\n",
       "Operations Management                 495\n",
       "Business Administration               390\n",
       "IT Projects Management                360\n",
       "Supply Chain Management               338\n",
       "Banking, Investment And Insurance     325\n",
       "Media and Advertising                 197\n",
       "Travel and Tourism                    189\n",
       "International Business                171\n",
       "Healthcare Management                 151\n",
       "E-COMMERCE                            107\n",
       "Hospitality Management                107\n",
       "Retail Management                      95\n",
       "Rural and Agribusiness                 70\n",
       "E-Business                             56\n",
       "Services Excellence                    38\n",
       "Name: Specialization, dtype: int64"
      ]
     },
     "execution_count": 509,
     "metadata": {},
     "output_type": "execute_result"
    }
   ],
   "source": [
    "#replace missing values with new category\n",
    "leads['Specialization'] = leads['Specialization'].replace(np.nan, 'Missing')\n",
    "leads['Specialization'].value_counts(dropna=False)"
   ]
  },
  {
   "cell_type": "code",
   "execution_count": 510,
   "id": "db7e3a4a",
   "metadata": {
    "scrolled": true
   },
   "outputs": [
    {
     "data": {
      "image/png": "[encoded data removed]",
      "text/plain": [
       "<Figure size 864x432 with 1 Axes>"
      ]
     },
     "metadata": {},
     "output_type": "display_data"
    }
   ],
   "source": [
    "plt.figure(figsize=(12,6))\n",
    "sns.countplot(leads['Specialization'], hue=leads['Converted'])\n",
    "plt.xticks(rotation=90)\n",
    "plt.show()"
   ]
  },
  {
   "cell_type": "code",
   "execution_count": 511,
   "id": "944f66d4",
   "metadata": {
    "scrolled": true
   },
   "outputs": [
    {
     "data": {
      "text/plain": [
       "Management                           4126\n",
       "Missing                              3284\n",
       "Business Administration               390\n",
       "Banking, Investment And Insurance     325\n",
       "Media and Advertising                 197\n",
       "Travel and Tourism                    189\n",
       "International Business                171\n",
       "E-COMMERCE                            107\n",
       "Rural and Agribusiness                 70\n",
       "E-Business                             56\n",
       "Services Excellence                    38\n",
       "Name: Specialization, dtype: int64"
      ]
     },
     "execution_count": 511,
     "metadata": {},
     "output_type": "execute_result"
    }
   ],
   "source": [
    "#From the above graph, we can see that those who have done specialization in management, conversion rate is higher in that case\n",
    "#So, lets club all management specializations into one category\n",
    "leads['Specialization'] = leads['Specialization'].replace(['Finance Management', 'Human Resource Management', 'Marketing Management', 'Operations Management', 'IT Projects Management', 'Supply Chain Management', 'Healthcare Management', 'Hospitality Management', 'Retail Management'], 'Management')\n",
    "\n",
    "leads['Specialization'].value_counts(dropna=False)"
   ]
  },
  {
   "cell_type": "code",
   "execution_count": 512,
   "id": "6774d762",
   "metadata": {
    "scrolled": false
   },
   "outputs": [
    {
     "data": {
      "image/png": "[encoded data removed]",
      "text/plain": [
       "<Figure size 864x432 with 1 Axes>"
      ]
     },
     "metadata": {},
     "output_type": "display_data"
    }
   ],
   "source": [
    "plt.figure(figsize=(12,6))\n",
    "sns.countplot(leads['Specialization'], hue=leads['Converted'])\n",
    "plt.xticks(rotation=90)\n",
    "plt.show()"
   ]
  },
  {
   "cell_type": "code",
   "execution_count": 513,
   "id": "6ece7f88",
   "metadata": {
    "scrolled": true
   },
   "outputs": [
    {
     "data": {
      "text/plain": [
       "Unemployed              5410\n",
       "NaN                     2643\n",
       "Working Professional     667\n",
       "Student                  204\n",
       "Other                     13\n",
       "Housewife                  9\n",
       "Businessman                7\n",
       "Name: What is your current occupation, dtype: int64"
      ]
     },
     "execution_count": 513,
     "metadata": {},
     "output_type": "execute_result"
    }
   ],
   "source": [
    "#lets analyse 'What is your current occupation' column\n",
    "leads['What is your current occupation'].value_counts(dropna=False)"
   ]
  },
  {
   "cell_type": "code",
   "execution_count": 514,
   "id": "414829c7",
   "metadata": {
    "scrolled": true
   },
   "outputs": [
    {
     "data": {
      "text/plain": [
       "Unemployed              8053\n",
       "Working Professional     667\n",
       "Student                  204\n",
       "Other                     13\n",
       "Housewife                  9\n",
       "Businessman                7\n",
       "Name: What is your current occupation, dtype: int64"
      ]
     },
     "execution_count": 514,
     "metadata": {},
     "output_type": "execute_result"
    }
   ],
   "source": [
    "#replace missing values with mode\n",
    "leads['What is your current occupation'] = leads['What is your current occupation'].replace(np.nan,leads['What is your current occupation'].mode()[0])\n",
    "leads['What is your current occupation'].value_counts(dropna=False)"
   ]
  },
  {
   "cell_type": "code",
   "execution_count": 515,
   "id": "bc54f64b",
   "metadata": {
    "scrolled": false
   },
   "outputs": [
    {
     "data": {
      "image/png": "[encoded data removed]",
      "text/plain": [
       "<Figure size 432x288 with 1 Axes>"
      ]
     },
     "metadata": {},
     "output_type": "display_data"
    }
   ],
   "source": [
    "sns.countplot(leads['What is your current occupation'], hue=leads['Converted'])\n",
    "plt.xticks(rotation=90)\n",
    "plt.show()"
   ]
  },
  {
   "cell_type": "markdown",
   "id": "d537d33a",
   "metadata": {},
   "source": [
    "From the above graph, we can see that conversion rate is high for Working Professional.\n",
    "\n",
    "Company received more leads from Unemployed people in terms of absolute numbers"
   ]
  },
  {
   "cell_type": "code",
   "execution_count": 516,
   "id": "23018765",
   "metadata": {
    "scrolled": true
   },
   "outputs": [
    {
     "data": {
      "text/plain": [
       "Better Career Prospects      6290\n",
       "NaN                          2661\n",
       "Flexibility & Convenience       1\n",
       "Other                           1\n",
       "Name: What matters most to you in choosing a course, dtype: int64"
      ]
     },
     "execution_count": 516,
     "metadata": {},
     "output_type": "execute_result"
    }
   ],
   "source": [
    "leads['What matters most to you in choosing a course'].value_counts(dropna=False)"
   ]
  },
  {
   "cell_type": "markdown",
   "id": "53470b40",
   "metadata": {},
   "source": [
    "From the above data, we can see that there are many missing values. Moreover, values in this column are not balanced. Almost all rows have `Better Career Prospects` value except missing values. Hence, this column can be dropped."
   ]
  },
  {
   "cell_type": "code",
   "execution_count": 517,
   "id": "738e4bf3",
   "metadata": {},
   "outputs": [],
   "source": [
    "leads.drop('What matters most to you in choosing a course',1,inplace=True)"
   ]
  },
  {
   "cell_type": "code",
   "execution_count": 518,
   "id": "6ffd7fc3",
   "metadata": {},
   "outputs": [
    {
     "data": {
      "text/plain": [
       "No     8940\n",
       "Yes      13\n",
       "Name: Search, dtype: int64"
      ]
     },
     "execution_count": 518,
     "metadata": {},
     "output_type": "execute_result"
    }
   ],
   "source": [
    "#lets analyse Search column\n",
    "leads['Search'].value_counts(dropna=False)"
   ]
  },
  {
   "cell_type": "markdown",
   "id": "5aaca4d0",
   "metadata": {},
   "source": [
    "From the above data, we can conclude that Search is imbalanced column, hence we can drop it"
   ]
  },
  {
   "cell_type": "code",
   "execution_count": 519,
   "id": "68c9b258",
   "metadata": {},
   "outputs": [],
   "source": [
    "leads.drop('Search',1,inplace=True)"
   ]
  },
  {
   "cell_type": "code",
   "execution_count": 520,
   "id": "9400d4fe",
   "metadata": {
    "scrolled": false
   },
   "outputs": [
    {
     "data": {
      "text/plain": [
       "No    8953\n",
       "Name: Magazine, dtype: int64"
      ]
     },
     "execution_count": 520,
     "metadata": {},
     "output_type": "execute_result"
    }
   ],
   "source": [
    "leads['Magazine'].value_counts(dropna=False)"
   ]
  },
  {
   "cell_type": "markdown",
   "id": "d27f4415",
   "metadata": {},
   "source": [
    "`Magazine` column contains value 'No' for all rows, hence this can be dropped"
   ]
  },
  {
   "cell_type": "code",
   "execution_count": 521,
   "id": "bc8fbaf3",
   "metadata": {},
   "outputs": [],
   "source": [
    "leads.drop('Magazine',1,inplace=True)"
   ]
  },
  {
   "cell_type": "code",
   "execution_count": 522,
   "id": "8fb606bc",
   "metadata": {},
   "outputs": [
    {
     "data": {
      "text/plain": [
       "No     8952\n",
       "Yes       1\n",
       "Name: Newspaper Article, dtype: int64"
      ]
     },
     "execution_count": 522,
     "metadata": {},
     "output_type": "execute_result"
    }
   ],
   "source": [
    "leads['Newspaper Article'].value_counts()"
   ]
  },
  {
   "cell_type": "markdown",
   "id": "6de11afb",
   "metadata": {},
   "source": [
    "From the above data, we can see that `Newspaper Article` column is highly imbalanced, hence it can be dropped"
   ]
  },
  {
   "cell_type": "code",
   "execution_count": 523,
   "id": "ecc076c4",
   "metadata": {},
   "outputs": [],
   "source": [
    "leads.drop('Newspaper Article',1,inplace=True)"
   ]
  },
  {
   "cell_type": "code",
   "execution_count": 524,
   "id": "78683f78",
   "metadata": {
    "scrolled": true
   },
   "outputs": [
    {
     "data": {
      "text/plain": [
       "No    8953\n",
       "Name: X Education Forums, dtype: int64"
      ]
     },
     "execution_count": 524,
     "metadata": {},
     "output_type": "execute_result"
    }
   ],
   "source": [
    "leads['X Education Forums'].value_counts()"
   ]
  },
  {
   "cell_type": "markdown",
   "id": "9af21a97",
   "metadata": {},
   "source": [
    "`X Education Forums` column contain only one value for all rows, hence it can be dropped."
   ]
  },
  {
   "cell_type": "code",
   "execution_count": 525,
   "id": "295b96fa",
   "metadata": {},
   "outputs": [],
   "source": [
    "leads.drop('X Education Forums',1,inplace=True)"
   ]
  },
  {
   "cell_type": "code",
   "execution_count": 526,
   "id": "4eec0082",
   "metadata": {},
   "outputs": [
    {
     "data": {
      "text/plain": [
       "No     8952\n",
       "Yes       1\n",
       "Name: Newspaper, dtype: int64"
      ]
     },
     "execution_count": 526,
     "metadata": {},
     "output_type": "execute_result"
    }
   ],
   "source": [
    "leads['Newspaper'].value_counts(dropna=False)"
   ]
  },
  {
   "cell_type": "markdown",
   "id": "ac0ccd9a",
   "metadata": {},
   "source": [
    "From the above data, we can see that `Newspaper` column is highly imbalanced, hence it can be dropped"
   ]
  },
  {
   "cell_type": "code",
   "execution_count": 527,
   "id": "352c165a",
   "metadata": {},
   "outputs": [],
   "source": [
    "leads.drop('Newspaper',1,inplace=True)"
   ]
  },
  {
   "cell_type": "code",
   "execution_count": 528,
   "id": "2fadcc57",
   "metadata": {
    "scrolled": true
   },
   "outputs": [
    {
     "data": {
      "text/plain": [
       "No     8950\n",
       "Yes       3\n",
       "Name: Digital Advertisement, dtype: int64"
      ]
     },
     "execution_count": 528,
     "metadata": {},
     "output_type": "execute_result"
    }
   ],
   "source": [
    "leads['Digital Advertisement'].value_counts(dropna=False)"
   ]
  },
  {
   "cell_type": "markdown",
   "id": "eb5bd5a6",
   "metadata": {},
   "source": [
    "From the above data, we can see that `Digital Advertisement` column is highly imbalanced, hence it can be dropped"
   ]
  },
  {
   "cell_type": "code",
   "execution_count": 529,
   "id": "7c586018",
   "metadata": {},
   "outputs": [],
   "source": [
    "leads.drop('Digital Advertisement', 1, inplace=True)"
   ]
  },
  {
   "cell_type": "code",
   "execution_count": 530,
   "id": "214b02e9",
   "metadata": {},
   "outputs": [
    {
     "data": {
      "text/plain": [
       "No     8947\n",
       "Yes       6\n",
       "Name: Through Recommendations, dtype: int64"
      ]
     },
     "execution_count": 530,
     "metadata": {},
     "output_type": "execute_result"
    }
   ],
   "source": [
    "#lets analyse Through Recommendations column\n",
    "leads['Through Recommendations'].value_counts(dropna=False)"
   ]
  },
  {
   "cell_type": "markdown",
   "id": "bbf18688",
   "metadata": {},
   "source": [
    "From the above data, `Through Recommendations` column is highly imbalanced, hence it can be dropped"
   ]
  },
  {
   "cell_type": "code",
   "execution_count": 531,
   "id": "92bf8b54",
   "metadata": {},
   "outputs": [],
   "source": [
    "leads.drop('Through Recommendations', 1, inplace=True)"
   ]
  },
  {
   "cell_type": "code",
   "execution_count": 532,
   "id": "5fbfbbe8",
   "metadata": {},
   "outputs": [
    {
     "data": {
      "text/plain": [
       "No    8953\n",
       "Name: Receive More Updates About Our Courses, dtype: int64"
      ]
     },
     "execution_count": 532,
     "metadata": {},
     "output_type": "execute_result"
    }
   ],
   "source": [
    "#lets analyse 'Receive More Updates About Our Courses' column\n",
    "leads['Receive More Updates About Our Courses'].value_counts(dropna=False)"
   ]
  },
  {
   "cell_type": "markdown",
   "id": "eae19ffb",
   "metadata": {},
   "source": [
    "From the above data, `Receive More Updates About Our Courses` column is highly imbalanced, hence it can be dropped"
   ]
  },
  {
   "cell_type": "code",
   "execution_count": 533,
   "id": "3d9237ce",
   "metadata": {},
   "outputs": [],
   "source": [
    "leads.drop('Receive More Updates About Our Courses', 1, inplace=True)"
   ]
  },
  {
   "cell_type": "code",
   "execution_count": 534,
   "id": "fe1a55bf",
   "metadata": {},
   "outputs": [
    {
     "data": {
      "text/plain": [
       "No    8953\n",
       "Name: Update me on Supply Chain Content, dtype: int64"
      ]
     },
     "execution_count": 534,
     "metadata": {},
     "output_type": "execute_result"
    }
   ],
   "source": [
    "#lets analyse 'Update me on Supply Chain Content' column\n",
    "leads['Update me on Supply Chain Content'].value_counts(dropna=False)"
   ]
  },
  {
   "cell_type": "markdown",
   "id": "7a7398ff",
   "metadata": {},
   "source": [
    "from the above data, we can conclude `Update me on Supply Chain Content` column is highly imbalanced, hence it can dropped"
   ]
  },
  {
   "cell_type": "code",
   "execution_count": 535,
   "id": "e2ff5948",
   "metadata": {},
   "outputs": [],
   "source": [
    "leads.drop('Update me on Supply Chain Content', 1, inplace=True)"
   ]
  },
  {
   "cell_type": "code",
   "execution_count": 536,
   "id": "822971a9",
   "metadata": {},
   "outputs": [
    {
     "data": {
      "text/plain": [
       "No    8953\n",
       "Name: Get updates on DM Content, dtype: int64"
      ]
     },
     "execution_count": 536,
     "metadata": {},
     "output_type": "execute_result"
    }
   ],
   "source": [
    "#lets analyse 'Get updates on DM Content' column\n",
    "leads['Get updates on DM Content'].value_counts(dropna=False)"
   ]
  },
  {
   "cell_type": "markdown",
   "id": "4bf84c85",
   "metadata": {},
   "source": [
    "From the above data, we can conclude that `Get updates on DM Content` column is highly imbalanced, hence it can be dropped"
   ]
  },
  {
   "cell_type": "code",
   "execution_count": 537,
   "id": "04b4dc42",
   "metadata": {},
   "outputs": [],
   "source": [
    "leads.drop('Get updates on DM Content', 1, inplace=True)"
   ]
  },
  {
   "cell_type": "code",
   "execution_count": 538,
   "id": "eb5490e3",
   "metadata": {
    "scrolled": true
   },
   "outputs": [
    {
     "data": {
      "text/plain": [
       "NaN                                                  3284\n",
       "Will revert after reading the email                  2002\n",
       "Ringing                                              1162\n",
       "Interested in other courses                           505\n",
       "Already a student                                     461\n",
       "Closed by Horizzon                                    290\n",
       "switched off                                          237\n",
       "Busy                                                  183\n",
       "Lost to EINS                                          169\n",
       "Not doing further education                           137\n",
       "Interested  in full time MBA                          116\n",
       "Graduation in progress                                110\n",
       "invalid number                                         81\n",
       "Diploma holder (Not Eligible)                          63\n",
       "wrong number given                                     46\n",
       "opp hangup                                             33\n",
       "number not provided                                    26\n",
       "in touch with EINS                                     12\n",
       "Lost to Others                                          7\n",
       "Still Thinking                                          6\n",
       "In confusion whether part time or DLP                   5\n",
       "Interested in Next batch                                5\n",
       "Want to take admission but has financial problems       5\n",
       "Lateral student                                         3\n",
       "Shall take in the next coming month                     2\n",
       "University not recognized                               2\n",
       "Recognition issue (DEC approval)                        1\n",
       "Name: Tags, dtype: int64"
      ]
     },
     "execution_count": 538,
     "metadata": {},
     "output_type": "execute_result"
    }
   ],
   "source": [
    "leads['Tags'].value_counts(dropna=False)"
   ]
  },
  {
   "cell_type": "code",
   "execution_count": 539,
   "id": "ba932003",
   "metadata": {},
   "outputs": [
    {
     "data": {
      "text/plain": [
       "Not Specified                          3284\n",
       "Will revert after reading the email    2002\n",
       "Ringing                                1162\n",
       "Interested in other courses             505\n",
       "Already a student                       461\n",
       "Others                                  403\n",
       "Closed by Horizzon                      290\n",
       "switched off                            237\n",
       "Busy                                    183\n",
       "Not doing further education             137\n",
       "Interested  in full time MBA            116\n",
       "Graduation in progress                  110\n",
       "Diploma holder (Not Eligible)            63\n",
       "Name: Tags, dtype: int64"
      ]
     },
     "execution_count": 539,
     "metadata": {},
     "output_type": "execute_result"
    }
   ],
   "source": [
    "leads['Tags'] = leads['Tags'].replace(np.nan, 'Not Specified')\n",
    "\n",
    "leads['Tags'] = leads['Tags'].replace(['Recognition issue (DEC approval)', 'University not recognized', 'Shall take in the next coming month', 'Lateral student', 'Want to take admission but has financial problems', 'Interested in Next batch', 'In confusion whether part time or DLP', 'Still Thinking', 'Lost to Others', 'in touch with EINS', 'in touch with EINS', 'number not provided', 'opp hangup', 'wrong number given','invalid number', 'Lost to EINS'], 'Others')\n",
    "\n",
    "leads['Tags'].value_counts(dropna=False)"
   ]
  },
  {
   "cell_type": "code",
   "execution_count": 540,
   "id": "6f851238",
   "metadata": {
    "scrolled": true
   },
   "outputs": [
    {
     "data": {
      "image/png": "[encoded data removed]",
      "text/plain": [
       "<Figure size 864x432 with 1 Axes>"
      ]
     },
     "metadata": {},
     "output_type": "display_data"
    }
   ],
   "source": [
    "plt.figure(figsize=(12,6))\n",
    "sns.countplot(leads['Tags'], hue=leads['Converted'])\n",
    "plt.xticks(rotation=90)\n",
    "plt.show()"
   ]
  },
  {
   "cell_type": "markdown",
   "id": "3a6d6bce",
   "metadata": {},
   "source": [
    "From the above graph, we can see that conversion rate is high for `Will revert after reading the email` and `Closed by Horizzon`tags\n",
    "\n",
    "Conversion rate is very low for rows having Interested in other courses, Interested  in full time MBA and Ringing tags"
   ]
  },
  {
   "cell_type": "code",
   "execution_count": 541,
   "id": "c9b0b93b",
   "metadata": {
    "scrolled": false
   },
   "outputs": [
    {
     "data": {
      "text/plain": [
       "NaN                            3578\n",
       "Mumbai                         3109\n",
       "Thane & Outskirts               723\n",
       "Other Cities                    669\n",
       "Other Cities of Maharashtra     438\n",
       "Other Metro Cities              364\n",
       "Tier II Cities                   72\n",
       "Name: City, dtype: int64"
      ]
     },
     "execution_count": 541,
     "metadata": {},
     "output_type": "execute_result"
    }
   ],
   "source": [
    "#lets start analysing categorical variables\n",
    "\n",
    "leads['City'].value_counts(dropna=False)"
   ]
  },
  {
   "cell_type": "code",
   "execution_count": 542,
   "id": "27cb518e",
   "metadata": {},
   "outputs": [
    {
     "data": {
      "text/plain": [
       "Mumbai                         6687\n",
       "Thane & Outskirts               723\n",
       "Other Cities                    669\n",
       "Other Cities of Maharashtra     438\n",
       "Other Metro Cities              364\n",
       "Tier II Cities                   72\n",
       "Name: City, dtype: int64"
      ]
     },
     "execution_count": 542,
     "metadata": {},
     "output_type": "execute_result"
    }
   ],
   "source": [
    "#lets replace missing values in City column with mode of the column\n",
    "\n",
    "leads['City'] = leads['City'].replace(np.nan, 'Mumbai')\n",
    "leads['City'].value_counts(dropna=False)"
   ]
  },
  {
   "cell_type": "code",
   "execution_count": 543,
   "id": "7ed2d736",
   "metadata": {
    "scrolled": true
   },
   "outputs": [
    {
     "data": {
      "image/png": "[encoded data removed]",
      "text/plain": [
       "<Figure size 720x576 with 1 Axes>"
      ]
     },
     "metadata": {},
     "output_type": "display_data"
    }
   ],
   "source": [
    "plt.figure(figsize=(10,8))\n",
    "sns.countplot(leads['City'], hue=leads['Converted'])\n",
    "plt.xticks(rotation=90)\n",
    "plt.title('Citywise countplot')\n",
    "plt.show()"
   ]
  },
  {
   "cell_type": "code",
   "execution_count": 544,
   "id": "9e8f17af",
   "metadata": {},
   "outputs": [
    {
     "data": {
      "text/plain": [
       "No    8953\n",
       "Name: I agree to pay the amount through cheque, dtype: int64"
      ]
     },
     "execution_count": 544,
     "metadata": {},
     "output_type": "execute_result"
    }
   ],
   "source": [
    "#lets analyse 'I agree to pay the amount through cheque' column\n",
    "leads['I agree to pay the amount through cheque'].value_counts(dropna=False)"
   ]
  },
  {
   "cell_type": "markdown",
   "id": "d5ebf762",
   "metadata": {},
   "source": [
    "From the above data, we can see that `I agree to pay the amount through cheque` is highly imbalanced column, hence it can be dropped"
   ]
  },
  {
   "cell_type": "code",
   "execution_count": 545,
   "id": "6cd60eb0",
   "metadata": {},
   "outputs": [],
   "source": [
    "leads.drop('I agree to pay the amount through cheque', 1, inplace=True)"
   ]
  },
  {
   "cell_type": "code",
   "execution_count": 546,
   "id": "f5bf6780",
   "metadata": {},
   "outputs": [
    {
     "data": {
      "text/plain": [
       "No     6155\n",
       "Yes    2798\n",
       "Name: A free copy of Mastering The Interview, dtype: int64"
      ]
     },
     "execution_count": 546,
     "metadata": {},
     "output_type": "execute_result"
    }
   ],
   "source": [
    "leads['A free copy of Mastering The Interview'].value_counts(dropna=False)"
   ]
  },
  {
   "cell_type": "code",
   "execution_count": 547,
   "id": "92f87b3d",
   "metadata": {
    "scrolled": true
   },
   "outputs": [
    {
     "data": {
      "image/png": "[encoded data removed]",
      "text/plain": [
       "<Figure size 432x288 with 1 Axes>"
      ]
     },
     "metadata": {},
     "output_type": "display_data"
    }
   ],
   "source": [
    "sns.countplot(leads['A free copy of Mastering The Interview'], hue=leads['Converted'])\n",
    "plt.show()"
   ]
  },
  {
   "cell_type": "markdown",
   "id": "63609584",
   "metadata": {},
   "source": [
    "`A free copy of Mastering The Interview` shows almost similar trend for converted and non-converted customers, hence can't  conclude anything from the above graph"
   ]
  },
  {
   "cell_type": "code",
   "execution_count": 548,
   "id": "d485c61a",
   "metadata": {},
   "outputs": [
    {
     "data": {
      "text/plain": [
       "Modified                        3224\n",
       "Email Opened                    2789\n",
       "SMS Sent                        2143\n",
       "Page Visited on Website          288\n",
       "Olark Chat Conversation          182\n",
       "Email Link Clicked               170\n",
       "Email Bounced                     59\n",
       "Unsubscribed                      46\n",
       "Unreachable                       32\n",
       "Had a Phone Conversation          13\n",
       "Email Marked Spam                  2\n",
       "Approached upfront                 1\n",
       "Resubscribed to emails             1\n",
       "View in browser link Clicked       1\n",
       "Form Submitted on Website          1\n",
       "Email Received                     1\n",
       "Name: Last Notable Activity, dtype: int64"
      ]
     },
     "execution_count": 548,
     "metadata": {},
     "output_type": "execute_result"
    }
   ],
   "source": [
    "#lets analyse 'Last Notable Activity' column\n",
    "leads['Last Notable Activity'].value_counts(dropna=False)"
   ]
  },
  {
   "cell_type": "code",
   "execution_count": 549,
   "id": "eaf95779",
   "metadata": {
    "scrolled": true
   },
   "outputs": [
    {
     "data": {
      "text/plain": [
       "Modified                   3224\n",
       "Email Opened               2789\n",
       "SMS Sent                   2143\n",
       "Page Visited on Website     288\n",
       "Olark Chat Conversation     182\n",
       "Email Link Clicked          170\n",
       "Email Bounced                59\n",
       "Others                       52\n",
       "Unsubscribed                 46\n",
       "Name: Last Notable Activity, dtype: int64"
      ]
     },
     "execution_count": 549,
     "metadata": {},
     "output_type": "execute_result"
    }
   ],
   "source": [
    "#lets club low frequency categories into others\n",
    "\n",
    "leads['Last Notable Activity'] = leads['Last Notable Activity'].replace(['Unreachable', 'Had a Phone Conversation', 'Email Marked Spam', 'Email Marked Spam', 'Approached upfront', 'Resubscribed to emails', 'View in browser link Clicked', 'Form Submitted on Website', 'Email Received'], 'Others')\n",
    "\n",
    "leads['Last Notable Activity'].value_counts(dropna=False)"
   ]
  },
  {
   "cell_type": "code",
   "execution_count": 550,
   "id": "4eec1e60",
   "metadata": {
    "scrolled": true
   },
   "outputs": [
    {
     "data": {
      "image/png": "[encoded data removed]",
      "text/plain": [
       "<Figure size 864x432 with 1 Axes>"
      ]
     },
     "metadata": {},
     "output_type": "display_data"
    }
   ],
   "source": [
    "plt.figure(figsize=(12,6))\n",
    "sns.countplot(leads['Last Notable Activity'], hue=leads['Converted'])\n",
    "plt.xticks(rotation=90)\n",
    "plt.show()"
   ]
  },
  {
   "cell_type": "markdown",
   "id": "fed7117b",
   "metadata": {},
   "source": [
    "From the above graph, we can see that conversion rate is high where Last notable activity is 'SMS Sent' and it is low where activity is 'Modified', 'Olark Chat Conersation' or 'Email Opened'."
   ]
  },
  {
   "cell_type": "code",
   "execution_count": 551,
   "id": "8574ab4d",
   "metadata": {
    "scrolled": false
   },
   "outputs": [
    {
     "data": {
      "image/png": "[encoded data removed]",
      "text/plain": [
       "<Figure size 432x288 with 2 Axes>"
      ]
     },
     "metadata": {},
     "output_type": "display_data"
    }
   ],
   "source": [
    "#lets analyse correlation using heatmap\n",
    "sns.heatmap(leads.corr(), annot=True, cmap='Reds')\n",
    "plt.show()"
   ]
  },
  {
   "cell_type": "markdown",
   "id": "ae61ab86",
   "metadata": {},
   "source": [
    "From the above heatmap, we can see that `Page Views Per Visit` is highly correlated with `TotalVisits`"
   ]
  },
  {
   "cell_type": "code",
   "execution_count": 552,
   "id": "27cddf69",
   "metadata": {
    "scrolled": false
   },
   "outputs": [
    {
     "name": "stdout",
     "output_type": "stream",
     "text": [
      "<class 'pandas.core.frame.DataFrame'>\n",
      "Int64Index: 8953 entries, 0 to 9239\n",
      "Data columns (total 15 columns):\n",
      " #   Column                                  Non-Null Count  Dtype  \n",
      "---  ------                                  --------------  -----  \n",
      " 0   Lead Number                             8953 non-null   int64  \n",
      " 1   Lead Origin                             8953 non-null   object \n",
      " 2   Lead Source                             8953 non-null   object \n",
      " 3   Do Not Email                            8953 non-null   object \n",
      " 4   Converted                               8953 non-null   int64  \n",
      " 5   TotalVisits                             8953 non-null   float64\n",
      " 6   Total Time Spent on Website             8953 non-null   int64  \n",
      " 7   Page Views Per Visit                    8953 non-null   float64\n",
      " 8   Last Activity                           8953 non-null   object \n",
      " 9   Specialization                          8953 non-null   object \n",
      " 10  What is your current occupation         8953 non-null   object \n",
      " 11  Tags                                    8953 non-null   object \n",
      " 12  City                                    8953 non-null   object \n",
      " 13  A free copy of Mastering The Interview  8953 non-null   object \n",
      " 14  Last Notable Activity                   8953 non-null   object \n",
      "dtypes: float64(2), int64(3), object(10)\n",
      "memory usage: 1.3+ MB\n"
     ]
    }
   ],
   "source": [
    "#check missing values\n",
    "leads.info()"
   ]
  },
  {
   "cell_type": "markdown",
   "id": "0c8ef854",
   "metadata": {},
   "source": [
    "### Dummy variable creation"
   ]
  },
  {
   "cell_type": "code",
   "execution_count": 553,
   "id": "76f4471e",
   "metadata": {
    "scrolled": true
   },
   "outputs": [
    {
     "data": {
      "text/html": [
       "<div>\n",
       "<style scoped>\n",
       "    .dataframe tbody tr th:only-of-type {\n",
       "        vertical-align: middle;\n",
       "    }\n",
       "\n",
       "    .dataframe tbody tr th {\n",
       "        vertical-align: top;\n",
       "    }\n",
       "\n",
       "    .dataframe thead th {\n",
       "        text-align: right;\n",
       "    }\n",
       "</style>\n",
       "<table border=\"1\" class=\"dataframe\">\n",
       "  <thead>\n",
       "    <tr style=\"text-align: right;\">\n",
       "      <th></th>\n",
       "      <th>Lead Number</th>\n",
       "      <th>Lead Origin</th>\n",
       "      <th>Lead Source</th>\n",
       "      <th>Do Not Email</th>\n",
       "      <th>Converted</th>\n",
       "      <th>TotalVisits</th>\n",
       "      <th>Total Time Spent on Website</th>\n",
       "      <th>Page Views Per Visit</th>\n",
       "      <th>Last Activity</th>\n",
       "      <th>Specialization</th>\n",
       "      <th>What is your current occupation</th>\n",
       "      <th>Tags</th>\n",
       "      <th>City</th>\n",
       "      <th>A free copy of Mastering The Interview</th>\n",
       "      <th>Last Notable Activity</th>\n",
       "    </tr>\n",
       "  </thead>\n",
       "  <tbody>\n",
       "    <tr>\n",
       "      <th>0</th>\n",
       "      <td>660737</td>\n",
       "      <td>API</td>\n",
       "      <td>Olark Chat</td>\n",
       "      <td>No</td>\n",
       "      <td>0</td>\n",
       "      <td>0.0</td>\n",
       "      <td>0</td>\n",
       "      <td>0.0</td>\n",
       "      <td>Page Visited on Website</td>\n",
       "      <td>Missing</td>\n",
       "      <td>Unemployed</td>\n",
       "      <td>Interested in other courses</td>\n",
       "      <td>Mumbai</td>\n",
       "      <td>No</td>\n",
       "      <td>Modified</td>\n",
       "    </tr>\n",
       "    <tr>\n",
       "      <th>1</th>\n",
       "      <td>660728</td>\n",
       "      <td>API</td>\n",
       "      <td>Organic Search</td>\n",
       "      <td>No</td>\n",
       "      <td>0</td>\n",
       "      <td>5.0</td>\n",
       "      <td>674</td>\n",
       "      <td>2.5</td>\n",
       "      <td>Email Opened</td>\n",
       "      <td>Missing</td>\n",
       "      <td>Unemployed</td>\n",
       "      <td>Ringing</td>\n",
       "      <td>Mumbai</td>\n",
       "      <td>No</td>\n",
       "      <td>Email Opened</td>\n",
       "    </tr>\n",
       "    <tr>\n",
       "      <th>2</th>\n",
       "      <td>660727</td>\n",
       "      <td>Landing Page Submission</td>\n",
       "      <td>Direct Traffic</td>\n",
       "      <td>No</td>\n",
       "      <td>1</td>\n",
       "      <td>2.0</td>\n",
       "      <td>1532</td>\n",
       "      <td>2.0</td>\n",
       "      <td>Email Opened</td>\n",
       "      <td>Business Administration</td>\n",
       "      <td>Student</td>\n",
       "      <td>Will revert after reading the email</td>\n",
       "      <td>Mumbai</td>\n",
       "      <td>Yes</td>\n",
       "      <td>Email Opened</td>\n",
       "    </tr>\n",
       "    <tr>\n",
       "      <th>3</th>\n",
       "      <td>660719</td>\n",
       "      <td>Landing Page Submission</td>\n",
       "      <td>Direct Traffic</td>\n",
       "      <td>No</td>\n",
       "      <td>0</td>\n",
       "      <td>1.0</td>\n",
       "      <td>305</td>\n",
       "      <td>1.0</td>\n",
       "      <td>Others</td>\n",
       "      <td>Media and Advertising</td>\n",
       "      <td>Unemployed</td>\n",
       "      <td>Ringing</td>\n",
       "      <td>Mumbai</td>\n",
       "      <td>No</td>\n",
       "      <td>Modified</td>\n",
       "    </tr>\n",
       "    <tr>\n",
       "      <th>4</th>\n",
       "      <td>660681</td>\n",
       "      <td>Landing Page Submission</td>\n",
       "      <td>Google</td>\n",
       "      <td>No</td>\n",
       "      <td>1</td>\n",
       "      <td>2.0</td>\n",
       "      <td>1428</td>\n",
       "      <td>1.0</td>\n",
       "      <td>Converted to Lead</td>\n",
       "      <td>Missing</td>\n",
       "      <td>Unemployed</td>\n",
       "      <td>Will revert after reading the email</td>\n",
       "      <td>Mumbai</td>\n",
       "      <td>No</td>\n",
       "      <td>Modified</td>\n",
       "    </tr>\n",
       "  </tbody>\n",
       "</table>\n",
       "</div>"
      ],
      "text/plain": [
       "   Lead Number              Lead Origin     Lead Source Do Not Email  \\\n",
       "0       660737                      API      Olark Chat           No   \n",
       "1       660728                      API  Organic Search           No   \n",
       "2       660727  Landing Page Submission  Direct Traffic           No   \n",
       "3       660719  Landing Page Submission  Direct Traffic           No   \n",
       "4       660681  Landing Page Submission          Google           No   \n",
       "\n",
       "   Converted  TotalVisits  Total Time Spent on Website  Page Views Per Visit  \\\n",
       "0          0          0.0                            0                   0.0   \n",
       "1          0          5.0                          674                   2.5   \n",
       "2          1          2.0                         1532                   2.0   \n",
       "3          0          1.0                          305                   1.0   \n",
       "4          1          2.0                         1428                   1.0   \n",
       "\n",
       "             Last Activity           Specialization  \\\n",
       "0  Page Visited on Website                  Missing   \n",
       "1             Email Opened                  Missing   \n",
       "2             Email Opened  Business Administration   \n",
       "3                   Others    Media and Advertising   \n",
       "4        Converted to Lead                  Missing   \n",
       "\n",
       "  What is your current occupation                                 Tags  \\\n",
       "0                      Unemployed          Interested in other courses   \n",
       "1                      Unemployed                              Ringing   \n",
       "2                         Student  Will revert after reading the email   \n",
       "3                      Unemployed                              Ringing   \n",
       "4                      Unemployed  Will revert after reading the email   \n",
       "\n",
       "     City A free copy of Mastering The Interview Last Notable Activity  \n",
       "0  Mumbai                                     No              Modified  \n",
       "1  Mumbai                                     No          Email Opened  \n",
       "2  Mumbai                                    Yes          Email Opened  \n",
       "3  Mumbai                                     No              Modified  \n",
       "4  Mumbai                                     No              Modified  "
      ]
     },
     "execution_count": 553,
     "metadata": {},
     "output_type": "execute_result"
    }
   ],
   "source": [
    "leads.head()"
   ]
  },
  {
   "cell_type": "code",
   "execution_count": 554,
   "id": "cf76d99e",
   "metadata": {
    "scrolled": true
   },
   "outputs": [
    {
     "data": {
      "text/html": [
       "<div>\n",
       "<style scoped>\n",
       "    .dataframe tbody tr th:only-of-type {\n",
       "        vertical-align: middle;\n",
       "    }\n",
       "\n",
       "    .dataframe tbody tr th {\n",
       "        vertical-align: top;\n",
       "    }\n",
       "\n",
       "    .dataframe thead th {\n",
       "        text-align: right;\n",
       "    }\n",
       "</style>\n",
       "<table border=\"1\" class=\"dataframe\">\n",
       "  <thead>\n",
       "    <tr style=\"text-align: right;\">\n",
       "      <th></th>\n",
       "      <th>Lead Number</th>\n",
       "      <th>Lead Origin</th>\n",
       "      <th>Lead Source</th>\n",
       "      <th>Do Not Email</th>\n",
       "      <th>Converted</th>\n",
       "      <th>TotalVisits</th>\n",
       "      <th>Total Time Spent on Website</th>\n",
       "      <th>Page Views Per Visit</th>\n",
       "      <th>Last Activity</th>\n",
       "      <th>Specialization</th>\n",
       "      <th>What is your current occupation</th>\n",
       "      <th>Tags</th>\n",
       "      <th>City</th>\n",
       "      <th>A free copy of Mastering The Interview</th>\n",
       "      <th>Last Notable Activity</th>\n",
       "    </tr>\n",
       "  </thead>\n",
       "  <tbody>\n",
       "    <tr>\n",
       "      <th>0</th>\n",
       "      <td>660737</td>\n",
       "      <td>API</td>\n",
       "      <td>Olark Chat</td>\n",
       "      <td>0</td>\n",
       "      <td>0</td>\n",
       "      <td>0.0</td>\n",
       "      <td>0</td>\n",
       "      <td>0.0</td>\n",
       "      <td>Page Visited on Website</td>\n",
       "      <td>Missing</td>\n",
       "      <td>Unemployed</td>\n",
       "      <td>Interested in other courses</td>\n",
       "      <td>Mumbai</td>\n",
       "      <td>0</td>\n",
       "      <td>Modified</td>\n",
       "    </tr>\n",
       "    <tr>\n",
       "      <th>1</th>\n",
       "      <td>660728</td>\n",
       "      <td>API</td>\n",
       "      <td>Organic Search</td>\n",
       "      <td>0</td>\n",
       "      <td>0</td>\n",
       "      <td>5.0</td>\n",
       "      <td>674</td>\n",
       "      <td>2.5</td>\n",
       "      <td>Email Opened</td>\n",
       "      <td>Missing</td>\n",
       "      <td>Unemployed</td>\n",
       "      <td>Ringing</td>\n",
       "      <td>Mumbai</td>\n",
       "      <td>0</td>\n",
       "      <td>Email Opened</td>\n",
       "    </tr>\n",
       "    <tr>\n",
       "      <th>2</th>\n",
       "      <td>660727</td>\n",
       "      <td>Landing Page Submission</td>\n",
       "      <td>Direct Traffic</td>\n",
       "      <td>0</td>\n",
       "      <td>1</td>\n",
       "      <td>2.0</td>\n",
       "      <td>1532</td>\n",
       "      <td>2.0</td>\n",
       "      <td>Email Opened</td>\n",
       "      <td>Business Administration</td>\n",
       "      <td>Student</td>\n",
       "      <td>Will revert after reading the email</td>\n",
       "      <td>Mumbai</td>\n",
       "      <td>1</td>\n",
       "      <td>Email Opened</td>\n",
       "    </tr>\n",
       "    <tr>\n",
       "      <th>3</th>\n",
       "      <td>660719</td>\n",
       "      <td>Landing Page Submission</td>\n",
       "      <td>Direct Traffic</td>\n",
       "      <td>0</td>\n",
       "      <td>0</td>\n",
       "      <td>1.0</td>\n",
       "      <td>305</td>\n",
       "      <td>1.0</td>\n",
       "      <td>Others</td>\n",
       "      <td>Media and Advertising</td>\n",
       "      <td>Unemployed</td>\n",
       "      <td>Ringing</td>\n",
       "      <td>Mumbai</td>\n",
       "      <td>0</td>\n",
       "      <td>Modified</td>\n",
       "    </tr>\n",
       "    <tr>\n",
       "      <th>4</th>\n",
       "      <td>660681</td>\n",
       "      <td>Landing Page Submission</td>\n",
       "      <td>Google</td>\n",
       "      <td>0</td>\n",
       "      <td>1</td>\n",
       "      <td>2.0</td>\n",
       "      <td>1428</td>\n",
       "      <td>1.0</td>\n",
       "      <td>Converted to Lead</td>\n",
       "      <td>Missing</td>\n",
       "      <td>Unemployed</td>\n",
       "      <td>Will revert after reading the email</td>\n",
       "      <td>Mumbai</td>\n",
       "      <td>0</td>\n",
       "      <td>Modified</td>\n",
       "    </tr>\n",
       "  </tbody>\n",
       "</table>\n",
       "</div>"
      ],
      "text/plain": [
       "   Lead Number              Lead Origin     Lead Source  Do Not Email  \\\n",
       "0       660737                      API      Olark Chat             0   \n",
       "1       660728                      API  Organic Search             0   \n",
       "2       660727  Landing Page Submission  Direct Traffic             0   \n",
       "3       660719  Landing Page Submission  Direct Traffic             0   \n",
       "4       660681  Landing Page Submission          Google             0   \n",
       "\n",
       "   Converted  TotalVisits  Total Time Spent on Website  Page Views Per Visit  \\\n",
       "0          0          0.0                            0                   0.0   \n",
       "1          0          5.0                          674                   2.5   \n",
       "2          1          2.0                         1532                   2.0   \n",
       "3          0          1.0                          305                   1.0   \n",
       "4          1          2.0                         1428                   1.0   \n",
       "\n",
       "             Last Activity           Specialization  \\\n",
       "0  Page Visited on Website                  Missing   \n",
       "1             Email Opened                  Missing   \n",
       "2             Email Opened  Business Administration   \n",
       "3                   Others    Media and Advertising   \n",
       "4        Converted to Lead                  Missing   \n",
       "\n",
       "  What is your current occupation                                 Tags  \\\n",
       "0                      Unemployed          Interested in other courses   \n",
       "1                      Unemployed                              Ringing   \n",
       "2                         Student  Will revert after reading the email   \n",
       "3                      Unemployed                              Ringing   \n",
       "4                      Unemployed  Will revert after reading the email   \n",
       "\n",
       "     City  A free copy of Mastering The Interview Last Notable Activity  \n",
       "0  Mumbai                                       0              Modified  \n",
       "1  Mumbai                                       0          Email Opened  \n",
       "2  Mumbai                                       1          Email Opened  \n",
       "3  Mumbai                                       0              Modified  \n",
       "4  Mumbai                                       0              Modified  "
      ]
     },
     "execution_count": 554,
     "metadata": {},
     "output_type": "execute_result"
    }
   ],
   "source": [
    "binary_vars = ['Do Not Email', 'A free copy of Mastering The Interview']\n",
    "\n",
    "def binary_transform(x):\n",
    "    return x.map({'Yes':1, 'No':0})\n",
    "\n",
    "leads[binary_vars] = leads[binary_vars].apply(binary_transform)\n",
    "\n",
    "leads.head()"
   ]
  },
  {
   "cell_type": "code",
   "execution_count": 555,
   "id": "9af7d0d2",
   "metadata": {},
   "outputs": [],
   "source": [
    "#Creating dummy variables for 'Lead Origin' feature\n",
    "df = pd.get_dummies(leads[['Lead Origin']], drop_first=True)\n",
    "\n",
    "leads = pd.concat([leads, df], 1)\n",
    "\n",
    "leads.drop(['Lead Origin'], axis=1, inplace=True)"
   ]
  },
  {
   "cell_type": "code",
   "execution_count": 556,
   "id": "7d64f027",
   "metadata": {},
   "outputs": [
    {
     "data": {
      "text/plain": [
       "Google              2841\n",
       "Direct Traffic      2499\n",
       "Olark Chat          1751\n",
       "Organic Search      1092\n",
       "Reference            442\n",
       "Welingak Website     129\n",
       "Referral Sites       117\n",
       "Others                49\n",
       "Facebook              33\n",
       "Name: Lead Source, dtype: int64"
      ]
     },
     "execution_count": 556,
     "metadata": {},
     "output_type": "execute_result"
    }
   ],
   "source": [
    "leads['Lead Source'].value_counts()"
   ]
  },
  {
   "cell_type": "code",
   "execution_count": 557,
   "id": "1d689e9a",
   "metadata": {},
   "outputs": [],
   "source": [
    "#Creating dummy variables for 'Lead Source' feature\n",
    "df = pd.get_dummies(leads['Lead Source'], prefix='Lead Source')\n",
    "\n",
    "df.drop('Lead Source_Others', 1, inplace=True)\n",
    "\n",
    "leads = pd.concat([leads, df], axis=1)\n",
    "\n",
    "leads.drop(['Lead Source'], axis=1, inplace=True)"
   ]
  },
  {
   "cell_type": "code",
   "execution_count": 558,
   "id": "98161cb5",
   "metadata": {
    "scrolled": true
   },
   "outputs": [
    {
     "data": {
      "text/plain": [
       "Management                           4126\n",
       "Missing                              3284\n",
       "Business Administration               390\n",
       "Banking, Investment And Insurance     325\n",
       "Media and Advertising                 197\n",
       "Travel and Tourism                    189\n",
       "International Business                171\n",
       "E-COMMERCE                            107\n",
       "Rural and Agribusiness                 70\n",
       "E-Business                             56\n",
       "Services Excellence                    38\n",
       "Name: Specialization, dtype: int64"
      ]
     },
     "execution_count": 558,
     "metadata": {},
     "output_type": "execute_result"
    }
   ],
   "source": [
    "leads['Specialization'].value_counts()"
   ]
  },
  {
   "cell_type": "code",
   "execution_count": 559,
   "id": "a725a3d5",
   "metadata": {},
   "outputs": [],
   "source": [
    "##Creating dummy variables for 'Specialization' feature\n",
    "df = pd.get_dummies(leads['Specialization'], prefix='Specialization')\n",
    "\n",
    "df.drop('Specialization_Missing', 1, inplace=True)\n",
    "\n",
    "leads = pd.concat([leads, df], axis=1)\n",
    "\n",
    "leads.drop(['Specialization'], axis=1, inplace=True)"
   ]
  },
  {
   "cell_type": "code",
   "execution_count": 560,
   "id": "1d12c649",
   "metadata": {},
   "outputs": [
    {
     "data": {
      "text/plain": [
       "Unemployed              8053\n",
       "Working Professional     667\n",
       "Student                  204\n",
       "Other                     13\n",
       "Housewife                  9\n",
       "Businessman                7\n",
       "Name: What is your current occupation, dtype: int64"
      ]
     },
     "execution_count": 560,
     "metadata": {},
     "output_type": "execute_result"
    }
   ],
   "source": [
    "leads['What is your current occupation'].value_counts()"
   ]
  },
  {
   "cell_type": "code",
   "execution_count": 561,
   "id": "9bd67589",
   "metadata": {},
   "outputs": [],
   "source": [
    "###Creating dummy variables for 'What is your current occupation' feature\n",
    "df = pd.get_dummies(leads['What is your current occupation'], prefix='Occupation')\n",
    "\n",
    "df.drop('Occupation_Other',1,inplace=True)\n",
    "\n",
    "leads = pd.concat([leads, df], 1)\n",
    "\n",
    "leads.drop('What is your current occupation', 1, inplace=True)"
   ]
  },
  {
   "cell_type": "code",
   "execution_count": 562,
   "id": "485d8db7",
   "metadata": {
    "scrolled": true
   },
   "outputs": [
    {
     "data": {
      "text/plain": [
       "Mumbai                         6687\n",
       "Thane & Outskirts               723\n",
       "Other Cities                    669\n",
       "Other Cities of Maharashtra     438\n",
       "Other Metro Cities              364\n",
       "Tier II Cities                   72\n",
       "Name: City, dtype: int64"
      ]
     },
     "execution_count": 562,
     "metadata": {},
     "output_type": "execute_result"
    }
   ],
   "source": [
    "leads.City.value_counts()"
   ]
  },
  {
   "cell_type": "code",
   "execution_count": 563,
   "id": "ee03c5be",
   "metadata": {},
   "outputs": [],
   "source": [
    "##Creating dummy variables for 'City' feature\n",
    "df = pd.get_dummies(leads['City'], prefix='City')\n",
    "\n",
    "df.drop('City_Other Cities',1,inplace=True)\n",
    "\n",
    "leads = pd.concat([leads, df], 1)\n",
    "\n",
    "leads.drop('City', 1, inplace=True)"
   ]
  },
  {
   "cell_type": "code",
   "execution_count": 564,
   "id": "87b5f570",
   "metadata": {},
   "outputs": [],
   "source": [
    "#Creating dummy variable for 'Last Activity' feature\n",
    "df = pd.get_dummies(leads['Last Activity'], prefix='Last Activity')\n",
    "\n",
    "df.drop('Last Activity_Others',1,inplace=True)\n",
    "\n",
    "leads = pd.concat([leads, df], 1)\n",
    "\n",
    "leads.drop('Last Activity', 1, inplace=True)"
   ]
  },
  {
   "cell_type": "code",
   "execution_count": 565,
   "id": "adc387f9",
   "metadata": {},
   "outputs": [],
   "source": [
    "#Creating dummy variable for 'Tags' feature\n",
    "df = pd.get_dummies(leads['Tags'], prefix='Tags')\n",
    "\n",
    "df.drop('Tags_Not Specified',1,inplace=True)\n",
    "\n",
    "leads = pd.concat([leads, df], 1)\n",
    "\n",
    "leads.drop('Tags', 1, inplace=True)"
   ]
  },
  {
   "cell_type": "code",
   "execution_count": 566,
   "id": "2314880a",
   "metadata": {},
   "outputs": [],
   "source": [
    "#Creating dummy variable for 'Last Notable Activity' feature\n",
    "df = pd.get_dummies(leads['Last Notable Activity'], prefix='Last Notable Activity')\n",
    "\n",
    "df.drop('Last Notable Activity_Others',1,inplace=True)\n",
    "\n",
    "leads = pd.concat([leads, df], 1)\n",
    "\n",
    "leads.drop('Last Notable Activity', 1, inplace=True)"
   ]
  },
  {
   "cell_type": "code",
   "execution_count": 567,
   "id": "a4e2efe5",
   "metadata": {},
   "outputs": [
    {
     "data": {
      "text/plain": [
       "Index([], dtype='object')"
      ]
     },
     "execution_count": 567,
     "metadata": {},
     "output_type": "execute_result"
    }
   ],
   "source": [
    "cat_cols= leads.select_dtypes(include=['object']).columns\n",
    "cat_cols"
   ]
  },
  {
   "cell_type": "markdown",
   "id": "124afdf1",
   "metadata": {},
   "source": [
    "We can see that there are no more categorical columns present in the dataframe"
   ]
  },
  {
   "cell_type": "markdown",
   "id": "eff95903",
   "metadata": {},
   "source": [
    "### Split the test-train data"
   ]
  },
  {
   "cell_type": "code",
   "execution_count": 568,
   "id": "c18d2bbb",
   "metadata": {},
   "outputs": [],
   "source": [
    "#Creating X and y variables for modelling\n",
    "from sklearn.model_selection import train_test_split\n",
    "\n",
    "y = leads['Converted']\n",
    "\n",
    "X = leads.drop('Converted', 1)"
   ]
  },
  {
   "cell_type": "code",
   "execution_count": 569,
   "id": "09b9b9b5",
   "metadata": {
    "scrolled": false
   },
   "outputs": [
    {
     "data": {
      "text/html": [
       "<div>\n",
       "<style scoped>\n",
       "    .dataframe tbody tr th:only-of-type {\n",
       "        vertical-align: middle;\n",
       "    }\n",
       "\n",
       "    .dataframe tbody tr th {\n",
       "        vertical-align: top;\n",
       "    }\n",
       "\n",
       "    .dataframe thead th {\n",
       "        text-align: right;\n",
       "    }\n",
       "</style>\n",
       "<table border=\"1\" class=\"dataframe\">\n",
       "  <thead>\n",
       "    <tr style=\"text-align: right;\">\n",
       "      <th></th>\n",
       "      <th>Lead Number</th>\n",
       "      <th>Do Not Email</th>\n",
       "      <th>TotalVisits</th>\n",
       "      <th>Total Time Spent on Website</th>\n",
       "      <th>Page Views Per Visit</th>\n",
       "      <th>A free copy of Mastering The Interview</th>\n",
       "      <th>Lead Origin_Landing Page Submission</th>\n",
       "      <th>Lead Origin_Lead Add Form</th>\n",
       "      <th>Lead Origin_Lead Import</th>\n",
       "      <th>Lead Source_Direct Traffic</th>\n",
       "      <th>...</th>\n",
       "      <th>Tags_Will revert after reading the email</th>\n",
       "      <th>Tags_switched off</th>\n",
       "      <th>Last Notable Activity_Email Bounced</th>\n",
       "      <th>Last Notable Activity_Email Link Clicked</th>\n",
       "      <th>Last Notable Activity_Email Opened</th>\n",
       "      <th>Last Notable Activity_Modified</th>\n",
       "      <th>Last Notable Activity_Olark Chat Conversation</th>\n",
       "      <th>Last Notable Activity_Page Visited on Website</th>\n",
       "      <th>Last Notable Activity_SMS Sent</th>\n",
       "      <th>Last Notable Activity_Unsubscribed</th>\n",
       "    </tr>\n",
       "  </thead>\n",
       "  <tbody>\n",
       "    <tr>\n",
       "      <th>0</th>\n",
       "      <td>660737</td>\n",
       "      <td>0</td>\n",
       "      <td>0.0</td>\n",
       "      <td>0</td>\n",
       "      <td>0.0</td>\n",
       "      <td>0</td>\n",
       "      <td>0</td>\n",
       "      <td>0</td>\n",
       "      <td>0</td>\n",
       "      <td>0</td>\n",
       "      <td>...</td>\n",
       "      <td>0</td>\n",
       "      <td>0</td>\n",
       "      <td>0</td>\n",
       "      <td>0</td>\n",
       "      <td>0</td>\n",
       "      <td>1</td>\n",
       "      <td>0</td>\n",
       "      <td>0</td>\n",
       "      <td>0</td>\n",
       "      <td>0</td>\n",
       "    </tr>\n",
       "    <tr>\n",
       "      <th>1</th>\n",
       "      <td>660728</td>\n",
       "      <td>0</td>\n",
       "      <td>5.0</td>\n",
       "      <td>674</td>\n",
       "      <td>2.5</td>\n",
       "      <td>0</td>\n",
       "      <td>0</td>\n",
       "      <td>0</td>\n",
       "      <td>0</td>\n",
       "      <td>0</td>\n",
       "      <td>...</td>\n",
       "      <td>0</td>\n",
       "      <td>0</td>\n",
       "      <td>0</td>\n",
       "      <td>0</td>\n",
       "      <td>1</td>\n",
       "      <td>0</td>\n",
       "      <td>0</td>\n",
       "      <td>0</td>\n",
       "      <td>0</td>\n",
       "      <td>0</td>\n",
       "    </tr>\n",
       "    <tr>\n",
       "      <th>2</th>\n",
       "      <td>660727</td>\n",
       "      <td>0</td>\n",
       "      <td>2.0</td>\n",
       "      <td>1532</td>\n",
       "      <td>2.0</td>\n",
       "      <td>1</td>\n",
       "      <td>1</td>\n",
       "      <td>0</td>\n",
       "      <td>0</td>\n",
       "      <td>1</td>\n",
       "      <td>...</td>\n",
       "      <td>1</td>\n",
       "      <td>0</td>\n",
       "      <td>0</td>\n",
       "      <td>0</td>\n",
       "      <td>1</td>\n",
       "      <td>0</td>\n",
       "      <td>0</td>\n",
       "      <td>0</td>\n",
       "      <td>0</td>\n",
       "      <td>0</td>\n",
       "    </tr>\n",
       "    <tr>\n",
       "      <th>3</th>\n",
       "      <td>660719</td>\n",
       "      <td>0</td>\n",
       "      <td>1.0</td>\n",
       "      <td>305</td>\n",
       "      <td>1.0</td>\n",
       "      <td>0</td>\n",
       "      <td>1</td>\n",
       "      <td>0</td>\n",
       "      <td>0</td>\n",
       "      <td>1</td>\n",
       "      <td>...</td>\n",
       "      <td>0</td>\n",
       "      <td>0</td>\n",
       "      <td>0</td>\n",
       "      <td>0</td>\n",
       "      <td>0</td>\n",
       "      <td>1</td>\n",
       "      <td>0</td>\n",
       "      <td>0</td>\n",
       "      <td>0</td>\n",
       "      <td>0</td>\n",
       "    </tr>\n",
       "    <tr>\n",
       "      <th>4</th>\n",
       "      <td>660681</td>\n",
       "      <td>0</td>\n",
       "      <td>2.0</td>\n",
       "      <td>1428</td>\n",
       "      <td>1.0</td>\n",
       "      <td>0</td>\n",
       "      <td>1</td>\n",
       "      <td>0</td>\n",
       "      <td>0</td>\n",
       "      <td>0</td>\n",
       "      <td>...</td>\n",
       "      <td>1</td>\n",
       "      <td>0</td>\n",
       "      <td>0</td>\n",
       "      <td>0</td>\n",
       "      <td>0</td>\n",
       "      <td>1</td>\n",
       "      <td>0</td>\n",
       "      <td>0</td>\n",
       "      <td>0</td>\n",
       "      <td>0</td>\n",
       "    </tr>\n",
       "  </tbody>\n",
       "</table>\n",
       "<p>5 rows × 66 columns</p>\n",
       "</div>"
      ],
      "text/plain": [
       "   Lead Number  Do Not Email  TotalVisits  Total Time Spent on Website  \\\n",
       "0       660737             0          0.0                            0   \n",
       "1       660728             0          5.0                          674   \n",
       "2       660727             0          2.0                         1532   \n",
       "3       660719             0          1.0                          305   \n",
       "4       660681             0          2.0                         1428   \n",
       "\n",
       "   Page Views Per Visit  A free copy of Mastering The Interview  \\\n",
       "0                   0.0                                       0   \n",
       "1                   2.5                                       0   \n",
       "2                   2.0                                       1   \n",
       "3                   1.0                                       0   \n",
       "4                   1.0                                       0   \n",
       "\n",
       "   Lead Origin_Landing Page Submission  Lead Origin_Lead Add Form  \\\n",
       "0                                    0                          0   \n",
       "1                                    0                          0   \n",
       "2                                    1                          0   \n",
       "3                                    1                          0   \n",
       "4                                    1                          0   \n",
       "\n",
       "   Lead Origin_Lead Import  Lead Source_Direct Traffic  ...  \\\n",
       "0                        0                           0  ...   \n",
       "1                        0                           0  ...   \n",
       "2                        0                           1  ...   \n",
       "3                        0                           1  ...   \n",
       "4                        0                           0  ...   \n",
       "\n",
       "   Tags_Will revert after reading the email  Tags_switched off  \\\n",
       "0                                         0                  0   \n",
       "1                                         0                  0   \n",
       "2                                         1                  0   \n",
       "3                                         0                  0   \n",
       "4                                         1                  0   \n",
       "\n",
       "   Last Notable Activity_Email Bounced  \\\n",
       "0                                    0   \n",
       "1                                    0   \n",
       "2                                    0   \n",
       "3                                    0   \n",
       "4                                    0   \n",
       "\n",
       "   Last Notable Activity_Email Link Clicked  \\\n",
       "0                                         0   \n",
       "1                                         0   \n",
       "2                                         0   \n",
       "3                                         0   \n",
       "4                                         0   \n",
       "\n",
       "   Last Notable Activity_Email Opened  Last Notable Activity_Modified  \\\n",
       "0                                   0                               1   \n",
       "1                                   1                               0   \n",
       "2                                   1                               0   \n",
       "3                                   0                               1   \n",
       "4                                   0                               1   \n",
       "\n",
       "   Last Notable Activity_Olark Chat Conversation  \\\n",
       "0                                              0   \n",
       "1                                              0   \n",
       "2                                              0   \n",
       "3                                              0   \n",
       "4                                              0   \n",
       "\n",
       "   Last Notable Activity_Page Visited on Website  \\\n",
       "0                                              0   \n",
       "1                                              0   \n",
       "2                                              0   \n",
       "3                                              0   \n",
       "4                                              0   \n",
       "\n",
       "   Last Notable Activity_SMS Sent  Last Notable Activity_Unsubscribed  \n",
       "0                               0                                   0  \n",
       "1                               0                                   0  \n",
       "2                               0                                   0  \n",
       "3                               0                                   0  \n",
       "4                               0                                   0  \n",
       "\n",
       "[5 rows x 66 columns]"
      ]
     },
     "execution_count": 569,
     "metadata": {},
     "output_type": "execute_result"
    }
   ],
   "source": [
    "X.head()"
   ]
  },
  {
   "cell_type": "code",
   "execution_count": 570,
   "id": "bd89cbf7",
   "metadata": {},
   "outputs": [
    {
     "data": {
      "text/plain": [
       "(8953, 66)"
      ]
     },
     "execution_count": 570,
     "metadata": {},
     "output_type": "execute_result"
    }
   ],
   "source": [
    "X.shape"
   ]
  },
  {
   "cell_type": "code",
   "execution_count": 571,
   "id": "3a08dfb9",
   "metadata": {},
   "outputs": [],
   "source": [
    "X_train, X_test, y_train, y_test = train_test_split(X, y, random_state=42, train_size=0.7, stratify=y)"
   ]
  },
  {
   "cell_type": "code",
   "execution_count": 572,
   "id": "72b5e40e",
   "metadata": {},
   "outputs": [],
   "source": [
    "final_train_leads = X_train['Lead Number']\n",
    "final_test_leads = X_test['Lead Number']\n",
    "\n",
    "X_train.drop('Lead Number', 1, inplace=True)\n",
    "X_test.drop('Lead Number', 1, inplace=True)"
   ]
  },
  {
   "cell_type": "code",
   "execution_count": 573,
   "id": "d8a713cb",
   "metadata": {},
   "outputs": [
    {
     "data": {
      "text/plain": [
       "(6267, 65)"
      ]
     },
     "execution_count": 573,
     "metadata": {},
     "output_type": "execute_result"
    }
   ],
   "source": [
    "X_train.shape"
   ]
  },
  {
   "cell_type": "code",
   "execution_count": 574,
   "id": "aec3574c",
   "metadata": {},
   "outputs": [
    {
     "data": {
      "text/plain": [
       "(2686, 65)"
      ]
     },
     "execution_count": 574,
     "metadata": {},
     "output_type": "execute_result"
    }
   ],
   "source": [
    "X_test.shape"
   ]
  },
  {
   "cell_type": "code",
   "execution_count": 575,
   "id": "f9dd1ea8",
   "metadata": {
    "scrolled": true
   },
   "outputs": [
    {
     "data": {
      "text/plain": [
       "0    5558\n",
       "1    3395\n",
       "Name: Converted, dtype: int64"
      ]
     },
     "execution_count": 575,
     "metadata": {},
     "output_type": "execute_result"
    }
   ],
   "source": [
    "y.value_counts()"
   ]
  },
  {
   "cell_type": "code",
   "execution_count": 576,
   "id": "281a0d3b",
   "metadata": {
    "scrolled": true
   },
   "outputs": [
    {
     "data": {
      "text/plain": [
       "0    3891\n",
       "1    2376\n",
       "Name: Converted, dtype: int64"
      ]
     },
     "execution_count": 576,
     "metadata": {},
     "output_type": "execute_result"
    }
   ],
   "source": [
    "y_train.value_counts()"
   ]
  },
  {
   "cell_type": "code",
   "execution_count": 577,
   "id": "4c98e1b3",
   "metadata": {},
   "outputs": [
    {
     "data": {
      "text/plain": [
       "0    1667\n",
       "1    1019\n",
       "Name: Converted, dtype: int64"
      ]
     },
     "execution_count": 577,
     "metadata": {},
     "output_type": "execute_result"
    }
   ],
   "source": [
    "y_test.value_counts()"
   ]
  },
  {
   "cell_type": "markdown",
   "id": "d8eb56e3",
   "metadata": {},
   "source": [
    "### Scaling"
   ]
  },
  {
   "cell_type": "code",
   "execution_count": 578,
   "id": "18262217",
   "metadata": {
    "scrolled": true
   },
   "outputs": [
    {
     "data": {
      "text/html": [
       "<div>\n",
       "<style scoped>\n",
       "    .dataframe tbody tr th:only-of-type {\n",
       "        vertical-align: middle;\n",
       "    }\n",
       "\n",
       "    .dataframe tbody tr th {\n",
       "        vertical-align: top;\n",
       "    }\n",
       "\n",
       "    .dataframe thead th {\n",
       "        text-align: right;\n",
       "    }\n",
       "</style>\n",
       "<table border=\"1\" class=\"dataframe\">\n",
       "  <thead>\n",
       "    <tr style=\"text-align: right;\">\n",
       "      <th></th>\n",
       "      <th>Do Not Email</th>\n",
       "      <th>TotalVisits</th>\n",
       "      <th>Total Time Spent on Website</th>\n",
       "      <th>Page Views Per Visit</th>\n",
       "      <th>A free copy of Mastering The Interview</th>\n",
       "      <th>Lead Origin_Landing Page Submission</th>\n",
       "      <th>Lead Origin_Lead Add Form</th>\n",
       "      <th>Lead Origin_Lead Import</th>\n",
       "      <th>Lead Source_Direct Traffic</th>\n",
       "      <th>Lead Source_Facebook</th>\n",
       "      <th>...</th>\n",
       "      <th>Tags_Will revert after reading the email</th>\n",
       "      <th>Tags_switched off</th>\n",
       "      <th>Last Notable Activity_Email Bounced</th>\n",
       "      <th>Last Notable Activity_Email Link Clicked</th>\n",
       "      <th>Last Notable Activity_Email Opened</th>\n",
       "      <th>Last Notable Activity_Modified</th>\n",
       "      <th>Last Notable Activity_Olark Chat Conversation</th>\n",
       "      <th>Last Notable Activity_Page Visited on Website</th>\n",
       "      <th>Last Notable Activity_SMS Sent</th>\n",
       "      <th>Last Notable Activity_Unsubscribed</th>\n",
       "    </tr>\n",
       "  </thead>\n",
       "  <tbody>\n",
       "    <tr>\n",
       "      <th>1372</th>\n",
       "      <td>0</td>\n",
       "      <td>0.635767</td>\n",
       "      <td>1.356436</td>\n",
       "      <td>1.459702</td>\n",
       "      <td>0</td>\n",
       "      <td>1</td>\n",
       "      <td>0</td>\n",
       "      <td>0</td>\n",
       "      <td>0</td>\n",
       "      <td>0</td>\n",
       "      <td>...</td>\n",
       "      <td>0</td>\n",
       "      <td>0</td>\n",
       "      <td>0</td>\n",
       "      <td>0</td>\n",
       "      <td>1</td>\n",
       "      <td>0</td>\n",
       "      <td>0</td>\n",
       "      <td>0</td>\n",
       "      <td>0</td>\n",
       "      <td>0</td>\n",
       "    </tr>\n",
       "    <tr>\n",
       "      <th>1007</th>\n",
       "      <td>0</td>\n",
       "      <td>0.292170</td>\n",
       "      <td>2.368645</td>\n",
       "      <td>0.927570</td>\n",
       "      <td>0</td>\n",
       "      <td>1</td>\n",
       "      <td>0</td>\n",
       "      <td>0</td>\n",
       "      <td>0</td>\n",
       "      <td>0</td>\n",
       "      <td>...</td>\n",
       "      <td>1</td>\n",
       "      <td>0</td>\n",
       "      <td>0</td>\n",
       "      <td>0</td>\n",
       "      <td>0</td>\n",
       "      <td>0</td>\n",
       "      <td>0</td>\n",
       "      <td>0</td>\n",
       "      <td>1</td>\n",
       "      <td>0</td>\n",
       "    </tr>\n",
       "    <tr>\n",
       "      <th>1397</th>\n",
       "      <td>0</td>\n",
       "      <td>-1.082219</td>\n",
       "      <td>-0.872636</td>\n",
       "      <td>-1.200957</td>\n",
       "      <td>0</td>\n",
       "      <td>0</td>\n",
       "      <td>1</td>\n",
       "      <td>0</td>\n",
       "      <td>0</td>\n",
       "      <td>0</td>\n",
       "      <td>...</td>\n",
       "      <td>0</td>\n",
       "      <td>0</td>\n",
       "      <td>0</td>\n",
       "      <td>0</td>\n",
       "      <td>1</td>\n",
       "      <td>0</td>\n",
       "      <td>0</td>\n",
       "      <td>0</td>\n",
       "      <td>0</td>\n",
       "      <td>0</td>\n",
       "    </tr>\n",
       "    <tr>\n",
       "      <th>7111</th>\n",
       "      <td>0</td>\n",
       "      <td>-0.395024</td>\n",
       "      <td>-0.706700</td>\n",
       "      <td>-0.136693</td>\n",
       "      <td>1</td>\n",
       "      <td>1</td>\n",
       "      <td>0</td>\n",
       "      <td>0</td>\n",
       "      <td>1</td>\n",
       "      <td>0</td>\n",
       "      <td>...</td>\n",
       "      <td>0</td>\n",
       "      <td>0</td>\n",
       "      <td>0</td>\n",
       "      <td>0</td>\n",
       "      <td>0</td>\n",
       "      <td>1</td>\n",
       "      <td>0</td>\n",
       "      <td>0</td>\n",
       "      <td>0</td>\n",
       "      <td>0</td>\n",
       "    </tr>\n",
       "    <tr>\n",
       "      <th>2535</th>\n",
       "      <td>0</td>\n",
       "      <td>0.979364</td>\n",
       "      <td>-0.675356</td>\n",
       "      <td>0.395438</td>\n",
       "      <td>0</td>\n",
       "      <td>1</td>\n",
       "      <td>0</td>\n",
       "      <td>0</td>\n",
       "      <td>0</td>\n",
       "      <td>0</td>\n",
       "      <td>...</td>\n",
       "      <td>0</td>\n",
       "      <td>0</td>\n",
       "      <td>0</td>\n",
       "      <td>0</td>\n",
       "      <td>1</td>\n",
       "      <td>0</td>\n",
       "      <td>0</td>\n",
       "      <td>0</td>\n",
       "      <td>0</td>\n",
       "      <td>0</td>\n",
       "    </tr>\n",
       "  </tbody>\n",
       "</table>\n",
       "<p>5 rows × 65 columns</p>\n",
       "</div>"
      ],
      "text/plain": [
       "      Do Not Email  TotalVisits  Total Time Spent on Website  \\\n",
       "1372             0     0.635767                     1.356436   \n",
       "1007             0     0.292170                     2.368645   \n",
       "1397             0    -1.082219                    -0.872636   \n",
       "7111             0    -0.395024                    -0.706700   \n",
       "2535             0     0.979364                    -0.675356   \n",
       "\n",
       "      Page Views Per Visit  A free copy of Mastering The Interview  \\\n",
       "1372              1.459702                                       0   \n",
       "1007              0.927570                                       0   \n",
       "1397             -1.200957                                       0   \n",
       "7111             -0.136693                                       1   \n",
       "2535              0.395438                                       0   \n",
       "\n",
       "      Lead Origin_Landing Page Submission  Lead Origin_Lead Add Form  \\\n",
       "1372                                    1                          0   \n",
       "1007                                    1                          0   \n",
       "1397                                    0                          1   \n",
       "7111                                    1                          0   \n",
       "2535                                    1                          0   \n",
       "\n",
       "      Lead Origin_Lead Import  Lead Source_Direct Traffic  \\\n",
       "1372                        0                           0   \n",
       "1007                        0                           0   \n",
       "1397                        0                           0   \n",
       "7111                        0                           1   \n",
       "2535                        0                           0   \n",
       "\n",
       "      Lead Source_Facebook  ...  Tags_Will revert after reading the email  \\\n",
       "1372                     0  ...                                         0   \n",
       "1007                     0  ...                                         1   \n",
       "1397                     0  ...                                         0   \n",
       "7111                     0  ...                                         0   \n",
       "2535                     0  ...                                         0   \n",
       "\n",
       "      Tags_switched off  Last Notable Activity_Email Bounced  \\\n",
       "1372                  0                                    0   \n",
       "1007                  0                                    0   \n",
       "1397                  0                                    0   \n",
       "7111                  0                                    0   \n",
       "2535                  0                                    0   \n",
       "\n",
       "      Last Notable Activity_Email Link Clicked  \\\n",
       "1372                                         0   \n",
       "1007                                         0   \n",
       "1397                                         0   \n",
       "7111                                         0   \n",
       "2535                                         0   \n",
       "\n",
       "      Last Notable Activity_Email Opened  Last Notable Activity_Modified  \\\n",
       "1372                                   1                               0   \n",
       "1007                                   0                               0   \n",
       "1397                                   1                               0   \n",
       "7111                                   0                               1   \n",
       "2535                                   1                               0   \n",
       "\n",
       "      Last Notable Activity_Olark Chat Conversation  \\\n",
       "1372                                              0   \n",
       "1007                                              0   \n",
       "1397                                              0   \n",
       "7111                                              0   \n",
       "2535                                              0   \n",
       "\n",
       "      Last Notable Activity_Page Visited on Website  \\\n",
       "1372                                              0   \n",
       "1007                                              0   \n",
       "1397                                              0   \n",
       "7111                                              0   \n",
       "2535                                              0   \n",
       "\n",
       "      Last Notable Activity_SMS Sent  Last Notable Activity_Unsubscribed  \n",
       "1372                               0                                   0  \n",
       "1007                               1                                   0  \n",
       "1397                               0                                   0  \n",
       "7111                               0                                   0  \n",
       "2535                               0                                   0  \n",
       "\n",
       "[5 rows x 65 columns]"
      ]
     },
     "execution_count": 578,
     "metadata": {},
     "output_type": "execute_result"
    }
   ],
   "source": [
    "#Scaling the variables using StandardScaler\n",
    "\n",
    "from sklearn.preprocessing import StandardScaler\n",
    "\n",
    "scaler = StandardScaler()\n",
    "\n",
    "num_cols = ['TotalVisits', 'Total Time Spent on Website', 'Page Views Per Visit']\n",
    "\n",
    "X_train[num_cols] = scaler.fit_transform(X_train[num_cols])\n",
    "\n",
    "X_train.head()"
   ]
  },
  {
   "cell_type": "markdown",
   "id": "18ebd713",
   "metadata": {},
   "source": [
    "### Feature selection using RFE and model building"
   ]
  },
  {
   "cell_type": "code",
   "execution_count": 579,
   "id": "dca2aef4",
   "metadata": {},
   "outputs": [],
   "source": [
    "from sklearn.linear_model import LogisticRegression\n",
    "\n",
    "lr = LogisticRegression()"
   ]
  },
  {
   "cell_type": "code",
   "execution_count": 580,
   "id": "91821cc1",
   "metadata": {},
   "outputs": [],
   "source": [
    "#select top 15 features using RFE\n",
    "from sklearn.feature_selection import RFE\n",
    "\n",
    "rfe = RFE(lr, 15)\n",
    "\n",
    "rfe = rfe.fit(X_train, y_train)"
   ]
  },
  {
   "cell_type": "code",
   "execution_count": 581,
   "id": "75bfd786",
   "metadata": {
    "scrolled": true
   },
   "outputs": [
    {
     "data": {
      "text/plain": [
       "[('Do Not Email', True, 1),\n",
       " ('TotalVisits', False, 35),\n",
       " ('Total Time Spent on Website', False, 6),\n",
       " ('Page Views Per Visit', False, 34),\n",
       " ('A free copy of Mastering The Interview', False, 51),\n",
       " ('Lead Origin_Landing Page Submission', False, 19),\n",
       " ('Lead Origin_Lead Add Form', True, 1),\n",
       " ('Lead Origin_Lead Import', False, 27),\n",
       " ('Lead Source_Direct Traffic', False, 3),\n",
       " ('Lead Source_Facebook', False, 26),\n",
       " ('Lead Source_Google', False, 5),\n",
       " ('Lead Source_Olark Chat', False, 22),\n",
       " ('Lead Source_Organic Search', False, 4),\n",
       " ('Lead Source_Reference', False, 18),\n",
       " ('Lead Source_Referral Sites', False, 2),\n",
       " ('Lead Source_Welingak Website', True, 1),\n",
       " ('Specialization_Banking, Investment And Insurance', False, 30),\n",
       " ('Specialization_Business Administration', False, 45),\n",
       " ('Specialization_E-Business', False, 38),\n",
       " ('Specialization_E-COMMERCE', False, 25),\n",
       " ('Specialization_International Business', False, 21),\n",
       " ('Specialization_Management', False, 46),\n",
       " ('Specialization_Media and Advertising', False, 42),\n",
       " ('Specialization_Rural and Agribusiness', False, 44),\n",
       " ('Specialization_Services Excellence', False, 10),\n",
       " ('Specialization_Travel and Tourism', False, 11),\n",
       " ('Occupation_Businessman', False, 47),\n",
       " ('Occupation_Housewife', False, 36),\n",
       " ('Occupation_Student', False, 32),\n",
       " ('Occupation_Unemployed', False, 28),\n",
       " ('Occupation_Working Professional', True, 1),\n",
       " ('City_Mumbai', False, 50),\n",
       " ('City_Other Cities of Maharashtra', False, 48),\n",
       " ('City_Other Metro Cities', False, 24),\n",
       " ('City_Thane & Outskirts', False, 37),\n",
       " ('City_Tier II Cities', False, 31),\n",
       " ('Last Activity_Converted to Lead', False, 20),\n",
       " ('Last Activity_Email Bounced', False, 17),\n",
       " ('Last Activity_Email Link Clicked', False, 39),\n",
       " ('Last Activity_Email Opened', False, 33),\n",
       " ('Last Activity_Form Submitted on Website', False, 40),\n",
       " ('Last Activity_Olark Chat Conversation', True, 1),\n",
       " ('Last Activity_Page Visited on Website', False, 23),\n",
       " ('Last Activity_SMS Sent', False, 8),\n",
       " ('Last Activity_Unsubscribed', False, 43),\n",
       " ('Tags_Already a student', True, 1),\n",
       " ('Tags_Busy', False, 14),\n",
       " ('Tags_Closed by Horizzon', True, 1),\n",
       " ('Tags_Diploma holder (Not Eligible)', True, 1),\n",
       " ('Tags_Graduation in progress', False, 15),\n",
       " ('Tags_Interested  in full time MBA', True, 1),\n",
       " ('Tags_Interested in other courses', True, 1),\n",
       " ('Tags_Not doing further education', True, 1),\n",
       " ('Tags_Others', False, 7),\n",
       " ('Tags_Ringing', True, 1),\n",
       " ('Tags_Will revert after reading the email', True, 1),\n",
       " ('Tags_switched off', True, 1),\n",
       " ('Last Notable Activity_Email Bounced', False, 16),\n",
       " ('Last Notable Activity_Email Link Clicked', False, 12),\n",
       " ('Last Notable Activity_Email Opened', False, 29),\n",
       " ('Last Notable Activity_Modified', False, 9),\n",
       " ('Last Notable Activity_Olark Chat Conversation', False, 13),\n",
       " ('Last Notable Activity_Page Visited on Website', False, 49),\n",
       " ('Last Notable Activity_SMS Sent', True, 1),\n",
       " ('Last Notable Activity_Unsubscribed', False, 41)]"
      ]
     },
     "execution_count": 581,
     "metadata": {},
     "output_type": "execute_result"
    }
   ],
   "source": [
    "list(zip(X_train.columns, rfe.support_, rfe.ranking_))"
   ]
  },
  {
   "cell_type": "code",
   "execution_count": 582,
   "id": "9540c9fe",
   "metadata": {
    "scrolled": false
   },
   "outputs": [
    {
     "data": {
      "text/plain": [
       "Index(['Do Not Email', 'Lead Origin_Lead Add Form',\n",
       "       'Lead Source_Welingak Website', 'Occupation_Working Professional',\n",
       "       'Last Activity_Olark Chat Conversation', 'Tags_Already a student',\n",
       "       'Tags_Closed by Horizzon', 'Tags_Diploma holder (Not Eligible)',\n",
       "       'Tags_Interested  in full time MBA', 'Tags_Interested in other courses',\n",
       "       'Tags_Not doing further education', 'Tags_Ringing',\n",
       "       'Tags_Will revert after reading the email', 'Tags_switched off',\n",
       "       'Last Notable Activity_SMS Sent'],\n",
       "      dtype='object')"
      ]
     },
     "execution_count": 582,
     "metadata": {},
     "output_type": "execute_result"
    }
   ],
   "source": [
    "cols = X_train.columns[rfe.support_]\n",
    "cols"
   ]
  },
  {
   "cell_type": "markdown",
   "id": "a345abb8",
   "metadata": {},
   "source": [
    "### Assessing the model with StatsModels"
   ]
  },
  {
   "cell_type": "code",
   "execution_count": 583,
   "id": "7c0da880",
   "metadata": {},
   "outputs": [],
   "source": [
    "import statsmodels.api as sm"
   ]
  },
  {
   "cell_type": "code",
   "execution_count": 584,
   "id": "50eb505b",
   "metadata": {
    "scrolled": true
   },
   "outputs": [
    {
     "data": {
      "text/html": [
       "<table class=\"simpletable\">\n",
       "<caption>Generalized Linear Model Regression Results</caption>\n",
       "<tr>\n",
       "  <th>Dep. Variable:</th>       <td>Converted</td>    <th>  No. Observations:  </th>  <td>  6267</td> \n",
       "</tr>\n",
       "<tr>\n",
       "  <th>Model:</th>                  <td>GLM</td>       <th>  Df Residuals:      </th>  <td>  6251</td> \n",
       "</tr>\n",
       "<tr>\n",
       "  <th>Model Family:</th>        <td>Binomial</td>     <th>  Df Model:          </th>  <td>    15</td> \n",
       "</tr>\n",
       "<tr>\n",
       "  <th>Link Function:</th>         <td>logit</td>      <th>  Scale:             </th> <td>  1.0000</td>\n",
       "</tr>\n",
       "<tr>\n",
       "  <th>Method:</th>                <td>IRLS</td>       <th>  Log-Likelihood:    </th> <td> -1612.0</td>\n",
       "</tr>\n",
       "<tr>\n",
       "  <th>Date:</th>            <td>Mon, 09 May 2022</td> <th>  Deviance:          </th> <td>  3224.0</td>\n",
       "</tr>\n",
       "<tr>\n",
       "  <th>Time:</th>                <td>09:47:17</td>     <th>  Pearson chi2:      </th> <td>7.58e+03</td>\n",
       "</tr>\n",
       "<tr>\n",
       "  <th>No. Iterations:</th>          <td>9</td>        <th>                     </th>     <td> </td>   \n",
       "</tr>\n",
       "<tr>\n",
       "  <th>Covariance Type:</th>     <td>nonrobust</td>    <th>                     </th>     <td> </td>   \n",
       "</tr>\n",
       "</table>\n",
       "<table class=\"simpletable\">\n",
       "<tr>\n",
       "                      <td></td>                        <th>coef</th>     <th>std err</th>      <th>z</th>      <th>P>|z|</th>  <th>[0.025</th>    <th>0.975]</th>  \n",
       "</tr>\n",
       "<tr>\n",
       "  <th>const</th>                                    <td>   -1.3036</td> <td>    0.059</td> <td>  -22.078</td> <td> 0.000</td> <td>   -1.419</td> <td>   -1.188</td>\n",
       "</tr>\n",
       "<tr>\n",
       "  <th>Do Not Email</th>                             <td>   -1.3068</td> <td>    0.201</td> <td>   -6.490</td> <td> 0.000</td> <td>   -1.701</td> <td>   -0.912</td>\n",
       "</tr>\n",
       "<tr>\n",
       "  <th>Lead Origin_Lead Add Form</th>                <td>    1.1717</td> <td>    0.361</td> <td>    3.250</td> <td> 0.001</td> <td>    0.465</td> <td>    1.878</td>\n",
       "</tr>\n",
       "<tr>\n",
       "  <th>Lead Source_Welingak Website</th>             <td>    3.8942</td> <td>    1.077</td> <td>    3.616</td> <td> 0.000</td> <td>    1.784</td> <td>    6.005</td>\n",
       "</tr>\n",
       "<tr>\n",
       "  <th>Occupation_Working Professional</th>          <td>    1.4359</td> <td>    0.357</td> <td>    4.022</td> <td> 0.000</td> <td>    0.736</td> <td>    2.136</td>\n",
       "</tr>\n",
       "<tr>\n",
       "  <th>Last Activity_Olark Chat Conversation</th>    <td>   -1.4267</td> <td>    0.189</td> <td>   -7.531</td> <td> 0.000</td> <td>   -1.798</td> <td>   -1.055</td>\n",
       "</tr>\n",
       "<tr>\n",
       "  <th>Tags_Already a student</th>                   <td>   -4.2956</td> <td>    1.004</td> <td>   -4.279</td> <td> 0.000</td> <td>   -6.263</td> <td>   -2.328</td>\n",
       "</tr>\n",
       "<tr>\n",
       "  <th>Tags_Closed by Horizzon</th>                  <td>    6.1336</td> <td>    1.008</td> <td>    6.085</td> <td> 0.000</td> <td>    4.158</td> <td>    8.109</td>\n",
       "</tr>\n",
       "<tr>\n",
       "  <th>Tags_Diploma holder (Not Eligible)</th>       <td>   -2.6022</td> <td>    1.022</td> <td>   -2.547</td> <td> 0.011</td> <td>   -4.605</td> <td>   -0.599</td>\n",
       "</tr>\n",
       "<tr>\n",
       "  <th>Tags_Interested  in full time MBA</th>        <td>   -2.2215</td> <td>    0.724</td> <td>   -3.070</td> <td> 0.002</td> <td>   -3.640</td> <td>   -0.803</td>\n",
       "</tr>\n",
       "<tr>\n",
       "  <th>Tags_Interested in other courses</th>         <td>   -2.4941</td> <td>    0.394</td> <td>   -6.333</td> <td> 0.000</td> <td>   -3.266</td> <td>   -1.722</td>\n",
       "</tr>\n",
       "<tr>\n",
       "  <th>Tags_Not doing further education</th>         <td>   -3.0483</td> <td>    1.012</td> <td>   -3.012</td> <td> 0.003</td> <td>   -5.032</td> <td>   -1.064</td>\n",
       "</tr>\n",
       "<tr>\n",
       "  <th>Tags_Ringing</th>                             <td>   -3.4242</td> <td>    0.231</td> <td>  -14.807</td> <td> 0.000</td> <td>   -3.877</td> <td>   -2.971</td>\n",
       "</tr>\n",
       "<tr>\n",
       "  <th>Tags_Will revert after reading the email</th> <td>    3.9917</td> <td>    0.167</td> <td>   23.833</td> <td> 0.000</td> <td>    3.663</td> <td>    4.320</td>\n",
       "</tr>\n",
       "<tr>\n",
       "  <th>Tags_switched off</th>                        <td>   -3.8901</td> <td>    0.595</td> <td>   -6.541</td> <td> 0.000</td> <td>   -5.056</td> <td>   -2.724</td>\n",
       "</tr>\n",
       "<tr>\n",
       "  <th>Last Notable Activity_SMS Sent</th>           <td>    2.1703</td> <td>    0.113</td> <td>   19.200</td> <td> 0.000</td> <td>    1.949</td> <td>    2.392</td>\n",
       "</tr>\n",
       "</table>"
      ],
      "text/plain": [
       "<class 'statsmodels.iolib.summary.Summary'>\n",
       "\"\"\"\n",
       "                 Generalized Linear Model Regression Results                  \n",
       "==============================================================================\n",
       "Dep. Variable:              Converted   No. Observations:                 6267\n",
       "Model:                            GLM   Df Residuals:                     6251\n",
       "Model Family:                Binomial   Df Model:                           15\n",
       "Link Function:                  logit   Scale:                          1.0000\n",
       "Method:                          IRLS   Log-Likelihood:                -1612.0\n",
       "Date:                Mon, 09 May 2022   Deviance:                       3224.0\n",
       "Time:                        09:47:17   Pearson chi2:                 7.58e+03\n",
       "No. Iterations:                     9                                         \n",
       "Covariance Type:            nonrobust                                         \n",
       "============================================================================================================\n",
       "                                               coef    std err          z      P>|z|      [0.025      0.975]\n",
       "------------------------------------------------------------------------------------------------------------\n",
       "const                                       -1.3036      0.059    -22.078      0.000      -1.419      -1.188\n",
       "Do Not Email                                -1.3068      0.201     -6.490      0.000      -1.701      -0.912\n",
       "Lead Origin_Lead Add Form                    1.1717      0.361      3.250      0.001       0.465       1.878\n",
       "Lead Source_Welingak Website                 3.8942      1.077      3.616      0.000       1.784       6.005\n",
       "Occupation_Working Professional              1.4359      0.357      4.022      0.000       0.736       2.136\n",
       "Last Activity_Olark Chat Conversation       -1.4267      0.189     -7.531      0.000      -1.798      -1.055\n",
       "Tags_Already a student                      -4.2956      1.004     -4.279      0.000      -6.263      -2.328\n",
       "Tags_Closed by Horizzon                      6.1336      1.008      6.085      0.000       4.158       8.109\n",
       "Tags_Diploma holder (Not Eligible)          -2.6022      1.022     -2.547      0.011      -4.605      -0.599\n",
       "Tags_Interested  in full time MBA           -2.2215      0.724     -3.070      0.002      -3.640      -0.803\n",
       "Tags_Interested in other courses            -2.4941      0.394     -6.333      0.000      -3.266      -1.722\n",
       "Tags_Not doing further education            -3.0483      1.012     -3.012      0.003      -5.032      -1.064\n",
       "Tags_Ringing                                -3.4242      0.231    -14.807      0.000      -3.877      -2.971\n",
       "Tags_Will revert after reading the email     3.9917      0.167     23.833      0.000       3.663       4.320\n",
       "Tags_switched off                           -3.8901      0.595     -6.541      0.000      -5.056      -2.724\n",
       "Last Notable Activity_SMS Sent               2.1703      0.113     19.200      0.000       1.949       2.392\n",
       "============================================================================================================\n",
       "\"\"\""
      ]
     },
     "execution_count": 584,
     "metadata": {},
     "output_type": "execute_result"
    }
   ],
   "source": [
    "#create logistic regression model using StatsModels\n",
    "X_train_sm = sm.add_constant(X_train[cols])\n",
    "logm2 = sm.GLM(y_train,X_train_sm, family = sm.families.Binomial())\n",
    "res = logm2.fit()\n",
    "res.summary()"
   ]
  },
  {
   "cell_type": "markdown",
   "id": "107a4758",
   "metadata": {},
   "source": [
    "`Tags_Diploma holder (Not Eligible)` feature has higher p-value, hence we will drop this."
   ]
  },
  {
   "cell_type": "code",
   "execution_count": 585,
   "id": "1558bbda",
   "metadata": {
    "scrolled": false
   },
   "outputs": [
    {
     "data": {
      "text/html": [
       "<table class=\"simpletable\">\n",
       "<caption>Generalized Linear Model Regression Results</caption>\n",
       "<tr>\n",
       "  <th>Dep. Variable:</th>       <td>Converted</td>    <th>  No. Observations:  </th>  <td>  6267</td> \n",
       "</tr>\n",
       "<tr>\n",
       "  <th>Model:</th>                  <td>GLM</td>       <th>  Df Residuals:      </th>  <td>  6252</td> \n",
       "</tr>\n",
       "<tr>\n",
       "  <th>Model Family:</th>        <td>Binomial</td>     <th>  Df Model:          </th>  <td>    14</td> \n",
       "</tr>\n",
       "<tr>\n",
       "  <th>Link Function:</th>         <td>logit</td>      <th>  Scale:             </th> <td>  1.0000</td>\n",
       "</tr>\n",
       "<tr>\n",
       "  <th>Method:</th>                <td>IRLS</td>       <th>  Log-Likelihood:    </th> <td> -1619.8</td>\n",
       "</tr>\n",
       "<tr>\n",
       "  <th>Date:</th>            <td>Mon, 09 May 2022</td> <th>  Deviance:          </th> <td>  3239.5</td>\n",
       "</tr>\n",
       "<tr>\n",
       "  <th>Time:</th>                <td>09:47:17</td>     <th>  Pearson chi2:      </th> <td>7.63e+03</td>\n",
       "</tr>\n",
       "<tr>\n",
       "  <th>No. Iterations:</th>          <td>9</td>        <th>                     </th>     <td> </td>   \n",
       "</tr>\n",
       "<tr>\n",
       "  <th>Covariance Type:</th>     <td>nonrobust</td>    <th>                     </th>     <td> </td>   \n",
       "</tr>\n",
       "</table>\n",
       "<table class=\"simpletable\">\n",
       "<tr>\n",
       "                      <td></td>                        <th>coef</th>     <th>std err</th>      <th>z</th>      <th>P>|z|</th>  <th>[0.025</th>    <th>0.975]</th>  \n",
       "</tr>\n",
       "<tr>\n",
       "  <th>const</th>                                    <td>   -1.3295</td> <td>    0.059</td> <td>  -22.596</td> <td> 0.000</td> <td>   -1.445</td> <td>   -1.214</td>\n",
       "</tr>\n",
       "<tr>\n",
       "  <th>Do Not Email</th>                             <td>   -1.3069</td> <td>    0.202</td> <td>   -6.483</td> <td> 0.000</td> <td>   -1.702</td> <td>   -0.912</td>\n",
       "</tr>\n",
       "<tr>\n",
       "  <th>Lead Origin_Lead Add Form</th>                <td>    1.1988</td> <td>    0.360</td> <td>    3.330</td> <td> 0.001</td> <td>    0.493</td> <td>    1.904</td>\n",
       "</tr>\n",
       "<tr>\n",
       "  <th>Lead Source_Welingak Website</th>             <td>    3.8897</td> <td>    1.077</td> <td>    3.613</td> <td> 0.000</td> <td>    1.779</td> <td>    6.000</td>\n",
       "</tr>\n",
       "<tr>\n",
       "  <th>Occupation_Working Professional</th>          <td>    1.2879</td> <td>    0.340</td> <td>    3.792</td> <td> 0.000</td> <td>    0.622</td> <td>    1.954</td>\n",
       "</tr>\n",
       "<tr>\n",
       "  <th>Last Activity_Olark Chat Conversation</th>    <td>   -1.4116</td> <td>    0.189</td> <td>   -7.451</td> <td> 0.000</td> <td>   -1.783</td> <td>   -1.040</td>\n",
       "</tr>\n",
       "<tr>\n",
       "  <th>Tags_Already a student</th>                   <td>   -4.2621</td> <td>    1.004</td> <td>   -4.247</td> <td> 0.000</td> <td>   -6.229</td> <td>   -2.295</td>\n",
       "</tr>\n",
       "<tr>\n",
       "  <th>Tags_Closed by Horizzon</th>                  <td>    6.1646</td> <td>    1.008</td> <td>    6.117</td> <td> 0.000</td> <td>    4.189</td> <td>    8.140</td>\n",
       "</tr>\n",
       "<tr>\n",
       "  <th>Tags_Interested  in full time MBA</th>        <td>   -2.1797</td> <td>    0.723</td> <td>   -3.017</td> <td> 0.003</td> <td>   -3.596</td> <td>   -0.764</td>\n",
       "</tr>\n",
       "<tr>\n",
       "  <th>Tags_Interested in other courses</th>         <td>   -2.4513</td> <td>    0.392</td> <td>   -6.245</td> <td> 0.000</td> <td>   -3.221</td> <td>   -1.682</td>\n",
       "</tr>\n",
       "<tr>\n",
       "  <th>Tags_Not doing further education</th>         <td>   -3.0251</td> <td>    1.012</td> <td>   -2.988</td> <td> 0.003</td> <td>   -5.009</td> <td>   -1.041</td>\n",
       "</tr>\n",
       "<tr>\n",
       "  <th>Tags_Ringing</th>                             <td>   -3.4129</td> <td>    0.231</td> <td>  -14.753</td> <td> 0.000</td> <td>   -3.866</td> <td>   -2.959</td>\n",
       "</tr>\n",
       "<tr>\n",
       "  <th>Tags_Will revert after reading the email</th> <td>    4.0249</td> <td>    0.168</td> <td>   24.020</td> <td> 0.000</td> <td>    3.696</td> <td>    4.353</td>\n",
       "</tr>\n",
       "<tr>\n",
       "  <th>Tags_switched off</th>                        <td>   -3.8813</td> <td>    0.595</td> <td>   -6.525</td> <td> 0.000</td> <td>   -5.047</td> <td>   -2.715</td>\n",
       "</tr>\n",
       "<tr>\n",
       "  <th>Last Notable Activity_SMS Sent</th>           <td>    2.1907</td> <td>    0.113</td> <td>   19.406</td> <td> 0.000</td> <td>    1.969</td> <td>    2.412</td>\n",
       "</tr>\n",
       "</table>"
      ],
      "text/plain": [
       "<class 'statsmodels.iolib.summary.Summary'>\n",
       "\"\"\"\n",
       "                 Generalized Linear Model Regression Results                  \n",
       "==============================================================================\n",
       "Dep. Variable:              Converted   No. Observations:                 6267\n",
       "Model:                            GLM   Df Residuals:                     6252\n",
       "Model Family:                Binomial   Df Model:                           14\n",
       "Link Function:                  logit   Scale:                          1.0000\n",
       "Method:                          IRLS   Log-Likelihood:                -1619.8\n",
       "Date:                Mon, 09 May 2022   Deviance:                       3239.5\n",
       "Time:                        09:47:17   Pearson chi2:                 7.63e+03\n",
       "No. Iterations:                     9                                         \n",
       "Covariance Type:            nonrobust                                         \n",
       "============================================================================================================\n",
       "                                               coef    std err          z      P>|z|      [0.025      0.975]\n",
       "------------------------------------------------------------------------------------------------------------\n",
       "const                                       -1.3295      0.059    -22.596      0.000      -1.445      -1.214\n",
       "Do Not Email                                -1.3069      0.202     -6.483      0.000      -1.702      -0.912\n",
       "Lead Origin_Lead Add Form                    1.1988      0.360      3.330      0.001       0.493       1.904\n",
       "Lead Source_Welingak Website                 3.8897      1.077      3.613      0.000       1.779       6.000\n",
       "Occupation_Working Professional              1.2879      0.340      3.792      0.000       0.622       1.954\n",
       "Last Activity_Olark Chat Conversation       -1.4116      0.189     -7.451      0.000      -1.783      -1.040\n",
       "Tags_Already a student                      -4.2621      1.004     -4.247      0.000      -6.229      -2.295\n",
       "Tags_Closed by Horizzon                      6.1646      1.008      6.117      0.000       4.189       8.140\n",
       "Tags_Interested  in full time MBA           -2.1797      0.723     -3.017      0.003      -3.596      -0.764\n",
       "Tags_Interested in other courses            -2.4513      0.392     -6.245      0.000      -3.221      -1.682\n",
       "Tags_Not doing further education            -3.0251      1.012     -2.988      0.003      -5.009      -1.041\n",
       "Tags_Ringing                                -3.4129      0.231    -14.753      0.000      -3.866      -2.959\n",
       "Tags_Will revert after reading the email     4.0249      0.168     24.020      0.000       3.696       4.353\n",
       "Tags_switched off                           -3.8813      0.595     -6.525      0.000      -5.047      -2.715\n",
       "Last Notable Activity_SMS Sent               2.1907      0.113     19.406      0.000       1.969       2.412\n",
       "============================================================================================================\n",
       "\"\"\""
      ]
     },
     "execution_count": 585,
     "metadata": {},
     "output_type": "execute_result"
    }
   ],
   "source": [
    "cols = cols.drop('Tags_Diploma holder (Not Eligible)', 1)\n",
    "\n",
    "\n",
    "X_train_sm = sm.add_constant(X_train[cols])\n",
    "logm2 = sm.GLM(y_train,X_train_sm, family = sm.families.Binomial())\n",
    "res = logm2.fit()\n",
    "res.summary()\n"
   ]
  },
  {
   "cell_type": "markdown",
   "id": "3458d72c",
   "metadata": {},
   "source": [
    "### Checking VIF's"
   ]
  },
  {
   "cell_type": "code",
   "execution_count": 586,
   "id": "dc0580fa",
   "metadata": {},
   "outputs": [],
   "source": [
    "from statsmodels.stats.outliers_influence import variance_inflation_factor"
   ]
  },
  {
   "cell_type": "code",
   "execution_count": 587,
   "id": "97d2321d",
   "metadata": {
    "scrolled": false
   },
   "outputs": [
    {
     "data": {
      "text/html": [
       "<div>\n",
       "<style scoped>\n",
       "    .dataframe tbody tr th:only-of-type {\n",
       "        vertical-align: middle;\n",
       "    }\n",
       "\n",
       "    .dataframe tbody tr th {\n",
       "        vertical-align: top;\n",
       "    }\n",
       "\n",
       "    .dataframe thead th {\n",
       "        text-align: right;\n",
       "    }\n",
       "</style>\n",
       "<table border=\"1\" class=\"dataframe\">\n",
       "  <thead>\n",
       "    <tr style=\"text-align: right;\">\n",
       "      <th></th>\n",
       "      <th>Features</th>\n",
       "      <th>VIF</th>\n",
       "    </tr>\n",
       "  </thead>\n",
       "  <tbody>\n",
       "    <tr>\n",
       "      <th>11</th>\n",
       "      <td>Tags_Will revert after reading the email</td>\n",
       "      <td>1.64</td>\n",
       "    </tr>\n",
       "    <tr>\n",
       "      <th>1</th>\n",
       "      <td>Lead Origin_Lead Add Form</td>\n",
       "      <td>1.62</td>\n",
       "    </tr>\n",
       "    <tr>\n",
       "      <th>13</th>\n",
       "      <td>Last Notable Activity_SMS Sent</td>\n",
       "      <td>1.46</td>\n",
       "    </tr>\n",
       "    <tr>\n",
       "      <th>3</th>\n",
       "      <td>Occupation_Working Professional</td>\n",
       "      <td>1.34</td>\n",
       "    </tr>\n",
       "    <tr>\n",
       "      <th>2</th>\n",
       "      <td>Lead Source_Welingak Website</td>\n",
       "      <td>1.33</td>\n",
       "    </tr>\n",
       "    <tr>\n",
       "      <th>6</th>\n",
       "      <td>Tags_Closed by Horizzon</td>\n",
       "      <td>1.16</td>\n",
       "    </tr>\n",
       "    <tr>\n",
       "      <th>10</th>\n",
       "      <td>Tags_Ringing</td>\n",
       "      <td>1.08</td>\n",
       "    </tr>\n",
       "    <tr>\n",
       "      <th>0</th>\n",
       "      <td>Do Not Email</td>\n",
       "      <td>1.07</td>\n",
       "    </tr>\n",
       "    <tr>\n",
       "      <th>4</th>\n",
       "      <td>Last Activity_Olark Chat Conversation</td>\n",
       "      <td>1.06</td>\n",
       "    </tr>\n",
       "    <tr>\n",
       "      <th>5</th>\n",
       "      <td>Tags_Already a student</td>\n",
       "      <td>1.03</td>\n",
       "    </tr>\n",
       "    <tr>\n",
       "      <th>8</th>\n",
       "      <td>Tags_Interested in other courses</td>\n",
       "      <td>1.03</td>\n",
       "    </tr>\n",
       "    <tr>\n",
       "      <th>9</th>\n",
       "      <td>Tags_Not doing further education</td>\n",
       "      <td>1.03</td>\n",
       "    </tr>\n",
       "    <tr>\n",
       "      <th>12</th>\n",
       "      <td>Tags_switched off</td>\n",
       "      <td>1.03</td>\n",
       "    </tr>\n",
       "    <tr>\n",
       "      <th>7</th>\n",
       "      <td>Tags_Interested  in full time MBA</td>\n",
       "      <td>1.00</td>\n",
       "    </tr>\n",
       "  </tbody>\n",
       "</table>\n",
       "</div>"
      ],
      "text/plain": [
       "                                    Features   VIF\n",
       "11  Tags_Will revert after reading the email  1.64\n",
       "1                  Lead Origin_Lead Add Form  1.62\n",
       "13            Last Notable Activity_SMS Sent  1.46\n",
       "3            Occupation_Working Professional  1.34\n",
       "2               Lead Source_Welingak Website  1.33\n",
       "6                    Tags_Closed by Horizzon  1.16\n",
       "10                              Tags_Ringing  1.08\n",
       "0                               Do Not Email  1.07\n",
       "4      Last Activity_Olark Chat Conversation  1.06\n",
       "5                     Tags_Already a student  1.03\n",
       "8           Tags_Interested in other courses  1.03\n",
       "9           Tags_Not doing further education  1.03\n",
       "12                         Tags_switched off  1.03\n",
       "7          Tags_Interested  in full time MBA  1.00"
      ]
     },
     "execution_count": 587,
     "metadata": {},
     "output_type": "execute_result"
    }
   ],
   "source": [
    "vif = pd.DataFrame()\n",
    "vif['Features'] = X_train[cols].columns\n",
    "vif['VIF'] = [variance_inflation_factor(X_train[cols].values, i) for i in range(X_train[cols].shape[1])]\n",
    "vif['VIF'] = round(vif['VIF'], 2)\n",
    "vif = vif.sort_values(by = \"VIF\", ascending = False)\n",
    "vif"
   ]
  },
  {
   "cell_type": "markdown",
   "id": "7e4fdbff",
   "metadata": {},
   "source": [
    "There is no high correlation between two variables, hence we will keep  above variables and evaluate the model"
   ]
  },
  {
   "cell_type": "code",
   "execution_count": 588,
   "id": "605177ce",
   "metadata": {
    "scrolled": false
   },
   "outputs": [
    {
     "data": {
      "text/plain": [
       "array([0.20923518, 0.99250523, 0.97722239, 0.20923518, 0.20923518,\n",
       "       0.70289652, 0.00371501, 0.07230978, 0.20923518, 0.06683047])"
      ]
     },
     "execution_count": 588,
     "metadata": {},
     "output_type": "execute_result"
    }
   ],
   "source": [
    "y_train_pred = res.predict(X_train_sm).values.reshape(-1)\n",
    "y_train_pred[:10]"
   ]
  },
  {
   "cell_type": "code",
   "execution_count": 589,
   "id": "1d7ee221",
   "metadata": {
    "scrolled": true
   },
   "outputs": [
    {
     "data": {
      "text/html": [
       "<div>\n",
       "<style scoped>\n",
       "    .dataframe tbody tr th:only-of-type {\n",
       "        vertical-align: middle;\n",
       "    }\n",
       "\n",
       "    .dataframe tbody tr th {\n",
       "        vertical-align: top;\n",
       "    }\n",
       "\n",
       "    .dataframe thead th {\n",
       "        text-align: right;\n",
       "    }\n",
       "</style>\n",
       "<table border=\"1\" class=\"dataframe\">\n",
       "  <thead>\n",
       "    <tr style=\"text-align: right;\">\n",
       "      <th></th>\n",
       "      <th>Converted_Actual</th>\n",
       "      <th>Converted_Pred</th>\n",
       "      <th>Lead Number</th>\n",
       "      <th>Predicted</th>\n",
       "    </tr>\n",
       "  </thead>\n",
       "  <tbody>\n",
       "    <tr>\n",
       "      <th>1372</th>\n",
       "      <td>0</td>\n",
       "      <td>0.209235</td>\n",
       "      <td>645517</td>\n",
       "      <td>0</td>\n",
       "    </tr>\n",
       "    <tr>\n",
       "      <th>1007</th>\n",
       "      <td>1</td>\n",
       "      <td>0.992505</td>\n",
       "      <td>649404</td>\n",
       "      <td>1</td>\n",
       "    </tr>\n",
       "    <tr>\n",
       "      <th>1397</th>\n",
       "      <td>1</td>\n",
       "      <td>0.977222</td>\n",
       "      <td>645352</td>\n",
       "      <td>1</td>\n",
       "    </tr>\n",
       "    <tr>\n",
       "      <th>7111</th>\n",
       "      <td>0</td>\n",
       "      <td>0.209235</td>\n",
       "      <td>594938</td>\n",
       "      <td>0</td>\n",
       "    </tr>\n",
       "    <tr>\n",
       "      <th>2535</th>\n",
       "      <td>0</td>\n",
       "      <td>0.209235</td>\n",
       "      <td>635337</td>\n",
       "      <td>0</td>\n",
       "    </tr>\n",
       "    <tr>\n",
       "      <th>...</th>\n",
       "      <td>...</td>\n",
       "      <td>...</td>\n",
       "      <td>...</td>\n",
       "      <td>...</td>\n",
       "    </tr>\n",
       "    <tr>\n",
       "      <th>756</th>\n",
       "      <td>0</td>\n",
       "      <td>0.209235</td>\n",
       "      <td>652616</td>\n",
       "      <td>0</td>\n",
       "    </tr>\n",
       "    <tr>\n",
       "      <th>9076</th>\n",
       "      <td>1</td>\n",
       "      <td>0.981716</td>\n",
       "      <td>580775</td>\n",
       "      <td>1</td>\n",
       "    </tr>\n",
       "    <tr>\n",
       "      <th>6689</th>\n",
       "      <td>0</td>\n",
       "      <td>0.008642</td>\n",
       "      <td>598507</td>\n",
       "      <td>0</td>\n",
       "    </tr>\n",
       "    <tr>\n",
       "      <th>4162</th>\n",
       "      <td>0</td>\n",
       "      <td>0.209235</td>\n",
       "      <td>620055</td>\n",
       "      <td>0</td>\n",
       "    </tr>\n",
       "    <tr>\n",
       "      <th>7399</th>\n",
       "      <td>0</td>\n",
       "      <td>0.003465</td>\n",
       "      <td>592728</td>\n",
       "      <td>0</td>\n",
       "    </tr>\n",
       "  </tbody>\n",
       "</table>\n",
       "<p>6267 rows × 4 columns</p>\n",
       "</div>"
      ],
      "text/plain": [
       "      Converted_Actual  Converted_Pred  Lead Number  Predicted\n",
       "1372                 0        0.209235       645517          0\n",
       "1007                 1        0.992505       649404          1\n",
       "1397                 1        0.977222       645352          1\n",
       "7111                 0        0.209235       594938          0\n",
       "2535                 0        0.209235       635337          0\n",
       "...                ...             ...          ...        ...\n",
       "756                  0        0.209235       652616          0\n",
       "9076                 1        0.981716       580775          1\n",
       "6689                 0        0.008642       598507          0\n",
       "4162                 0        0.209235       620055          0\n",
       "7399                 0        0.003465       592728          0\n",
       "\n",
       "[6267 rows x 4 columns]"
      ]
     },
     "execution_count": 589,
     "metadata": {},
     "output_type": "execute_result"
    }
   ],
   "source": [
    "df = pd.DataFrame({'Converted_Actual':y_train, 'Converted_Pred':y_train_pred})\n",
    "df['Lead Number'] = final_train_leads\n",
    "df['Predicted'] = df['Converted_Pred'].map(lambda x: 1 if x > 0.5 else 0)\n",
    "df"
   ]
  },
  {
   "cell_type": "markdown",
   "id": "fbde0c92",
   "metadata": {},
   "source": [
    "### Model evaluation on the train data"
   ]
  },
  {
   "cell_type": "code",
   "execution_count": 590,
   "id": "5f05f09c",
   "metadata": {},
   "outputs": [],
   "source": [
    "from sklearn import metrics\n",
    "from sklearn.metrics import accuracy_score, recall_score, precision_score, f1_score, roc_auc_score"
   ]
  },
  {
   "cell_type": "code",
   "execution_count": 591,
   "id": "8852de75",
   "metadata": {},
   "outputs": [
    {
     "name": "stdout",
     "output_type": "stream",
     "text": [
      "Accuracy:  0.9028243178554333\n",
      "Sensitivity/Recall:  0.8148148148148148\n",
      "Precision:  0.9197149643705463\n",
      "F1-Score:  0.8640928364204419\n",
      "ROC AUC Score:  0.8856906250892373\n"
     ]
    }
   ],
   "source": [
    "\n",
    "print(\"Accuracy: \", accuracy_score(df['Converted_Actual'], df['Predicted']))\n",
    "print(\"Sensitivity/Recall: \", recall_score(df['Converted_Actual'], df['Predicted']))\n",
    "print(\"Precision: \", precision_score(df['Converted_Actual'], df['Predicted']))\n",
    "print(\"F1-Score: \", f1_score(df['Converted_Actual'], df['Predicted']))\n",
    "print(\"ROC AUC Score: \", roc_auc_score(df['Converted_Actual'], df['Predicted']))"
   ]
  },
  {
   "cell_type": "code",
   "execution_count": 592,
   "id": "6c2b2350",
   "metadata": {},
   "outputs": [
    {
     "data": {
      "text/plain": [
       "array([[3722,  169],\n",
       "       [ 440, 1936]], dtype=int64)"
      ]
     },
     "execution_count": 592,
     "metadata": {},
     "output_type": "execute_result"
    }
   ],
   "source": [
    "confusion = metrics.confusion_matrix(df['Converted_Actual'], df['Predicted'])\n",
    "confusion"
   ]
  },
  {
   "cell_type": "code",
   "execution_count": 593,
   "id": "c6b20d92",
   "metadata": {},
   "outputs": [],
   "source": [
    "TN = confusion[0,0]\n",
    "FP = confusion[0,1]\n",
    "FN = confusion[1,0]\n",
    "TP = confusion[1,1]"
   ]
  },
  {
   "cell_type": "code",
   "execution_count": 594,
   "id": "d556a0d8",
   "metadata": {},
   "outputs": [
    {
     "data": {
      "text/plain": [
       "0.8148148148148148"
      ]
     },
     "execution_count": 594,
     "metadata": {},
     "output_type": "execute_result"
    }
   ],
   "source": [
    "#sensitivity\n",
    "TP / float(TP+FN)"
   ]
  },
  {
   "cell_type": "code",
   "execution_count": 595,
   "id": "744b0fee",
   "metadata": {},
   "outputs": [
    {
     "data": {
      "text/plain": [
       "0.9565664353636597"
      ]
     },
     "execution_count": 595,
     "metadata": {},
     "output_type": "execute_result"
    }
   ],
   "source": [
    "#specificity\n",
    "TN / float(TN+FP)"
   ]
  },
  {
   "cell_type": "code",
   "execution_count": 596,
   "id": "f7e3bc30",
   "metadata": {
    "scrolled": true
   },
   "outputs": [
    {
     "name": "stdout",
     "output_type": "stream",
     "text": [
      "0.9197149643705463\n"
     ]
    }
   ],
   "source": [
    "#Precision\n",
    "print (TP / float(TP+FP))"
   ]
  },
  {
   "cell_type": "markdown",
   "id": "cc42f2c0",
   "metadata": {},
   "source": [
    "### Plotting the ROC curve"
   ]
  },
  {
   "cell_type": "code",
   "execution_count": 597,
   "id": "a1896473",
   "metadata": {},
   "outputs": [],
   "source": [
    "def draw_roc( actual, probs ):\n",
    "    fpr, tpr, thresholds = metrics.roc_curve( actual, probs,\n",
    "                                              drop_intermediate = False )\n",
    "    auc_score = metrics.roc_auc_score( actual, probs )\n",
    "    plt.figure(figsize=(5, 5))\n",
    "    plt.plot( fpr, tpr, label='ROC curve (area = %0.2f)' % auc_score )\n",
    "    plt.plot([0, 1], [0, 1], 'k--')\n",
    "    plt.xlim([0.0, 1.0])\n",
    "    plt.ylim([0.0, 1.05])\n",
    "    plt.xlabel('False Positive Rate')\n",
    "    plt.ylabel('True Positive Rate')\n",
    "    plt.title('Receiver operating characteristic example')\n",
    "    plt.legend(loc=\"lower right\")\n",
    "    plt.show()\n",
    "\n",
    "    return None"
   ]
  },
  {
   "cell_type": "code",
   "execution_count": 598,
   "id": "9257500f",
   "metadata": {
    "scrolled": false
   },
   "outputs": [
    {
     "data": {
      "image/png": "[encoded data removed]",
      "text/plain": [
       "<Figure size 360x360 with 1 Axes>"
      ]
     },
     "metadata": {},
     "output_type": "display_data"
    }
   ],
   "source": [
    "draw_roc(df['Converted_Actual'], df['Predicted'])"
   ]
  },
  {
   "cell_type": "markdown",
   "id": "fece6e94",
   "metadata": {},
   "source": [
    "### Finding optimal cutoff point"
   ]
  },
  {
   "cell_type": "code",
   "execution_count": 599,
   "id": "e375b68b",
   "metadata": {
    "scrolled": true
   },
   "outputs": [
    {
     "data": {
      "text/html": [
       "<div>\n",
       "<style scoped>\n",
       "    .dataframe tbody tr th:only-of-type {\n",
       "        vertical-align: middle;\n",
       "    }\n",
       "\n",
       "    .dataframe tbody tr th {\n",
       "        vertical-align: top;\n",
       "    }\n",
       "\n",
       "    .dataframe thead th {\n",
       "        text-align: right;\n",
       "    }\n",
       "</style>\n",
       "<table border=\"1\" class=\"dataframe\">\n",
       "  <thead>\n",
       "    <tr style=\"text-align: right;\">\n",
       "      <th></th>\n",
       "      <th>Converted_Actual</th>\n",
       "      <th>Converted_Pred</th>\n",
       "      <th>Lead Number</th>\n",
       "      <th>Predicted</th>\n",
       "      <th>0.0</th>\n",
       "      <th>0.1</th>\n",
       "      <th>0.2</th>\n",
       "      <th>0.3</th>\n",
       "      <th>0.4</th>\n",
       "      <th>0.5</th>\n",
       "      <th>0.6</th>\n",
       "      <th>0.7</th>\n",
       "      <th>0.8</th>\n",
       "      <th>0.9</th>\n",
       "    </tr>\n",
       "  </thead>\n",
       "  <tbody>\n",
       "    <tr>\n",
       "      <th>1372</th>\n",
       "      <td>0</td>\n",
       "      <td>0.209235</td>\n",
       "      <td>645517</td>\n",
       "      <td>0</td>\n",
       "      <td>1</td>\n",
       "      <td>1</td>\n",
       "      <td>1</td>\n",
       "      <td>0</td>\n",
       "      <td>0</td>\n",
       "      <td>0</td>\n",
       "      <td>0</td>\n",
       "      <td>0</td>\n",
       "      <td>0</td>\n",
       "      <td>0</td>\n",
       "    </tr>\n",
       "    <tr>\n",
       "      <th>1007</th>\n",
       "      <td>1</td>\n",
       "      <td>0.992505</td>\n",
       "      <td>649404</td>\n",
       "      <td>1</td>\n",
       "      <td>1</td>\n",
       "      <td>1</td>\n",
       "      <td>1</td>\n",
       "      <td>1</td>\n",
       "      <td>1</td>\n",
       "      <td>1</td>\n",
       "      <td>1</td>\n",
       "      <td>1</td>\n",
       "      <td>1</td>\n",
       "      <td>1</td>\n",
       "    </tr>\n",
       "    <tr>\n",
       "      <th>1397</th>\n",
       "      <td>1</td>\n",
       "      <td>0.977222</td>\n",
       "      <td>645352</td>\n",
       "      <td>1</td>\n",
       "      <td>1</td>\n",
       "      <td>1</td>\n",
       "      <td>1</td>\n",
       "      <td>1</td>\n",
       "      <td>1</td>\n",
       "      <td>1</td>\n",
       "      <td>1</td>\n",
       "      <td>1</td>\n",
       "      <td>1</td>\n",
       "      <td>1</td>\n",
       "    </tr>\n",
       "    <tr>\n",
       "      <th>7111</th>\n",
       "      <td>0</td>\n",
       "      <td>0.209235</td>\n",
       "      <td>594938</td>\n",
       "      <td>0</td>\n",
       "      <td>1</td>\n",
       "      <td>1</td>\n",
       "      <td>1</td>\n",
       "      <td>0</td>\n",
       "      <td>0</td>\n",
       "      <td>0</td>\n",
       "      <td>0</td>\n",
       "      <td>0</td>\n",
       "      <td>0</td>\n",
       "      <td>0</td>\n",
       "    </tr>\n",
       "    <tr>\n",
       "      <th>2535</th>\n",
       "      <td>0</td>\n",
       "      <td>0.209235</td>\n",
       "      <td>635337</td>\n",
       "      <td>0</td>\n",
       "      <td>1</td>\n",
       "      <td>1</td>\n",
       "      <td>1</td>\n",
       "      <td>0</td>\n",
       "      <td>0</td>\n",
       "      <td>0</td>\n",
       "      <td>0</td>\n",
       "      <td>0</td>\n",
       "      <td>0</td>\n",
       "      <td>0</td>\n",
       "    </tr>\n",
       "  </tbody>\n",
       "</table>\n",
       "</div>"
      ],
      "text/plain": [
       "      Converted_Actual  Converted_Pred  Lead Number  Predicted  0.0  0.1  0.2  \\\n",
       "1372                 0        0.209235       645517          0    1    1    1   \n",
       "1007                 1        0.992505       649404          1    1    1    1   \n",
       "1397                 1        0.977222       645352          1    1    1    1   \n",
       "7111                 0        0.209235       594938          0    1    1    1   \n",
       "2535                 0        0.209235       635337          0    1    1    1   \n",
       "\n",
       "      0.3  0.4  0.5  0.6  0.7  0.8  0.9  \n",
       "1372    0    0    0    0    0    0    0  \n",
       "1007    1    1    1    1    1    1    1  \n",
       "1397    1    1    1    1    1    1    1  \n",
       "7111    0    0    0    0    0    0    0  \n",
       "2535    0    0    0    0    0    0    0  "
      ]
     },
     "execution_count": 599,
     "metadata": {},
     "output_type": "execute_result"
    }
   ],
   "source": [
    "nums = [float(i/10) for i in range(10)]\n",
    "\n",
    "for i in nums:\n",
    "    df[i] = df['Converted_Pred'].map(lambda x: 1 if x>i else 0)\n",
    "\n",
    "df.head()"
   ]
  },
  {
   "cell_type": "code",
   "execution_count": 600,
   "id": "e65af4d0",
   "metadata": {
    "scrolled": true
   },
   "outputs": [
    {
     "data": {
      "text/html": [
       "<div>\n",
       "<style scoped>\n",
       "    .dataframe tbody tr th:only-of-type {\n",
       "        vertical-align: middle;\n",
       "    }\n",
       "\n",
       "    .dataframe tbody tr th {\n",
       "        vertical-align: top;\n",
       "    }\n",
       "\n",
       "    .dataframe thead th {\n",
       "        text-align: right;\n",
       "    }\n",
       "</style>\n",
       "<table border=\"1\" class=\"dataframe\">\n",
       "  <thead>\n",
       "    <tr style=\"text-align: right;\">\n",
       "      <th></th>\n",
       "      <th>Prob</th>\n",
       "      <th>Accuracy</th>\n",
       "      <th>Sensitivity</th>\n",
       "      <th>Specificity</th>\n",
       "    </tr>\n",
       "  </thead>\n",
       "  <tbody>\n",
       "    <tr>\n",
       "      <th>0.0</th>\n",
       "      <td>0.0</td>\n",
       "      <td>0.379129</td>\n",
       "      <td>1.000000</td>\n",
       "      <td>0.000000</td>\n",
       "    </tr>\n",
       "    <tr>\n",
       "      <th>0.1</th>\n",
       "      <td>0.1</td>\n",
       "      <td>0.749960</td>\n",
       "      <td>0.969697</td>\n",
       "      <td>0.615780</td>\n",
       "    </tr>\n",
       "    <tr>\n",
       "      <th>0.2</th>\n",
       "      <td>0.2</td>\n",
       "      <td>0.749960</td>\n",
       "      <td>0.968855</td>\n",
       "      <td>0.616294</td>\n",
       "    </tr>\n",
       "    <tr>\n",
       "      <th>0.3</th>\n",
       "      <td>0.3</td>\n",
       "      <td>0.902984</td>\n",
       "      <td>0.825337</td>\n",
       "      <td>0.950398</td>\n",
       "    </tr>\n",
       "    <tr>\n",
       "      <th>0.4</th>\n",
       "      <td>0.4</td>\n",
       "      <td>0.903622</td>\n",
       "      <td>0.820286</td>\n",
       "      <td>0.954510</td>\n",
       "    </tr>\n",
       "    <tr>\n",
       "      <th>0.5</th>\n",
       "      <td>0.5</td>\n",
       "      <td>0.902824</td>\n",
       "      <td>0.814815</td>\n",
       "      <td>0.956566</td>\n",
       "    </tr>\n",
       "    <tr>\n",
       "      <th>0.6</th>\n",
       "      <td>0.6</td>\n",
       "      <td>0.902824</td>\n",
       "      <td>0.814815</td>\n",
       "      <td>0.956566</td>\n",
       "    </tr>\n",
       "    <tr>\n",
       "      <th>0.7</th>\n",
       "      <td>0.7</td>\n",
       "      <td>0.902186</td>\n",
       "      <td>0.813131</td>\n",
       "      <td>0.956566</td>\n",
       "    </tr>\n",
       "    <tr>\n",
       "      <th>0.8</th>\n",
       "      <td>0.8</td>\n",
       "      <td>0.872826</td>\n",
       "      <td>0.683081</td>\n",
       "      <td>0.988692</td>\n",
       "    </tr>\n",
       "    <tr>\n",
       "      <th>0.9</th>\n",
       "      <td>0.9</td>\n",
       "      <td>0.870592</td>\n",
       "      <td>0.675926</td>\n",
       "      <td>0.989463</td>\n",
       "    </tr>\n",
       "  </tbody>\n",
       "</table>\n",
       "</div>"
      ],
      "text/plain": [
       "     Prob  Accuracy  Sensitivity  Specificity\n",
       "0.0   0.0  0.379129     1.000000     0.000000\n",
       "0.1   0.1  0.749960     0.969697     0.615780\n",
       "0.2   0.2  0.749960     0.968855     0.616294\n",
       "0.3   0.3  0.902984     0.825337     0.950398\n",
       "0.4   0.4  0.903622     0.820286     0.954510\n",
       "0.5   0.5  0.902824     0.814815     0.956566\n",
       "0.6   0.6  0.902824     0.814815     0.956566\n",
       "0.7   0.7  0.902186     0.813131     0.956566\n",
       "0.8   0.8  0.872826     0.683081     0.988692\n",
       "0.9   0.9  0.870592     0.675926     0.989463"
      ]
     },
     "execution_count": 600,
     "metadata": {},
     "output_type": "execute_result"
    }
   ],
   "source": [
    "#lets calculate accuracy, sensitivity, specificity for various cutoffs\n",
    "\n",
    "cutoff_df = pd.DataFrame(columns=['Prob', 'Accuracy', 'Sensitivity', 'Specificity'])\n",
    "\n",
    "for i in nums:\n",
    "    c = metrics.confusion_matrix(df['Converted_Actual'], df[i])\n",
    "    accuracy = accuracy_score(df['Converted_Actual'], df[i])\n",
    "    sensitivity = recall_score(df['Converted_Actual'], df[i])\n",
    "    specificity = c[0,0]/(c[0,0]+c[0,1])\n",
    "    cutoff_df.loc[i] = [i, accuracy, sensitivity, specificity]\n",
    "    \n",
    "cutoff_df"
   ]
  },
  {
   "cell_type": "code",
   "execution_count": 601,
   "id": "c249f500",
   "metadata": {},
   "outputs": [
    {
     "data": {
      "image/png": "[encoded data removed]",
      "text/plain": [
       "<Figure size 432x288 with 1 Axes>"
      ]
     },
     "metadata": {},
     "output_type": "display_data"
    }
   ],
   "source": [
    "#plot accuracy, sensitivity and specificity for various cutoffs\n",
    "plt.style.use('ggplot')\n",
    "cutoff_df.plot(x='Prob',y=['Accuracy', 'Sensitivity', 'Specificity'])\n",
    "plt.show()"
   ]
  },
  {
   "cell_type": "markdown",
   "id": "80013147",
   "metadata": {},
   "source": [
    "From the above graph, we can take 0.3 as the optimum cutoff"
   ]
  },
  {
   "cell_type": "code",
   "execution_count": 602,
   "id": "fb4aba5e",
   "metadata": {
    "scrolled": true
   },
   "outputs": [
    {
     "data": {
      "text/html": [
       "<div>\n",
       "<style scoped>\n",
       "    .dataframe tbody tr th:only-of-type {\n",
       "        vertical-align: middle;\n",
       "    }\n",
       "\n",
       "    .dataframe tbody tr th {\n",
       "        vertical-align: top;\n",
       "    }\n",
       "\n",
       "    .dataframe thead th {\n",
       "        text-align: right;\n",
       "    }\n",
       "</style>\n",
       "<table border=\"1\" class=\"dataframe\">\n",
       "  <thead>\n",
       "    <tr style=\"text-align: right;\">\n",
       "      <th></th>\n",
       "      <th>Converted_Actual</th>\n",
       "      <th>Converted_Pred</th>\n",
       "      <th>Lead Number</th>\n",
       "      <th>Predicted</th>\n",
       "      <th>0.0</th>\n",
       "      <th>0.1</th>\n",
       "      <th>0.2</th>\n",
       "      <th>0.3</th>\n",
       "      <th>0.4</th>\n",
       "      <th>0.5</th>\n",
       "      <th>0.6</th>\n",
       "      <th>0.7</th>\n",
       "      <th>0.8</th>\n",
       "      <th>0.9</th>\n",
       "    </tr>\n",
       "  </thead>\n",
       "  <tbody>\n",
       "    <tr>\n",
       "      <th>1372</th>\n",
       "      <td>0</td>\n",
       "      <td>0.209235</td>\n",
       "      <td>645517</td>\n",
       "      <td>0</td>\n",
       "      <td>1</td>\n",
       "      <td>1</td>\n",
       "      <td>1</td>\n",
       "      <td>0</td>\n",
       "      <td>0</td>\n",
       "      <td>0</td>\n",
       "      <td>0</td>\n",
       "      <td>0</td>\n",
       "      <td>0</td>\n",
       "      <td>0</td>\n",
       "    </tr>\n",
       "    <tr>\n",
       "      <th>1007</th>\n",
       "      <td>1</td>\n",
       "      <td>0.992505</td>\n",
       "      <td>649404</td>\n",
       "      <td>1</td>\n",
       "      <td>1</td>\n",
       "      <td>1</td>\n",
       "      <td>1</td>\n",
       "      <td>1</td>\n",
       "      <td>1</td>\n",
       "      <td>1</td>\n",
       "      <td>1</td>\n",
       "      <td>1</td>\n",
       "      <td>1</td>\n",
       "      <td>1</td>\n",
       "    </tr>\n",
       "    <tr>\n",
       "      <th>1397</th>\n",
       "      <td>1</td>\n",
       "      <td>0.977222</td>\n",
       "      <td>645352</td>\n",
       "      <td>1</td>\n",
       "      <td>1</td>\n",
       "      <td>1</td>\n",
       "      <td>1</td>\n",
       "      <td>1</td>\n",
       "      <td>1</td>\n",
       "      <td>1</td>\n",
       "      <td>1</td>\n",
       "      <td>1</td>\n",
       "      <td>1</td>\n",
       "      <td>1</td>\n",
       "    </tr>\n",
       "    <tr>\n",
       "      <th>7111</th>\n",
       "      <td>0</td>\n",
       "      <td>0.209235</td>\n",
       "      <td>594938</td>\n",
       "      <td>0</td>\n",
       "      <td>1</td>\n",
       "      <td>1</td>\n",
       "      <td>1</td>\n",
       "      <td>0</td>\n",
       "      <td>0</td>\n",
       "      <td>0</td>\n",
       "      <td>0</td>\n",
       "      <td>0</td>\n",
       "      <td>0</td>\n",
       "      <td>0</td>\n",
       "    </tr>\n",
       "    <tr>\n",
       "      <th>2535</th>\n",
       "      <td>0</td>\n",
       "      <td>0.209235</td>\n",
       "      <td>635337</td>\n",
       "      <td>0</td>\n",
       "      <td>1</td>\n",
       "      <td>1</td>\n",
       "      <td>1</td>\n",
       "      <td>0</td>\n",
       "      <td>0</td>\n",
       "      <td>0</td>\n",
       "      <td>0</td>\n",
       "      <td>0</td>\n",
       "      <td>0</td>\n",
       "      <td>0</td>\n",
       "    </tr>\n",
       "    <tr>\n",
       "      <th>...</th>\n",
       "      <td>...</td>\n",
       "      <td>...</td>\n",
       "      <td>...</td>\n",
       "      <td>...</td>\n",
       "      <td>...</td>\n",
       "      <td>...</td>\n",
       "      <td>...</td>\n",
       "      <td>...</td>\n",
       "      <td>...</td>\n",
       "      <td>...</td>\n",
       "      <td>...</td>\n",
       "      <td>...</td>\n",
       "      <td>...</td>\n",
       "      <td>...</td>\n",
       "    </tr>\n",
       "    <tr>\n",
       "      <th>756</th>\n",
       "      <td>0</td>\n",
       "      <td>0.209235</td>\n",
       "      <td>652616</td>\n",
       "      <td>0</td>\n",
       "      <td>1</td>\n",
       "      <td>1</td>\n",
       "      <td>1</td>\n",
       "      <td>0</td>\n",
       "      <td>0</td>\n",
       "      <td>0</td>\n",
       "      <td>0</td>\n",
       "      <td>0</td>\n",
       "      <td>0</td>\n",
       "      <td>0</td>\n",
       "    </tr>\n",
       "    <tr>\n",
       "      <th>9076</th>\n",
       "      <td>1</td>\n",
       "      <td>0.981716</td>\n",
       "      <td>580775</td>\n",
       "      <td>1</td>\n",
       "      <td>1</td>\n",
       "      <td>1</td>\n",
       "      <td>1</td>\n",
       "      <td>1</td>\n",
       "      <td>1</td>\n",
       "      <td>1</td>\n",
       "      <td>1</td>\n",
       "      <td>1</td>\n",
       "      <td>1</td>\n",
       "      <td>1</td>\n",
       "    </tr>\n",
       "    <tr>\n",
       "      <th>6689</th>\n",
       "      <td>0</td>\n",
       "      <td>0.008642</td>\n",
       "      <td>598507</td>\n",
       "      <td>0</td>\n",
       "      <td>1</td>\n",
       "      <td>0</td>\n",
       "      <td>0</td>\n",
       "      <td>0</td>\n",
       "      <td>0</td>\n",
       "      <td>0</td>\n",
       "      <td>0</td>\n",
       "      <td>0</td>\n",
       "      <td>0</td>\n",
       "      <td>0</td>\n",
       "    </tr>\n",
       "    <tr>\n",
       "      <th>4162</th>\n",
       "      <td>0</td>\n",
       "      <td>0.209235</td>\n",
       "      <td>620055</td>\n",
       "      <td>0</td>\n",
       "      <td>1</td>\n",
       "      <td>1</td>\n",
       "      <td>1</td>\n",
       "      <td>0</td>\n",
       "      <td>0</td>\n",
       "      <td>0</td>\n",
       "      <td>0</td>\n",
       "      <td>0</td>\n",
       "      <td>0</td>\n",
       "      <td>0</td>\n",
       "    </tr>\n",
       "    <tr>\n",
       "      <th>7399</th>\n",
       "      <td>0</td>\n",
       "      <td>0.003465</td>\n",
       "      <td>592728</td>\n",
       "      <td>0</td>\n",
       "      <td>1</td>\n",
       "      <td>0</td>\n",
       "      <td>0</td>\n",
       "      <td>0</td>\n",
       "      <td>0</td>\n",
       "      <td>0</td>\n",
       "      <td>0</td>\n",
       "      <td>0</td>\n",
       "      <td>0</td>\n",
       "      <td>0</td>\n",
       "    </tr>\n",
       "  </tbody>\n",
       "</table>\n",
       "<p>6267 rows × 14 columns</p>\n",
       "</div>"
      ],
      "text/plain": [
       "      Converted_Actual  Converted_Pred  Lead Number  Predicted  0.0  0.1  0.2  \\\n",
       "1372                 0        0.209235       645517          0    1    1    1   \n",
       "1007                 1        0.992505       649404          1    1    1    1   \n",
       "1397                 1        0.977222       645352          1    1    1    1   \n",
       "7111                 0        0.209235       594938          0    1    1    1   \n",
       "2535                 0        0.209235       635337          0    1    1    1   \n",
       "...                ...             ...          ...        ...  ...  ...  ...   \n",
       "756                  0        0.209235       652616          0    1    1    1   \n",
       "9076                 1        0.981716       580775          1    1    1    1   \n",
       "6689                 0        0.008642       598507          0    1    0    0   \n",
       "4162                 0        0.209235       620055          0    1    1    1   \n",
       "7399                 0        0.003465       592728          0    1    0    0   \n",
       "\n",
       "      0.3  0.4  0.5  0.6  0.7  0.8  0.9  \n",
       "1372    0    0    0    0    0    0    0  \n",
       "1007    1    1    1    1    1    1    1  \n",
       "1397    1    1    1    1    1    1    1  \n",
       "7111    0    0    0    0    0    0    0  \n",
       "2535    0    0    0    0    0    0    0  \n",
       "...   ...  ...  ...  ...  ...  ...  ...  \n",
       "756     0    0    0    0    0    0    0  \n",
       "9076    1    1    1    1    1    1    1  \n",
       "6689    0    0    0    0    0    0    0  \n",
       "4162    0    0    0    0    0    0    0  \n",
       "7399    0    0    0    0    0    0    0  \n",
       "\n",
       "[6267 rows x 14 columns]"
      ]
     },
     "execution_count": 602,
     "metadata": {},
     "output_type": "execute_result"
    }
   ],
   "source": [
    "df['Predicted'] = df['Converted_Pred'].map(lambda x: 1 if x > 0.3 else 0)\n",
    "df"
   ]
  },
  {
   "cell_type": "code",
   "execution_count": 603,
   "id": "11c021fc",
   "metadata": {},
   "outputs": [
    {
     "name": "stdout",
     "output_type": "stream",
     "text": [
      "Accuracy:  0.9029838838359662\n",
      "Sensitivity/Recall:  0.8253367003367004\n",
      "Precision:  0.9103992571959145\n",
      "F1-Score:  0.865783664459161\n",
      "ROC AUC Score:  0.8878675277576588\n"
     ]
    }
   ],
   "source": [
    "\n",
    "print(\"Accuracy: \", accuracy_score(df['Converted_Actual'], df['Predicted']))\n",
    "print(\"Sensitivity/Recall: \", recall_score(df['Converted_Actual'], df['Predicted']))\n",
    "print(\"Precision: \", precision_score(df['Converted_Actual'], df['Predicted']))\n",
    "print(\"F1-Score: \", f1_score(df['Converted_Actual'], df['Predicted']))\n",
    "print(\"ROC AUC Score: \", roc_auc_score(df['Converted_Actual'], df['Predicted']))"
   ]
  },
  {
   "cell_type": "code",
   "execution_count": 604,
   "id": "716a2621",
   "metadata": {
    "scrolled": true
   },
   "outputs": [
    {
     "data": {
      "text/html": [
       "<div>\n",
       "<style scoped>\n",
       "    .dataframe tbody tr th:only-of-type {\n",
       "        vertical-align: middle;\n",
       "    }\n",
       "\n",
       "    .dataframe tbody tr th {\n",
       "        vertical-align: top;\n",
       "    }\n",
       "\n",
       "    .dataframe thead th {\n",
       "        text-align: right;\n",
       "    }\n",
       "</style>\n",
       "<table border=\"1\" class=\"dataframe\">\n",
       "  <thead>\n",
       "    <tr style=\"text-align: right;\">\n",
       "      <th></th>\n",
       "      <th>Converted_Actual</th>\n",
       "      <th>Converted_Pred</th>\n",
       "      <th>Lead Number</th>\n",
       "      <th>Predicted</th>\n",
       "    </tr>\n",
       "  </thead>\n",
       "  <tbody>\n",
       "    <tr>\n",
       "      <th>1372</th>\n",
       "      <td>0</td>\n",
       "      <td>0.209235</td>\n",
       "      <td>645517</td>\n",
       "      <td>0</td>\n",
       "    </tr>\n",
       "    <tr>\n",
       "      <th>1007</th>\n",
       "      <td>1</td>\n",
       "      <td>0.992505</td>\n",
       "      <td>649404</td>\n",
       "      <td>1</td>\n",
       "    </tr>\n",
       "    <tr>\n",
       "      <th>1397</th>\n",
       "      <td>1</td>\n",
       "      <td>0.977222</td>\n",
       "      <td>645352</td>\n",
       "      <td>1</td>\n",
       "    </tr>\n",
       "    <tr>\n",
       "      <th>7111</th>\n",
       "      <td>0</td>\n",
       "      <td>0.209235</td>\n",
       "      <td>594938</td>\n",
       "      <td>0</td>\n",
       "    </tr>\n",
       "    <tr>\n",
       "      <th>2535</th>\n",
       "      <td>0</td>\n",
       "      <td>0.209235</td>\n",
       "      <td>635337</td>\n",
       "      <td>0</td>\n",
       "    </tr>\n",
       "    <tr>\n",
       "      <th>...</th>\n",
       "      <td>...</td>\n",
       "      <td>...</td>\n",
       "      <td>...</td>\n",
       "      <td>...</td>\n",
       "    </tr>\n",
       "    <tr>\n",
       "      <th>756</th>\n",
       "      <td>0</td>\n",
       "      <td>0.209235</td>\n",
       "      <td>652616</td>\n",
       "      <td>0</td>\n",
       "    </tr>\n",
       "    <tr>\n",
       "      <th>9076</th>\n",
       "      <td>1</td>\n",
       "      <td>0.981716</td>\n",
       "      <td>580775</td>\n",
       "      <td>1</td>\n",
       "    </tr>\n",
       "    <tr>\n",
       "      <th>6689</th>\n",
       "      <td>0</td>\n",
       "      <td>0.008642</td>\n",
       "      <td>598507</td>\n",
       "      <td>0</td>\n",
       "    </tr>\n",
       "    <tr>\n",
       "      <th>4162</th>\n",
       "      <td>0</td>\n",
       "      <td>0.209235</td>\n",
       "      <td>620055</td>\n",
       "      <td>0</td>\n",
       "    </tr>\n",
       "    <tr>\n",
       "      <th>7399</th>\n",
       "      <td>0</td>\n",
       "      <td>0.003465</td>\n",
       "      <td>592728</td>\n",
       "      <td>0</td>\n",
       "    </tr>\n",
       "  </tbody>\n",
       "</table>\n",
       "<p>6267 rows × 4 columns</p>\n",
       "</div>"
      ],
      "text/plain": [
       "      Converted_Actual  Converted_Pred  Lead Number  Predicted\n",
       "1372                 0        0.209235       645517          0\n",
       "1007                 1        0.992505       649404          1\n",
       "1397                 1        0.977222       645352          1\n",
       "7111                 0        0.209235       594938          0\n",
       "2535                 0        0.209235       635337          0\n",
       "...                ...             ...          ...        ...\n",
       "756                  0        0.209235       652616          0\n",
       "9076                 1        0.981716       580775          1\n",
       "6689                 0        0.008642       598507          0\n",
       "4162                 0        0.209235       620055          0\n",
       "7399                 0        0.003465       592728          0\n",
       "\n",
       "[6267 rows x 4 columns]"
      ]
     },
     "execution_count": 604,
     "metadata": {},
     "output_type": "execute_result"
    }
   ],
   "source": [
    "for i in nums:\n",
    "    df.drop(i, 1, inplace=True)\n",
    "\n",
    "df"
   ]
  },
  {
   "cell_type": "code",
   "execution_count": 605,
   "id": "44ac5928",
   "metadata": {
    "scrolled": true
   },
   "outputs": [
    {
     "data": {
      "text/html": [
       "<div>\n",
       "<style scoped>\n",
       "    .dataframe tbody tr th:only-of-type {\n",
       "        vertical-align: middle;\n",
       "    }\n",
       "\n",
       "    .dataframe tbody tr th {\n",
       "        vertical-align: top;\n",
       "    }\n",
       "\n",
       "    .dataframe thead th {\n",
       "        text-align: right;\n",
       "    }\n",
       "</style>\n",
       "<table border=\"1\" class=\"dataframe\">\n",
       "  <thead>\n",
       "    <tr style=\"text-align: right;\">\n",
       "      <th></th>\n",
       "      <th>Converted_Actual</th>\n",
       "      <th>Converted_Pred</th>\n",
       "      <th>Lead Number</th>\n",
       "      <th>Predicted</th>\n",
       "      <th>Lead Score</th>\n",
       "    </tr>\n",
       "  </thead>\n",
       "  <tbody>\n",
       "    <tr>\n",
       "      <th>1372</th>\n",
       "      <td>0</td>\n",
       "      <td>0.209235</td>\n",
       "      <td>645517</td>\n",
       "      <td>0</td>\n",
       "      <td>21.0</td>\n",
       "    </tr>\n",
       "    <tr>\n",
       "      <th>1007</th>\n",
       "      <td>1</td>\n",
       "      <td>0.992505</td>\n",
       "      <td>649404</td>\n",
       "      <td>1</td>\n",
       "      <td>99.0</td>\n",
       "    </tr>\n",
       "    <tr>\n",
       "      <th>1397</th>\n",
       "      <td>1</td>\n",
       "      <td>0.977222</td>\n",
       "      <td>645352</td>\n",
       "      <td>1</td>\n",
       "      <td>98.0</td>\n",
       "    </tr>\n",
       "    <tr>\n",
       "      <th>7111</th>\n",
       "      <td>0</td>\n",
       "      <td>0.209235</td>\n",
       "      <td>594938</td>\n",
       "      <td>0</td>\n",
       "      <td>21.0</td>\n",
       "    </tr>\n",
       "    <tr>\n",
       "      <th>2535</th>\n",
       "      <td>0</td>\n",
       "      <td>0.209235</td>\n",
       "      <td>635337</td>\n",
       "      <td>0</td>\n",
       "      <td>21.0</td>\n",
       "    </tr>\n",
       "    <tr>\n",
       "      <th>...</th>\n",
       "      <td>...</td>\n",
       "      <td>...</td>\n",
       "      <td>...</td>\n",
       "      <td>...</td>\n",
       "      <td>...</td>\n",
       "    </tr>\n",
       "    <tr>\n",
       "      <th>756</th>\n",
       "      <td>0</td>\n",
       "      <td>0.209235</td>\n",
       "      <td>652616</td>\n",
       "      <td>0</td>\n",
       "      <td>21.0</td>\n",
       "    </tr>\n",
       "    <tr>\n",
       "      <th>9076</th>\n",
       "      <td>1</td>\n",
       "      <td>0.981716</td>\n",
       "      <td>580775</td>\n",
       "      <td>1</td>\n",
       "      <td>98.0</td>\n",
       "    </tr>\n",
       "    <tr>\n",
       "      <th>6689</th>\n",
       "      <td>0</td>\n",
       "      <td>0.008642</td>\n",
       "      <td>598507</td>\n",
       "      <td>0</td>\n",
       "      <td>1.0</td>\n",
       "    </tr>\n",
       "    <tr>\n",
       "      <th>4162</th>\n",
       "      <td>0</td>\n",
       "      <td>0.209235</td>\n",
       "      <td>620055</td>\n",
       "      <td>0</td>\n",
       "      <td>21.0</td>\n",
       "    </tr>\n",
       "    <tr>\n",
       "      <th>7399</th>\n",
       "      <td>0</td>\n",
       "      <td>0.003465</td>\n",
       "      <td>592728</td>\n",
       "      <td>0</td>\n",
       "      <td>0.0</td>\n",
       "    </tr>\n",
       "  </tbody>\n",
       "</table>\n",
       "<p>6267 rows × 5 columns</p>\n",
       "</div>"
      ],
      "text/plain": [
       "      Converted_Actual  Converted_Pred  Lead Number  Predicted  Lead Score\n",
       "1372                 0        0.209235       645517          0        21.0\n",
       "1007                 1        0.992505       649404          1        99.0\n",
       "1397                 1        0.977222       645352          1        98.0\n",
       "7111                 0        0.209235       594938          0        21.0\n",
       "2535                 0        0.209235       635337          0        21.0\n",
       "...                ...             ...          ...        ...         ...\n",
       "756                  0        0.209235       652616          0        21.0\n",
       "9076                 1        0.981716       580775          1        98.0\n",
       "6689                 0        0.008642       598507          0         1.0\n",
       "4162                 0        0.209235       620055          0        21.0\n",
       "7399                 0        0.003465       592728          0         0.0\n",
       "\n",
       "[6267 rows x 5 columns]"
      ]
     },
     "execution_count": 605,
     "metadata": {},
     "output_type": "execute_result"
    }
   ],
   "source": [
    "#Adding column for Lead Score\n",
    "df['Lead Score'] = round(df['Converted_Pred'],2)*100\n",
    "df"
   ]
  },
  {
   "cell_type": "code",
   "execution_count": 606,
   "id": "322af7e1",
   "metadata": {},
   "outputs": [
    {
     "data": {
      "text/plain": [
       "0.9503983551786174"
      ]
     },
     "execution_count": 606,
     "metadata": {},
     "output_type": "execute_result"
    }
   ],
   "source": [
    "confusion = metrics.confusion_matrix(df['Converted_Actual'], df['Predicted'])\n",
    "\n",
    "specificity = confusion[0,0]/(confusion[0,0]+confusion[0,1])\n",
    "\n",
    "specificity"
   ]
  },
  {
   "cell_type": "code",
   "execution_count": 607,
   "id": "172f21c8",
   "metadata": {},
   "outputs": [
    {
     "data": {
      "text/plain": [
       "array([[3698,  193],\n",
       "       [ 415, 1961]], dtype=int64)"
      ]
     },
     "execution_count": 607,
     "metadata": {},
     "output_type": "execute_result"
    }
   ],
   "source": [
    "confusion"
   ]
  },
  {
   "cell_type": "markdown",
   "id": "1b59a1a4",
   "metadata": {},
   "source": [
    "From the above data, we can see that model is performing well.\n",
    "- Accuracy = 90.29%\n",
    "- Sensitivity/Recall = 82.53%\n",
    "- Specificity = 95.03%\n",
    "- Precision = 91.03%\n",
    "- F1-Score = 86.57%\n",
    "- ROC AUC Score = 0.8878\n"
   ]
  },
  {
   "cell_type": "markdown",
   "id": "65f2de6e",
   "metadata": {},
   "source": [
    "### Scaling Test Data"
   ]
  },
  {
   "cell_type": "code",
   "execution_count": 608,
   "id": "dd8437df",
   "metadata": {
    "scrolled": true
   },
   "outputs": [
    {
     "data": {
      "text/html": [
       "<div>\n",
       "<style scoped>\n",
       "    .dataframe tbody tr th:only-of-type {\n",
       "        vertical-align: middle;\n",
       "    }\n",
       "\n",
       "    .dataframe tbody tr th {\n",
       "        vertical-align: top;\n",
       "    }\n",
       "\n",
       "    .dataframe thead th {\n",
       "        text-align: right;\n",
       "    }\n",
       "</style>\n",
       "<table border=\"1\" class=\"dataframe\">\n",
       "  <thead>\n",
       "    <tr style=\"text-align: right;\">\n",
       "      <th></th>\n",
       "      <th>Do Not Email</th>\n",
       "      <th>TotalVisits</th>\n",
       "      <th>Total Time Spent on Website</th>\n",
       "      <th>Page Views Per Visit</th>\n",
       "      <th>A free copy of Mastering The Interview</th>\n",
       "      <th>Lead Origin_Landing Page Submission</th>\n",
       "      <th>Lead Origin_Lead Add Form</th>\n",
       "      <th>Lead Origin_Lead Import</th>\n",
       "      <th>Lead Source_Direct Traffic</th>\n",
       "      <th>Lead Source_Facebook</th>\n",
       "      <th>...</th>\n",
       "      <th>Tags_Will revert after reading the email</th>\n",
       "      <th>Tags_switched off</th>\n",
       "      <th>Last Notable Activity_Email Bounced</th>\n",
       "      <th>Last Notable Activity_Email Link Clicked</th>\n",
       "      <th>Last Notable Activity_Email Opened</th>\n",
       "      <th>Last Notable Activity_Modified</th>\n",
       "      <th>Last Notable Activity_Olark Chat Conversation</th>\n",
       "      <th>Last Notable Activity_Page Visited on Website</th>\n",
       "      <th>Last Notable Activity_SMS Sent</th>\n",
       "      <th>Last Notable Activity_Unsubscribed</th>\n",
       "    </tr>\n",
       "  </thead>\n",
       "  <tbody>\n",
       "    <tr>\n",
       "      <th>9149</th>\n",
       "      <td>0</td>\n",
       "      <td>-0.051427</td>\n",
       "      <td>-0.785980</td>\n",
       "      <td>0.395438</td>\n",
       "      <td>0</td>\n",
       "      <td>1</td>\n",
       "      <td>0</td>\n",
       "      <td>0</td>\n",
       "      <td>0</td>\n",
       "      <td>0</td>\n",
       "      <td>...</td>\n",
       "      <td>1</td>\n",
       "      <td>0</td>\n",
       "      <td>0</td>\n",
       "      <td>0</td>\n",
       "      <td>0</td>\n",
       "      <td>1</td>\n",
       "      <td>0</td>\n",
       "      <td>0</td>\n",
       "      <td>0</td>\n",
       "      <td>0</td>\n",
       "    </tr>\n",
       "    <tr>\n",
       "      <th>4123</th>\n",
       "      <td>0</td>\n",
       "      <td>0.979364</td>\n",
       "      <td>2.468207</td>\n",
       "      <td>-0.136693</td>\n",
       "      <td>1</td>\n",
       "      <td>0</td>\n",
       "      <td>1</td>\n",
       "      <td>0</td>\n",
       "      <td>0</td>\n",
       "      <td>0</td>\n",
       "      <td>...</td>\n",
       "      <td>0</td>\n",
       "      <td>0</td>\n",
       "      <td>0</td>\n",
       "      <td>0</td>\n",
       "      <td>0</td>\n",
       "      <td>0</td>\n",
       "      <td>0</td>\n",
       "      <td>1</td>\n",
       "      <td>0</td>\n",
       "      <td>0</td>\n",
       "    </tr>\n",
       "    <tr>\n",
       "      <th>1725</th>\n",
       "      <td>0</td>\n",
       "      <td>-0.395024</td>\n",
       "      <td>-0.732512</td>\n",
       "      <td>-0.136693</td>\n",
       "      <td>1</td>\n",
       "      <td>1</td>\n",
       "      <td>0</td>\n",
       "      <td>0</td>\n",
       "      <td>1</td>\n",
       "      <td>0</td>\n",
       "      <td>...</td>\n",
       "      <td>0</td>\n",
       "      <td>0</td>\n",
       "      <td>0</td>\n",
       "      <td>0</td>\n",
       "      <td>1</td>\n",
       "      <td>0</td>\n",
       "      <td>0</td>\n",
       "      <td>0</td>\n",
       "      <td>0</td>\n",
       "      <td>0</td>\n",
       "    </tr>\n",
       "    <tr>\n",
       "      <th>3194</th>\n",
       "      <td>0</td>\n",
       "      <td>-1.082219</td>\n",
       "      <td>-0.872636</td>\n",
       "      <td>-1.200957</td>\n",
       "      <td>0</td>\n",
       "      <td>0</td>\n",
       "      <td>1</td>\n",
       "      <td>0</td>\n",
       "      <td>0</td>\n",
       "      <td>0</td>\n",
       "      <td>...</td>\n",
       "      <td>1</td>\n",
       "      <td>0</td>\n",
       "      <td>0</td>\n",
       "      <td>0</td>\n",
       "      <td>1</td>\n",
       "      <td>0</td>\n",
       "      <td>0</td>\n",
       "      <td>0</td>\n",
       "      <td>0</td>\n",
       "      <td>0</td>\n",
       "    </tr>\n",
       "    <tr>\n",
       "      <th>6161</th>\n",
       "      <td>0</td>\n",
       "      <td>-0.051427</td>\n",
       "      <td>-0.706700</td>\n",
       "      <td>0.395438</td>\n",
       "      <td>1</td>\n",
       "      <td>1</td>\n",
       "      <td>0</td>\n",
       "      <td>0</td>\n",
       "      <td>1</td>\n",
       "      <td>0</td>\n",
       "      <td>...</td>\n",
       "      <td>0</td>\n",
       "      <td>0</td>\n",
       "      <td>0</td>\n",
       "      <td>1</td>\n",
       "      <td>0</td>\n",
       "      <td>0</td>\n",
       "      <td>0</td>\n",
       "      <td>0</td>\n",
       "      <td>0</td>\n",
       "      <td>0</td>\n",
       "    </tr>\n",
       "  </tbody>\n",
       "</table>\n",
       "<p>5 rows × 65 columns</p>\n",
       "</div>"
      ],
      "text/plain": [
       "      Do Not Email  TotalVisits  Total Time Spent on Website  \\\n",
       "9149             0    -0.051427                    -0.785980   \n",
       "4123             0     0.979364                     2.468207   \n",
       "1725             0    -0.395024                    -0.732512   \n",
       "3194             0    -1.082219                    -0.872636   \n",
       "6161             0    -0.051427                    -0.706700   \n",
       "\n",
       "      Page Views Per Visit  A free copy of Mastering The Interview  \\\n",
       "9149              0.395438                                       0   \n",
       "4123             -0.136693                                       1   \n",
       "1725             -0.136693                                       1   \n",
       "3194             -1.200957                                       0   \n",
       "6161              0.395438                                       1   \n",
       "\n",
       "      Lead Origin_Landing Page Submission  Lead Origin_Lead Add Form  \\\n",
       "9149                                    1                          0   \n",
       "4123                                    0                          1   \n",
       "1725                                    1                          0   \n",
       "3194                                    0                          1   \n",
       "6161                                    1                          0   \n",
       "\n",
       "      Lead Origin_Lead Import  Lead Source_Direct Traffic  \\\n",
       "9149                        0                           0   \n",
       "4123                        0                           0   \n",
       "1725                        0                           1   \n",
       "3194                        0                           0   \n",
       "6161                        0                           1   \n",
       "\n",
       "      Lead Source_Facebook  ...  Tags_Will revert after reading the email  \\\n",
       "9149                     0  ...                                         1   \n",
       "4123                     0  ...                                         0   \n",
       "1725                     0  ...                                         0   \n",
       "3194                     0  ...                                         1   \n",
       "6161                     0  ...                                         0   \n",
       "\n",
       "      Tags_switched off  Last Notable Activity_Email Bounced  \\\n",
       "9149                  0                                    0   \n",
       "4123                  0                                    0   \n",
       "1725                  0                                    0   \n",
       "3194                  0                                    0   \n",
       "6161                  0                                    0   \n",
       "\n",
       "      Last Notable Activity_Email Link Clicked  \\\n",
       "9149                                         0   \n",
       "4123                                         0   \n",
       "1725                                         0   \n",
       "3194                                         0   \n",
       "6161                                         1   \n",
       "\n",
       "      Last Notable Activity_Email Opened  Last Notable Activity_Modified  \\\n",
       "9149                                   0                               1   \n",
       "4123                                   0                               0   \n",
       "1725                                   1                               0   \n",
       "3194                                   1                               0   \n",
       "6161                                   0                               0   \n",
       "\n",
       "      Last Notable Activity_Olark Chat Conversation  \\\n",
       "9149                                              0   \n",
       "4123                                              0   \n",
       "1725                                              0   \n",
       "3194                                              0   \n",
       "6161                                              0   \n",
       "\n",
       "      Last Notable Activity_Page Visited on Website  \\\n",
       "9149                                              0   \n",
       "4123                                              1   \n",
       "1725                                              0   \n",
       "3194                                              0   \n",
       "6161                                              0   \n",
       "\n",
       "      Last Notable Activity_SMS Sent  Last Notable Activity_Unsubscribed  \n",
       "9149                               0                                   0  \n",
       "4123                               0                                   0  \n",
       "1725                               0                                   0  \n",
       "3194                               0                                   0  \n",
       "6161                               0                                   0  \n",
       "\n",
       "[5 rows x 65 columns]"
      ]
     },
     "execution_count": 608,
     "metadata": {},
     "output_type": "execute_result"
    }
   ],
   "source": [
    "X_test[num_cols] = scaler.transform(X_test[num_cols])\n",
    "X_test.head()"
   ]
  },
  {
   "cell_type": "code",
   "execution_count": 609,
   "id": "462382a7",
   "metadata": {
    "scrolled": true
   },
   "outputs": [
    {
     "data": {
      "text/plain": [
       "9149    0.936752\n",
       "4123    0.997609\n",
       "1725    0.209235\n",
       "3194    0.980046\n",
       "6161    0.008642\n",
       "          ...   \n",
       "1533    0.209235\n",
       "3817    0.997921\n",
       "7980    0.209235\n",
       "8588    0.936752\n",
       "8811    0.209235\n",
       "Length: 2686, dtype: float64"
      ]
     },
     "execution_count": 609,
     "metadata": {},
     "output_type": "execute_result"
    }
   ],
   "source": [
    "X_test_sm = sm.add_constant(X_test[cols])\n",
    "y_test_pred = res.predict(X_test_sm)\n",
    "y_test_pred"
   ]
  },
  {
   "cell_type": "code",
   "execution_count": 610,
   "id": "c5e786ea",
   "metadata": {
    "scrolled": true
   },
   "outputs": [
    {
     "data": {
      "text/html": [
       "<div>\n",
       "<style scoped>\n",
       "    .dataframe tbody tr th:only-of-type {\n",
       "        vertical-align: middle;\n",
       "    }\n",
       "\n",
       "    .dataframe tbody tr th {\n",
       "        vertical-align: top;\n",
       "    }\n",
       "\n",
       "    .dataframe thead th {\n",
       "        text-align: right;\n",
       "    }\n",
       "</style>\n",
       "<table border=\"1\" class=\"dataframe\">\n",
       "  <thead>\n",
       "    <tr style=\"text-align: right;\">\n",
       "      <th></th>\n",
       "      <th>Converted_Pred</th>\n",
       "      <th>Converted_Actual</th>\n",
       "      <th>Lead Number</th>\n",
       "      <th>Predicted</th>\n",
       "    </tr>\n",
       "  </thead>\n",
       "  <tbody>\n",
       "    <tr>\n",
       "      <th>9149</th>\n",
       "      <td>0.936752</td>\n",
       "      <td>1</td>\n",
       "      <td>580303</td>\n",
       "      <td>1</td>\n",
       "    </tr>\n",
       "    <tr>\n",
       "      <th>4123</th>\n",
       "      <td>0.997609</td>\n",
       "      <td>1</td>\n",
       "      <td>620454</td>\n",
       "      <td>1</td>\n",
       "    </tr>\n",
       "    <tr>\n",
       "      <th>1725</th>\n",
       "      <td>0.209235</td>\n",
       "      <td>0</td>\n",
       "      <td>642574</td>\n",
       "      <td>0</td>\n",
       "    </tr>\n",
       "    <tr>\n",
       "      <th>3194</th>\n",
       "      <td>0.980046</td>\n",
       "      <td>1</td>\n",
       "      <td>629447</td>\n",
       "      <td>1</td>\n",
       "    </tr>\n",
       "    <tr>\n",
       "      <th>6161</th>\n",
       "      <td>0.008642</td>\n",
       "      <td>0</td>\n",
       "      <td>602520</td>\n",
       "      <td>0</td>\n",
       "    </tr>\n",
       "    <tr>\n",
       "      <th>...</th>\n",
       "      <td>...</td>\n",
       "      <td>...</td>\n",
       "      <td>...</td>\n",
       "      <td>...</td>\n",
       "    </tr>\n",
       "    <tr>\n",
       "      <th>1533</th>\n",
       "      <td>0.209235</td>\n",
       "      <td>0</td>\n",
       "      <td>644117</td>\n",
       "      <td>0</td>\n",
       "    </tr>\n",
       "    <tr>\n",
       "      <th>3817</th>\n",
       "      <td>0.997921</td>\n",
       "      <td>1</td>\n",
       "      <td>623471</td>\n",
       "      <td>1</td>\n",
       "    </tr>\n",
       "    <tr>\n",
       "      <th>7980</th>\n",
       "      <td>0.209235</td>\n",
       "      <td>0</td>\n",
       "      <td>588664</td>\n",
       "      <td>0</td>\n",
       "    </tr>\n",
       "    <tr>\n",
       "      <th>8588</th>\n",
       "      <td>0.936752</td>\n",
       "      <td>0</td>\n",
       "      <td>584237</td>\n",
       "      <td>1</td>\n",
       "    </tr>\n",
       "    <tr>\n",
       "      <th>8811</th>\n",
       "      <td>0.209235</td>\n",
       "      <td>0</td>\n",
       "      <td>582647</td>\n",
       "      <td>0</td>\n",
       "    </tr>\n",
       "  </tbody>\n",
       "</table>\n",
       "<p>2686 rows × 4 columns</p>\n",
       "</div>"
      ],
      "text/plain": [
       "      Converted_Pred  Converted_Actual  Lead Number  Predicted\n",
       "9149        0.936752                 1       580303          1\n",
       "4123        0.997609                 1       620454          1\n",
       "1725        0.209235                 0       642574          0\n",
       "3194        0.980046                 1       629447          1\n",
       "6161        0.008642                 0       602520          0\n",
       "...              ...               ...          ...        ...\n",
       "1533        0.209235                 0       644117          0\n",
       "3817        0.997921                 1       623471          1\n",
       "7980        0.209235                 0       588664          0\n",
       "8588        0.936752                 0       584237          1\n",
       "8811        0.209235                 0       582647          0\n",
       "\n",
       "[2686 rows x 4 columns]"
      ]
     },
     "execution_count": 610,
     "metadata": {},
     "output_type": "execute_result"
    }
   ],
   "source": [
    "df_test = pd.DataFrame()\n",
    "df_test['Converted_Pred'] = y_test_pred\n",
    "df_test['Converted_Actual'] = y_test\n",
    "df_test['Lead Number'] = final_test_leads\n",
    "df_test['Predicted'] = df_test['Converted_Pred'].map(lambda x: 1 if x > 0.3 else 0)\n",
    "df_test"
   ]
  },
  {
   "cell_type": "code",
   "execution_count": 611,
   "id": "f8843007",
   "metadata": {},
   "outputs": [
    {
     "data": {
      "text/plain": [
       "0.9054355919583023"
      ]
     },
     "execution_count": 611,
     "metadata": {},
     "output_type": "execute_result"
    }
   ],
   "source": [
    "#accuracy\n",
    "metrics.accuracy_score(df_test['Converted_Actual'], df_test['Predicted'])"
   ]
  },
  {
   "cell_type": "code",
   "execution_count": 612,
   "id": "90f506db",
   "metadata": {
    "scrolled": true
   },
   "outputs": [
    {
     "data": {
      "text/plain": [
       "0.8351324828263003"
      ]
     },
     "execution_count": 612,
     "metadata": {},
     "output_type": "execute_result"
    }
   ],
   "source": [
    "#recall/sensitivity\n",
    "metrics.recall_score(df_test['Converted_Actual'], df_test['Predicted'])"
   ]
  },
  {
   "cell_type": "code",
   "execution_count": 613,
   "id": "ed2a6651",
   "metadata": {
    "scrolled": true
   },
   "outputs": [
    {
     "data": {
      "text/plain": [
       "0.9082177161152615"
      ]
     },
     "execution_count": 613,
     "metadata": {},
     "output_type": "execute_result"
    }
   ],
   "source": [
    "#precision\n",
    "metrics.precision_score(df_test['Converted_Actual'], df_test['Predicted'])"
   ]
  },
  {
   "cell_type": "code",
   "execution_count": 614,
   "id": "321069f0",
   "metadata": {},
   "outputs": [
    {
     "data": {
      "text/plain": [
       "0.8701431492842535"
      ]
     },
     "execution_count": 614,
     "metadata": {},
     "output_type": "execute_result"
    }
   ],
   "source": [
    "#F1-score\n",
    "metrics.f1_score(df_test['Converted_Actual'], df_test['Predicted'])"
   ]
  },
  {
   "cell_type": "code",
   "execution_count": 615,
   "id": "9ecfb569",
   "metadata": {},
   "outputs": [
    {
     "data": {
      "text/plain": [
       "0.8917714003813565"
      ]
     },
     "execution_count": 615,
     "metadata": {},
     "output_type": "execute_result"
    }
   ],
   "source": [
    "#Area under ROC curve\n",
    "metrics.roc_auc_score(df_test['Converted_Actual'], df_test['Predicted'])"
   ]
  },
  {
   "cell_type": "code",
   "execution_count": 616,
   "id": "db8ddf2f",
   "metadata": {},
   "outputs": [
    {
     "data": {
      "text/plain": [
       "0.9484103179364127"
      ]
     },
     "execution_count": 616,
     "metadata": {},
     "output_type": "execute_result"
    }
   ],
   "source": [
    "#specificity\n",
    "c = metrics.confusion_matrix(df_test['Converted_Actual'], df_test['Predicted'])\n",
    "\n",
    "specificity = c[0,0]/(c[0,0] + c[0,1])\n",
    "\n",
    "specificity"
   ]
  },
  {
   "cell_type": "code",
   "execution_count": 617,
   "id": "8d601d88",
   "metadata": {},
   "outputs": [
    {
     "data": {
      "text/plain": [
       "array([[1581,   86],\n",
       "       [ 168,  851]], dtype=int64)"
      ]
     },
     "execution_count": 617,
     "metadata": {},
     "output_type": "execute_result"
    }
   ],
   "source": [
    "c"
   ]
  },
  {
   "cell_type": "markdown",
   "id": "44b5102a",
   "metadata": {},
   "source": [
    "### Train Data\n",
    "- Accuracy = 90.29%\n",
    "- Sensitivity/Recall = 82.53%\n",
    "- Specificity = 95.03%\n",
    "- Precision = 91.03%\n",
    "- F1-Score = 86.57%\n",
    "- ROC AUC Score = 88.78%\n",
    "\n",
    "### Test Data\n",
    "- Accuracy = 90.54%\n",
    "- Sensitivity/Recall = 83.51%\n",
    "- Specificity = 94.84%\n",
    "- Precision = 90.82%\n",
    "- F1-Score = 87.01%\n",
    "- ROC AUC Score = 0.8917\n",
    "\n"
   ]
  }
 ],
 "metadata": {
  "kernelspec": {
   "display_name": "Python 3",
   "language": "python",
   "name": "python3"
  },
  "language_info": {
   "codemirror_mode": {
    "name": "ipython",
    "version": 3
   },
   "file_extension": ".py",
   "mimetype": "text/x-python",
   "name": "python",
   "nbconvert_exporter": "python",
   "pygments_lexer": "ipython3",
   "version": "3.8.8"
  }
 },
 "nbformat": 4,
 "nbformat_minor": 5
}
